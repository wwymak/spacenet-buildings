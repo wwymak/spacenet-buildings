{
 "cells": [
  {
   "cell_type": "markdown",
   "metadata": {},
   "source": [
    "Now that we've figured out more or less how to go from model to mask file, it would be nice to be able to run the predictions on all the validation files.Therefore, lets' redo the validation folder images so that they are in neat slices ready for reassembling"
   ]
  },
  {
   "cell_type": "markdown",
   "metadata": {},
   "source": [
    "#### Imports"
   ]
  },
  {
   "cell_type": "code",
   "execution_count": 95,
   "metadata": {},
   "outputs": [],
   "source": [
    "from fastai.imports import *\n",
    "from fastai.vision import *\n",
    "from fastai.metrics import dice\n",
    "from fastai.callbacks import *\n",
    "import tifffile as tiff\n",
    "from tqdm import tqdm\n",
    "from skimage.external import tifffile as sktif\n",
    "from joblib import Parallel, delayed\n",
    "import torch.nn.functional as F\n",
    "import torch\n",
    "import functools, traceback\n",
    "def gpu_mem_restore(func):\n",
    "    \"Reclaim GPU RAM if CUDA out of memory happened, or execution was interrupted\"\n",
    "    @functools.wraps(func)\n",
    "    def wrapper(*args, **kwargs):\n",
    "        try:\n",
    "            return func(*args, **kwargs)\n",
    "        except:\n",
    "            type, val, tb = sys.exc_info()\n",
    "            traceback.clear_frames(tb)\n",
    "            raise type(val).with_traceback(tb) from None\n",
    "    return wrapper\n",
    "\n",
    "os.environ['FASTAI_TB_CLEAR_FRAMES']=\"1\"\n",
    "from importlib import reload\n",
    "\n",
    "from skimage.segmentation import *\n",
    "from scipy.ndimage.morphology import distance_transform_edt as SDT\n",
    "from scipy import ndimage as ndi\n",
    "from skimage.feature import peak_local_max\n",
    "from skimage.io import imread_collection\n",
    "from skimage.measure import regionprops, find_contours\n",
    "from skimage.filters import threshold_otsu\n",
    "from skimage.segmentation import clear_border\n",
    "from skimage.measure import label, regionprops\n",
    "from skimage.morphology import closing, square\n",
    "from skimage.color import label2rgb\n",
    "from skimage.morphology import extrema\n",
    "import cv2\n",
    "import re\n",
    "from lovasz_losses import *\n",
    "def accuracy_pixel(input, target):\n",
    "    target = target.squeeze(1)\n",
    "    mask = target != 0\n",
    "    return (input.argmax(dim=1)[mask] == target[mask]).float().mean()\n"
   ]
  },
  {
   "cell_type": "code",
   "execution_count": 4,
   "metadata": {
    "scrolled": false
   },
   "outputs": [],
   "source": [
    "data_dir = Path(\"/media/wwymak/Storage/urban-3D-satellite\")\n",
    "train_dir = data_dir / \"training\"\n",
    "cropped_dir =  data_dir / \"cropped_training\"\n",
    "cropped_val_dir =  data_dir / \"cropped_validation\"\n",
    "train_cropped_imgs = [f.name for f in (data_dir / \"cropped_training\").ls() if f.name.endswith('RGB.tif')]\n",
    "valid_cropped_imgs = [f.name for f in (data_dir / \"cropped_validation\").ls() if f.name.endswith('RGB.tif')]\n",
    "\n"
   ]
  },
  {
   "cell_type": "code",
   "execution_count": 5,
   "metadata": {},
   "outputs": [],
   "source": [
    "img_ids = list(set([re.sub(r\"_\\d{1,2}_RGB.tif\", \"\",fname ) for fname in valid_cropped_imgs]))"
   ]
  },
  {
   "cell_type": "code",
   "execution_count": 6,
   "metadata": {},
   "outputs": [
    {
     "data": {
      "text/plain": [
       "['JAX_Tile_084',\n",
       " 'TAM_Tile_119',\n",
       " 'JAX_Tile_073',\n",
       " 'TAM_Tile_037',\n",
       " 'JAX_Tile_028']"
      ]
     },
     "execution_count": 6,
     "metadata": {},
     "output_type": "execute_result"
    }
   ],
   "source": [
    "img_ids[:5]"
   ]
  },
  {
   "cell_type": "markdown",
   "metadata": {},
   "source": [
    "Create a new folder to hold the ordered validation set"
   ]
  },
  {
   "cell_type": "code",
   "execution_count": 8,
   "metadata": {},
   "outputs": [],
   "source": [
    "ordered_cropped_val_dir = data_dir / \"ordered_cropped_validation\"\n",
    "ordered_cropped_val_dir.mkdir(exist_ok=True)"
   ]
  },
  {
   "cell_type": "code",
   "execution_count": 35,
   "metadata": {},
   "outputs": [],
   "source": [
    "slice_indexes = list(range(0,2048-128, 128))\n",
    "def parse_one_image(img_id, extension=\"RGB\", dimensions=3):\n",
    "    parent = sktif.imread(str(train_dir/f\"{img_id}_{extension}.tif\"))\n",
    "    for i in slice_indexes:\n",
    "        for j in slice_indexes:\n",
    "            img_slice = parent[i:i+256, j:j+256, :] if dimensions ==3 else parent[i:i+256, j:j+256]\n",
    "            sktif.imsave(str(ordered_cropped_val_dir/f\"{img_id}_{extension}_{i}_{j}.tif\"), img_slice)"
   ]
  },
  {
   "cell_type": "code",
   "execution_count": 31,
   "metadata": {},
   "outputs": [
    {
     "name": "stdout",
     "output_type": "stream",
     "text": [
      "CPU times: user 1.41 s, sys: 730 ms, total: 2.14 s\n",
      "Wall time: 3.64 s\n"
     ]
    }
   ],
   "source": [
    "%time out=[parse_one_image(id) for id in img_ids]"
   ]
  },
  {
   "cell_type": "code",
   "execution_count": 37,
   "metadata": {},
   "outputs": [
    {
     "name": "stdout",
     "output_type": "stream",
     "text": [
      "CPU times: user 1.13 s, sys: 408 ms, total: 1.54 s\n",
      "Wall time: 2.27 s\n",
      "CPU times: user 1.25 s, sys: 479 ms, total: 1.73 s\n",
      "Wall time: 2.63 s\n",
      "CPU times: user 1.3 s, sys: 805 ms, total: 2.1 s\n",
      "Wall time: 8.85 s\n"
     ]
    }
   ],
   "source": [
    "%time out=[parse_one_image(id, extension=\"GTL\", dimensions=1) for id in img_ids]\n",
    "%time out=[parse_one_image(id, extension=\"GTI\", dimensions=1) for id in img_ids]\n",
    "%time out=[parse_one_image(id, extension=\"DSM\", dimensions=1) for id in img_ids]"
   ]
  },
  {
   "cell_type": "markdown",
   "metadata": {},
   "source": [
    "#### Create testing learner to run on the validation images"
   ]
  },
  {
   "cell_type": "code",
   "execution_count": 16,
   "metadata": {},
   "outputs": [],
   "source": [
    "\n",
    "codes = [\"background\", \"building\"]\n",
    "src_test = (SegmentationItemList.from_folder(data_dir)\n",
    "            .filter_by_func(lambda f: \"RGB\" in f.name)\n",
    "            .split_by_folder(train=\"cropped_train\", valid=\"ordered_cropped_validation\")            \n",
    "            .label_empty())\n",
    "\n",
    "wd =1e-2\n",
    "metrics = [accuracy_pixel,dice]\n",
    "\n",
    "size = 256\n",
    "bs=32\n",
    "data_test = (src_test.transform(size=size)\n",
    "        .databunch(bs=bs)\n",
    "        .normalize(imagenet_stats))\n",
    "data_test.c = 2\n",
    "learn = unet_learner(data_test, models.resnet34, metrics=metrics, wd=wd, loss_func=combined_loss2)\n",
    "learn.load('/media/wwymak/Storage/urban-3D-satellite/models/lovaz-loss-stage4-ignore-none')\n",
    "learn.to_fp16();"
   ]
  },
  {
   "cell_type": "markdown",
   "metadata": {},
   "source": [
    "#### make predictions"
   ]
  },
  {
   "cell_type": "code",
   "execution_count": 18,
   "metadata": {},
   "outputs": [
    {
     "data": {
      "text/plain": [
       "array([PosixPath('/media/wwymak/Storage/urban-3D-satellite/ordered_cropped_validation/JAX_Tile_066_RGB_1152_1792.tif'),\n",
       "       PosixPath('/media/wwymak/Storage/urban-3D-satellite/ordered_cropped_validation/TAM_Tile_041_RGB_896_256.tif'),\n",
       "       PosixPath('/media/wwymak/Storage/urban-3D-satellite/ordered_cropped_validation/TAM_Tile_037_RGB_1152_1664.tif'),\n",
       "       PosixPath('/media/wwymak/Storage/urban-3D-satellite/ordered_cropped_validation/TAM_Tile_041_RGB_896_1152.tif'),\n",
       "       PosixPath('/media/wwymak/Storage/urban-3D-satellite/ordered_cropped_validation/JAX_Tile_066_RGB_1792_1536.tif')],\n",
       "      dtype=object)"
      ]
     },
     "execution_count": 18,
     "metadata": {},
     "output_type": "execute_result"
    }
   ],
   "source": [
    "learn.data.valid_dl.x.items[0:5]"
   ]
  },
  {
   "cell_type": "code",
   "execution_count": 19,
   "metadata": {},
   "outputs": [],
   "source": [
    "predictions = learn.get_preds(DatasetType.Valid)"
   ]
  },
  {
   "cell_type": "code",
   "execution_count": 79,
   "metadata": {},
   "outputs": [
    {
     "data": {
      "text/plain": [
       "torch.Size([6750, 256, 256])"
      ]
     },
     "execution_count": 79,
     "metadata": {},
     "output_type": "execute_result"
    }
   ],
   "source": [
    "filepaths = np.array([str(f) for f in learn.data.valid_dl.x.items])\n",
    "\n",
    "predicted_masks = torch.argmax(predictions[0], dim=1)\n",
    "predicted_masks.shape"
   ]
  },
  {
   "cell_type": "code",
   "execution_count": 91,
   "metadata": {},
   "outputs": [],
   "source": [
    "slice_indexes = list(range(0,2048-128, 128))\n",
    "def combine_one_image(img_id):\n",
    "    img_fnames = []\n",
    "    to_combine = []\n",
    "    for i in slice_indexes:\n",
    "        for j in slice_indexes:\n",
    "            img_fnames.append(f\"/media/wwymak/Storage/urban-3D-satellite/ordered_cropped_validation/{img_id}_RGB_{i}_{j}.tif\")\n",
    "\n",
    "    indexes = torch.LongTensor([np.argwhere(filepaths == fname)[0][0] for fname in img_fnames])\n",
    "    predicted_patches = torch.index_select(predicted_masks, dim=0, index=indexes)\n",
    "    \n",
    "    for idx, fpath in enumerate(img_fnames):\n",
    "        full_img = torch.zeros((2048, 2048))\n",
    "        start_index_row, start_index_col = [int(x) for x in Path(fpath).name.replace('.tif','').split('_')[4:]]\n",
    "        full_img[start_index_row:start_index_row+256, start_index_col: start_index_col+256] = predicted_patches[idx]\n",
    "        to_combine.append(full_img)\n",
    "        \n",
    "    return torch.stack(to_combine).sum(0).numpy()"
   ]
  },
  {
   "cell_type": "code",
   "execution_count": 92,
   "metadata": {},
   "outputs": [],
   "source": [
    "img_ids[0]\n",
    "test_output = combine_one_image(img_ids[0])"
   ]
  },
  {
   "cell_type": "code",
   "execution_count": 93,
   "metadata": {},
   "outputs": [
    {
     "data": {
      "text/plain": [
       "<matplotlib.image.AxesImage at 0x7f94cdd0fcf8>"
      ]
     },
     "execution_count": 93,
     "metadata": {},
     "output_type": "execute_result"
    },
    {
     "data": {
      "image/png": "[encoded data removed]",
      "text/plain": [
       "<Figure size 432x288 with 1 Axes>"
      ]
     },
     "metadata": {
      "needs_background": "light"
     },
     "output_type": "display_data"
    }
   ],
   "source": [
    "plt.imshow(test_output)"
   ]
  },
  {
   "cell_type": "code",
   "execution_count": 97,
   "metadata": {},
   "outputs": [],
   "source": [
    "def label_save_output(prediction_mask, img_id):\n",
    "    thresh = threshold_otsu(prediction_mask)\n",
    "    bw = closing(prediction_mask > thresh, square(10))\n",
    "    cleared = clear_border(bw)\n",
    "    label_image = label(bw)\n",
    "    sktif.imsave(f\"/media/wwymak/Storage/urban-3D-satellite/{img_id}_prediction.tif\", label_image)"
   ]
  },
  {
   "cell_type": "code",
   "execution_count": 98,
   "metadata": {},
   "outputs": [
    {
     "name": "stderr",
     "output_type": "stream",
     "text": [
      "100%|██████████| 30/30 [01:17<00:00,  2.58s/it]\n"
     ]
    }
   ],
   "source": [
    "for img_id in tqdm(img_ids):\n",
    "    predicted_mask = combine_one_image(img_id)\n",
    "    label_save_output(predicted_mask, img_id)"
   ]
  },
  {
   "cell_type": "code",
   "execution_count": null,
   "metadata": {},
   "outputs": [],
   "source": []
  }
 ],
 "metadata": {
  "kernelspec": {
   "display_name": "Python (solaris)",
   "language": "python",
   "name": "solaris"
  },
  "language_info": {
   "codemirror_mode": {
    "name": "ipython",
    "version": 3
   },
   "file_extension": ".py",
   "mimetype": "text/x-python",
   "name": "python",
   "nbconvert_exporter": "python",
   "pygments_lexer": "ipython3",
   "version": "3.6.7"
  }
 },
 "nbformat": 4,
 "nbformat_minor": 2
}
