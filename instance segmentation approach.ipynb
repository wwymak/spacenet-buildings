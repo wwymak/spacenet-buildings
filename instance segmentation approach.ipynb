{
 "cells": [
  {
   "cell_type": "markdown",
   "metadata": {},
   "source": [
    "### Ideas \n",
    "\n",
    "#### replicate /use the discriminative loss func for instance segmentation\n",
    "\n",
    "- [Semantic Instance Segmentation with a Discriminative Loss Function](https://arxiv.org/abs/1708.02551)\n",
    "- useful github repo here https://github.com/Wizaron/instance-segmentation-pytorch\n",
    "\n",
    "#### deep watershed transform \n",
    "- https://spark-in.me/post/playing-with-dwt-and-ds-bowl-2018\n",
    "- "
   ]
  },
  {
   "cell_type": "markdown",
   "metadata": {},
   "source": [
    "### Imports and setup"
   ]
  },
  {
   "cell_type": "code",
   "execution_count": 16,
   "metadata": {},
   "outputs": [],
   "source": [
    "from fastai.imports import *\n",
    "from fastai.vision import *\n",
    "import tifffile as tiff\n",
    "from skimage.external import tifffile as sktif\n",
    "from joblib import Parallel, delayed\n",
    "import torch.functional as F\n",
    "\n",
    "from torch.nn.modules.loss import _Loss\n",
    "from torch.autograd import Variable\n",
    "import torch\n",
    "\n",
    "from skimage.segmentation import *\n",
    "from scipy.ndimage.morphology import distance_transform_edt as SDT\n",
    "from scipy import ndimage as ndi\n",
    "from skimage.feature import peak_local_max\n",
    "import functools, traceback\n",
    "def gpu_mem_restore(func):\n",
    "    \"Reclaim GPU RAM if CUDA out of memory happened, or execution was interrupted\"\n",
    "    @functools.wraps(func)\n",
    "    def wrapper(*args, **kwargs):\n",
    "        try:\n",
    "            return func(*args, **kwargs)\n",
    "        except:\n",
    "            type, val, tb = sys.exc_info()\n",
    "            traceback.clear_frames(tb)\n",
    "            raise type(val).with_traceback(tb) from None\n",
    "    return wrapper\n",
    "\n",
    "os.environ['FASTAI_TB_CLEAR_FRAMES']=\"1\"\n",
    "\n",
    "%matplotlib inline"
   ]
  },
  {
   "cell_type": "code",
   "execution_count": 2,
   "metadata": {},
   "outputs": [],
   "source": [
    "data_dir = Path(\"/media/wwymak/Storage/urban-3D-satellite\")\n",
    "train_dir = data_dir / \"training\"\n",
    "cropped_dir =  data_dir / \"cropped_training\"\n",
    "cropped_val_dir =  data_dir / \"cropped_validation\""
   ]
  },
  {
   "cell_type": "code",
   "execution_count": 3,
   "metadata": {},
   "outputs": [],
   "source": [
    "def get_img_id(fname):\n",
    "    fname = fname.replace('_RGB.tif', '')\n",
    "    img_id = \"_\".join(fname.split('_')[:-1])\n",
    "    return img_id\n",
    "\n",
    "train_img_ids = [get_img_id(f.name) for f in cropped_dir.ls() if f.name.endswith('RGB.tif')]\n",
    "val_img_ids = [get_img_id(f.name) for f in cropped_val_dir.ls() if f.name.endswith('RGB.tif')]"
   ]
  },
  {
   "cell_type": "code",
   "execution_count": 4,
   "metadata": {},
   "outputs": [],
   "source": [
    "train_cropped_imgs = [f.name for f in (data_dir / \"cropped_training\").ls() if f.name.endswith('RGB.tif')]\n",
    "valid_cropped_imgs = [f.name for f in (data_dir / \"cropped_validation\").ls() if f.name.endswith('RGB.tif')]\n",
    "\n",
    "train_cropped_gti_masks = [data_dir / \"cropped_training\"/ f.replace('RGB', 'GTI') for f in train_cropped_imgs]\n",
    "valid_cropped_gti_masks = [data_dir / \"cropped_validation\"/ f.replace('RGB', 'GTI') for f in valid_cropped_imgs]"
   ]
  },
  {
   "cell_type": "code",
   "execution_count": 20,
   "metadata": {},
   "outputs": [],
   "source": [
    "def accuracy_pixel(input, target):\n",
    "    target = target.squeeze(1)\n",
    "    mask = target != 0\n",
    "    return (input.argmax(dim=1)[mask] == target[mask]).float().mean()\n",
    "\n",
    "def flatten_binary_scores2(scores, labels, ignore=None):\n",
    "    \"\"\"\n",
    "    Flattens predictions in the batch (binary case)\n",
    "    Remove labels equal to 'ignore'\n",
    "    \"\"\"\n",
    "    scores = scores.contiguous().view(-1)\n",
    "    labels = labels.contiguous().view(-1)\n",
    "    if ignore is None:\n",
    "        return scores, labels\n",
    "    valid = (labels != ignore)\n",
    "    vscores = scores[valid]\n",
    "    vlabels = labels[valid]\n",
    "    return vscores, vlabels\n",
    "def lovasz_hinge(logits, labels, per_image=False, ignore=None):\n",
    "    \"\"\"\n",
    "    Binary Lovasz hinge loss\n",
    "      logits: [B, H, W] Variable, logits at each pixel (between -\\infty and +\\infty)\n",
    "      labels: [B, H, W] Tensor, binary ground truth masks (0 or 1)\n",
    "      per_image: compute the loss per image instead of per batch\n",
    "      ignore: void class id\n",
    "    \"\"\"\n",
    "    print(logits.min(), logits.max(), logits.size())\n",
    "    logits=logits[:,1,:,:]\n",
    "    labels = labels.squeeze(1)\n",
    "    if per_image:\n",
    "        loss = mean(lovasz_hinge_flat(*flatten_binary_scores(log.unsqueeze(0), lab.unsqueeze(0), ignore))\n",
    "                          for log, lab in zip(logits, labels))\n",
    "    else:\n",
    "        loss = lovasz_hinge_flat(*flatten_binary_scores2(logits, labels, ignore))\n",
    "    return loss\n",
    "\n",
    "def lovasz_hinge_flat(logits, labels):\n",
    "    \"\"\"\n",
    "    Binary Lovasz hinge loss\n",
    "      logits: [P] Variable, logits at each prediction (between -\\infty and +\\infty)\n",
    "      labels: [P] Tensor, binary ground truth labels (0 or 1)\n",
    "      ignore: label to ignore\n",
    "    \"\"\"\n",
    "\n",
    "    if len(labels) == 0:\n",
    "        # only void pixels, the gradients should be 0\n",
    "        return logits.sum() * 0.\n",
    "    signs = 2. * labels.float() - 1.\n",
    "    errors = (1. - logits * Variable(signs))\n",
    "    errors_sorted, perm = torch.sort(errors, dim=0, descending=True)\n",
    "    perm = perm.data\n",
    "    gt_sorted = labels[perm]\n",
    "    grad = lovasz_grad(gt_sorted)\n",
    "    loss = torch.dot(torch.nn.functional.relu(errors_sorted), Variable(grad))\n",
    "    return loss\n",
    "\n",
    "def combined_loss2(logits, labels):\n",
    "    logits=logits[:,1,:,:].float()\n",
    "    labels = labels.squeeze(1).float()\n",
    "    \n",
    "    lh_loss = lovasz_hinge_flat(*flatten_binary_scores2(logits, labels))\n",
    "    bce_loss = F.binary_cross_entropy_with_logits(logits, labels)\n",
    "    \n",
    "    return 0.8 * bce_loss + lh_loss"
   ]
  },
  {
   "cell_type": "code",
   "execution_count": 21,
   "metadata": {},
   "outputs": [],
   "source": [
    "train_cropped_imgs = [f.name for f in (data_dir / \"cropped_training\").ls() if f.name.endswith('RGB.tif')]\n",
    "valid_cropped_imgs = [f.name for f in (data_dir / \"cropped_validation\").ls() if f.name.endswith('RGB.tif')]\n",
    "\n",
    "dataset_df = pd.DataFrame({\"name\":[f\"cropped_training/{f}\" for f in train_cropped_imgs]  \\\n",
    "   + [f\"cropped_validation/{f}\" for f in valid_cropped_imgs],\n",
    "   \"label\": [f\"{str(data_dir)}/cropped_training/{f.replace('RGB', 'pytorch_GTL')}\" for f in train_cropped_imgs]  \\\n",
    "   + [f\"{str(data_dir)}/cropped_validation/{f.replace('RGB', 'pytorch_GTL')}\" for f in valid_cropped_imgs],\\\n",
    "        \"is_valid\":   [False for i in train_cropped_imgs] + [True for i in valid_cropped_imgs ]   })"
   ]
  },
  {
   "cell_type": "code",
   "execution_count": 22,
   "metadata": {},
   "outputs": [],
   "source": [
    "codes = [\"background\", \"building\"]\n",
    "src = (SegmentationItemList.from_df(dataset_df, path=data_dir )\n",
    "      . split_from_df(col=\"is_valid\")\n",
    "       .label_from_df(cols=\"label\", classes=codes))"
   ]
  },
  {
   "cell_type": "code",
   "execution_count": 24,
   "metadata": {},
   "outputs": [],
   "source": [
    "wd =1e-2\n",
    "metrics = [accuracy_pixel,dice]\n",
    "\n",
    "size = 256\n",
    "bs=32\n",
    "data = (src.transform(get_transforms(do_flip=True, \n",
    "             flip_vert=True, \n",
    "             max_rotate=180, \n",
    "             max_zoom=1.2, \n",
    "             max_lighting=0.5,\n",
    "             max_warp=0.2, \n",
    "             p_affine=0.75, \n",
    "             p_lighting=0.75), size=size, tfm_y=True)\n",
    "        .databunch(bs=bs)\n",
    "        .normalize(imagenet_stats))\n",
    "\n",
    "\n",
    "learn = unet_learner(data, models.resnet34, metrics=metrics, wd=wd, loss_func=combined_loss2)\n",
    "learn.to_fp16();"
   ]
  },
  {
   "cell_type": "code",
   "execution_count": 25,
   "metadata": {},
   "outputs": [],
   "source": [
    "learn.load('lovaz-loss-stage4-ignore-none');"
   ]
  },
  {
   "cell_type": "code",
   "execution_count": 35,
   "metadata": {},
   "outputs": [],
   "source": [
    "predicted = learn.pred_batch(DatasetType.Valid)"
   ]
  },
  {
   "cell_type": "code",
   "execution_count": 36,
   "metadata": {},
   "outputs": [
    {
     "data": {
      "text/plain": [
       "torch.Size([32, 256, 256])"
      ]
     },
     "execution_count": 36,
     "metadata": {},
     "output_type": "execute_result"
    }
   ],
   "source": [
    "combined = predicted.argmax(dim=1)\n",
    "combined.size()"
   ]
  },
  {
   "cell_type": "code",
   "execution_count": 48,
   "metadata": {},
   "outputs": [
    {
     "data": {
      "text/plain": [
       "Text(0.5, 1.0, 'Real mask')"
      ]
     },
     "execution_count": 48,
     "metadata": {},
     "output_type": "execute_result"
    },
    {
     "data": {
      "image/png": "[encoded data removed]",
      "text/plain": [
       "<Figure size 648x648 with 4 Axes>"
      ]
     },
     "metadata": {
      "needs_background": "light"
     },
     "output_type": "display_data"
    }
   ],
   "source": [
    "predicted_mask = combined[19].numpy()\n",
    "real_mask = sktif.imread(data.valid_ds.y.items[19])\n",
    "distance = ndi.distance_transform_edt(predicted_mask)\n",
    "local_maxi = peak_local_max(distance, indices=False, footprint=np.ones((3, 3)),\n",
    "                            labels=predicted_mask)\n",
    "markers = ndi.label(local_maxi)[0]\n",
    "labels = watershed(-distance, markers, mask=predicted_mask)\n",
    "\n",
    "fig, axes = plt.subplots(ncols=2,nrows=2, figsize=(9, 9), sharex=True, sharey=True)\n",
    "ax = axes.ravel()\n",
    "\n",
    "ax[0].imshow(predicted_mask)\n",
    "ax[0].set_title('predicted')\n",
    "ax[1].imshow(-distance, cmap=plt.cm.gray)\n",
    "ax[1].set_title('Distances')\n",
    "ax[2].imshow(labels, cmap=plt.cm.nipy_spectral)\n",
    "ax[2].set_title('Separated objects')\n",
    "ax[2].imshow(labels, cmap=plt.cm.nipy_spectral)\n",
    "ax[2].set_title('Separated objects')\n",
    "ax[3].imshow(real_mask)\n",
    "ax[3].set_title('Real mask')\n"
   ]
  },
  {
   "cell_type": "code",
   "execution_count": 40,
   "metadata": {},
   "outputs": [
    {
     "data": {
      "text/plain": [
       "array(['/media/wwymak/Storage/urban-3D-satellite/cropped_validation/TAM_Tile_058_11_pytorch_GTL.tif',\n",
       "       '/media/wwymak/Storage/urban-3D-satellite/cropped_validation/JAX_Tile_071_10_pytorch_GTL.tif',\n",
       "       '/media/wwymak/Storage/urban-3D-satellite/cropped_validation/JAX_Tile_103_3_pytorch_GTL.tif',\n",
       "       '/media/wwymak/Storage/urban-3D-satellite/cropped_validation/TAM_Tile_100_5_pytorch_GTL.tif', ...,\n",
       "       '/media/wwymak/Storage/urban-3D-satellite/cropped_validation/JAX_Tile_108_11_pytorch_GTL.tif',\n",
       "       '/media/wwymak/Storage/urban-3D-satellite/cropped_validation/JAX_Tile_103_12_pytorch_GTL.tif',\n",
       "       '/media/wwymak/Storage/urban-3D-satellite/cropped_validation/TAM_Tile_119_7_pytorch_GTL.tif',\n",
       "       '/media/wwymak/Storage/urban-3D-satellite/cropped_validation/TAM_Tile_045_6_pytorch_GTL.tif'], dtype=object)"
      ]
     },
     "execution_count": 40,
     "metadata": {},
     "output_type": "execute_result"
    }
   ],
   "source": [
    "data.valid_ds.y.items"
   ]
  },
  {
   "cell_type": "code",
   "execution_count": null,
   "metadata": {},
   "outputs": [],
   "source": []
  },
  {
   "cell_type": "markdown",
   "metadata": {},
   "source": [
    "### Trying out skimage cv methods to see how they work:\n",
    "\n",
    "#### finding boundaries"
   ]
  },
  {
   "cell_type": "code",
   "execution_count": 8,
   "metadata": {},
   "outputs": [],
   "source": [
    "test_img = sktif.imread(str(train_cropped_gti_masks[0]))\n",
    "boundary_test = find_boundaries(test_img)"
   ]
  },
  {
   "cell_type": "code",
   "execution_count": 9,
   "metadata": {},
   "outputs": [
    {
     "data": {
      "text/plain": [
       "<matplotlib.image.AxesImage at 0x7f8e67bbae48>"
      ]
     },
     "execution_count": 9,
     "metadata": {},
     "output_type": "execute_result"
    },
    {
     "data": {
      "image/png": "[encoded data removed]",
      "text/plain": [
       "<Figure size 432x288 with 1 Axes>"
      ]
     },
     "metadata": {
      "needs_background": "light"
     },
     "output_type": "display_data"
    }
   ],
   "source": [
    "plt.imshow(boundary_test)"
   ]
  },
  {
   "cell_type": "markdown",
   "metadata": {},
   "source": [
    "#### signed distance transform"
   ]
  },
  {
   "cell_type": "code",
   "execution_count": 10,
   "metadata": {},
   "outputs": [
    {
     "data": {
      "text/plain": [
       "(256, 256)"
      ]
     },
     "execution_count": 10,
     "metadata": {},
     "output_type": "execute_result"
    }
   ],
   "source": [
    "distance_Tranform_test = SDT(test_img, sampling=0.5)\n",
    "distance_Tranform_test.shape"
   ]
  },
  {
   "cell_type": "code",
   "execution_count": 11,
   "metadata": {},
   "outputs": [
    {
     "data": {
      "text/plain": [
       "<matplotlib.image.AxesImage at 0x7f8e09011550>"
      ]
     },
     "execution_count": 11,
     "metadata": {},
     "output_type": "execute_result"
    },
    {
     "data": {
      "image/png": "[encoded data removed]",
      "text/plain": [
       "<Figure size 432x288 with 1 Axes>"
      ]
     },
     "metadata": {
      "needs_background": "light"
     },
     "output_type": "display_data"
    }
   ],
   "source": [
    "plt.imshow(distance_Tranform_test)"
   ]
  },
  {
   "cell_type": "code",
   "execution_count": 18,
   "metadata": {},
   "outputs": [],
   "source": [
    "local_maxi = peak_local_max(distance_Tranform_test, indices=False, footprint=np.ones((3, 3)),\n",
    "                            labels=test_img)\n",
    "markers = ndi.label(local_maxi)[0]\n",
    "labels = watershed(-distance_Tranform_test, markers, mask=test_img)"
   ]
  },
  {
   "cell_type": "code",
   "execution_count": 19,
   "metadata": {},
   "outputs": [
    {
     "data": {
      "text/plain": [
       "<matplotlib.image.AxesImage at 0x7f8e08d84320>"
      ]
     },
     "execution_count": 19,
     "metadata": {},
     "output_type": "execute_result"
    },
    {
     "data": {
      "image/png": "[encoded data removed]",
      "text/plain": [
       "<Figure size 432x288 with 1 Axes>"
      ]
     },
     "metadata": {
      "needs_background": "light"
     },
     "output_type": "display_data"
    }
   ],
   "source": [
    "plt.imshow(labels, cmap=plt.cm.nipy_spectral)"
   ]
  },
  {
   "cell_type": "code",
   "execution_count": 34,
   "metadata": {},
   "outputs": [
    {
     "data": {
      "text/plain": [
       "array([ 0,  1,  2,  3,  4,  5,  6,  7,  8,  9, 10, 11, 12, 13, 14, 15, 16, 17, 18, 19, 20, 21, 22, 23, 24, 25, 26, 27],\n",
       "      dtype=int32)"
      ]
     },
     "execution_count": 34,
     "metadata": {},
     "output_type": "execute_result"
    }
   ],
   "source": [
    "np.unique(labels)"
   ]
  },
  {
   "cell_type": "markdown",
   "metadata": {},
   "source": [
    "### More masks for the Unet"
   ]
  },
  {
   "cell_type": "code",
   "execution_count": 49,
   "metadata": {},
   "outputs": [],
   "source": [
    "def create_boundary_mask(filepath):\n",
    "    instance_mask = sktif.imread(filepath)\n",
    "    boundary = find_boundaries(instance_mask, mode=\"outer\")\n",
    "    fname = filepath.replace('_GTI', 'boundary')\n",
    "    sktif.imsave(fname)"
   ]
  },
  {
   "cell_type": "code",
   "execution_count": null,
   "metadata": {},
   "outputs": [],
   "source": []
  },
  {
   "cell_type": "code",
   "execution_count": null,
   "metadata": {},
   "outputs": [],
   "source": []
  },
  {
   "cell_type": "code",
   "execution_count": 7,
   "metadata": {},
   "outputs": [
    {
     "data": {
      "text/plain": [
       "torch.Size([3, 2])"
      ]
     },
     "execution_count": 7,
     "metadata": {},
     "output_type": "execute_result"
    }
   ],
   "source": [
    "def embedding_mean(prediction, taget):\n",
    "    \"\"\"\n",
    "    target shape=batch_size x w x \n",
    "    \"\"\"\n",
    "    n_instances = target.size(2)\n",
    "    pass\n",
    "\n",
    "def variance_term(prediction, target):\n",
    "    pass\n",
    "\n",
    "def distance_term():\n",
    "    pass\n",
    "\n",
    "def regularisation_term():\n",
    "    pass\n",
    "\n",
    "def discriminative_loss():\n",
    "    pass"
   ]
  },
  {
   "cell_type": "code",
   "execution_count": null,
   "metadata": {},
   "outputs": [],
   "source": [
    "unet_l"
   ]
  }
 ],
 "metadata": {
  "kernelspec": {
   "display_name": "Python (solaris)",
   "language": "python",
   "name": "solaris"
  },
  "language_info": {
   "codemirror_mode": {
    "name": "ipython",
    "version": 3
   },
   "file_extension": ".py",
   "mimetype": "text/x-python",
   "name": "python",
   "nbconvert_exporter": "python",
   "pygments_lexer": "ipython3",
   "version": "3.6.7"
  }
 },
 "nbformat": 4,
 "nbformat_minor": 2
}
