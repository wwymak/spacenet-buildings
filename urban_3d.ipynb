{
 "cells": [
  {
   "cell_type": "code",
   "execution_count": 29,
   "metadata": {},
   "outputs": [],
   "source": [
    "from fastai.imports import *\n",
    "from fastai.vision import *\n",
    "import tifffile as tiff\n",
    "from skimage.external import tifffile as sktif\n",
    "from joblib import Parallel, delayed"
   ]
  },
  {
   "cell_type": "code",
   "execution_count": 2,
   "metadata": {},
   "outputs": [],
   "source": [
    "data_dir = Path(\"/media/wwymak/Storage/urban-3D-satellite\")"
   ]
  },
  {
   "cell_type": "code",
   "execution_count": 3,
   "metadata": {},
   "outputs": [
    {
     "name": "stdout",
     "output_type": "stream",
     "text": [
      "1044\n"
     ]
    }
   ],
   "source": [
    "train_dir = data_dir / \"training\"\n",
    "files = train_dir.ls()\n",
    "print(len(files))"
   ]
  },
  {
   "cell_type": "code",
   "execution_count": 4,
   "metadata": {},
   "outputs": [
    {
     "data": {
      "text/plain": [
       "PosixPath('/media/wwymak/Storage/urban-3D-satellite/training/TAM_Tile_132_GTC.tif')"
      ]
     },
     "execution_count": 4,
     "metadata": {},
     "output_type": "execute_result"
    }
   ],
   "source": [
    "files[0]"
   ]
  },
  {
   "cell_type": "code",
   "execution_count": 5,
   "metadata": {},
   "outputs": [
    {
     "data": {
      "text/plain": [
       "'JAX_Tile_005\\n'"
      ]
     },
     "execution_count": 5,
     "metadata": {},
     "output_type": "execute_result"
    }
   ],
   "source": [
    "labels_train = data_dir / \"truth-training.txt\"\n",
    "with open(labels_train, \"r\") as f:\n",
    "    labels = f.readlines()\n",
    "labels[4]"
   ]
  },
  {
   "cell_type": "code",
   "execution_count": 6,
   "metadata": {},
   "outputs": [
    {
     "data": {
      "text/plain": [
       "{'DSM.tif', 'DTM.tif', 'GTC.tif', 'GTI.tif', 'GTL.tif', 'RGB.tif'}"
      ]
     },
     "execution_count": 6,
     "metadata": {},
     "output_type": "execute_result"
    }
   ],
   "source": [
    "set([str(f.name).split(\"_\")[-1] for f in files])"
   ]
  },
  {
   "cell_type": "code",
   "execution_count": 53,
   "metadata": {},
   "outputs": [
    {
     "data": {
      "text/plain": [
       "174"
      ]
     },
     "execution_count": 53,
     "metadata": {},
     "output_type": "execute_result"
    }
   ],
   "source": [
    "rgb_files = [f for f in files if str(f.name).endswith('RGB.tif')]\n",
    "len(rgb_files)"
   ]
  },
  {
   "cell_type": "code",
   "execution_count": 8,
   "metadata": {},
   "outputs": [],
   "source": [
    "ground_truth_class_level_files = [f for f in files if str(f.name).endswith('GTL.tif')]\n",
    "ground_truth_inst_level_files = [f for f in files if str(f.name).endswith('GTI.tif')]"
   ]
  },
  {
   "cell_type": "code",
   "execution_count": 72,
   "metadata": {},
   "outputs": [
    {
     "data": {
      "text/plain": [
       "[PosixPath('/media/wwymak/Storage/urban-3D-satellite/training/JAX_Tile_007_GTL.tif'),\n",
       " PosixPath('/media/wwymak/Storage/urban-3D-satellite/training/JAX_Tile_031_GTL.tif'),\n",
       " PosixPath('/media/wwymak/Storage/urban-3D-satellite/training/JAX_Tile_032_GTL.tif'),\n",
       " PosixPath('/media/wwymak/Storage/urban-3D-satellite/training/TAM_Tile_017_GTL.tif'),\n",
       " PosixPath('/media/wwymak/Storage/urban-3D-satellite/training/TAM_Tile_128_GTL.tif')]"
      ]
     },
     "execution_count": 72,
     "metadata": {},
     "output_type": "execute_result"
    }
   ],
   "source": [
    "ground_truth_class_level_files[:5]"
   ]
  },
  {
   "cell_type": "code",
   "execution_count": 71,
   "metadata": {},
   "outputs": [],
   "source": [
    "def convert_gtl(fpath, outpath):    \n",
    "    a = sktif.imread(str(fpath))\n",
    "    b = a.copy\n",
    "    \n",
    "    np.place(b, b==6,1) #building\n",
    "    np.place(b, b!=6,0) #void\n",
    "    \n",
    "    assert b.max()<=1, b.max()\n",
    "    \n",
    "    sktif.imsave(str(outpath),b)\n"
   ]
  },
  {
   "cell_type": "code",
   "execution_count": 73,
   "metadata": {},
   "outputs": [
    {
     "data": {
      "text/plain": [
       "['/media/wwymak/Storage/urban-3D-satellite/training/JAX_Tile_007_pytorch_GTL.tif',\n",
       " '/media/wwymak/Storage/urban-3D-satellite/training/JAX_Tile_031_pytorch_GTL.tif',\n",
       " '/media/wwymak/Storage/urban-3D-satellite/training/JAX_Tile_032_pytorch_GTL.tif',\n",
       " '/media/wwymak/Storage/urban-3D-satellite/training/TAM_Tile_017_pytorch_GTL.tif',\n",
       " '/media/wwymak/Storage/urban-3D-satellite/training/TAM_Tile_128_pytorch_GTL.tif']"
      ]
     },
     "execution_count": 73,
     "metadata": {},
     "output_type": "execute_result"
    }
   ],
   "source": [
    "inpaths = ground_truth_class_level_files\n",
    "outpaths = [str(f).replace(\"GTL\", \"pytorch_GTL\") for f in ground_truth_class_level_files]\n",
    "outpaths[:5]"
   ]
  },
  {
   "cell_type": "code",
   "execution_count": 67,
   "metadata": {
    "collapsed": true
   },
   "outputs": [
    {
     "name": "stdout",
     "output_type": "stream",
     "text": [
      "CPU times: user 2.04 s, sys: 279 ms, total: 2.32 s\n",
      "Wall time: 2.32 s\n"
     ]
    },
    {
     "data": {
      "text/plain": [
       "[None,\n",
       " None,\n",
       " None,\n",
       " None,\n",
       " None,\n",
       " None,\n",
       " None,\n",
       " None,\n",
       " None,\n",
       " None,\n",
       " None,\n",
       " None,\n",
       " None,\n",
       " None,\n",
       " None,\n",
       " None,\n",
       " None,\n",
       " None,\n",
       " None,\n",
       " None,\n",
       " None,\n",
       " None,\n",
       " None,\n",
       " None,\n",
       " None,\n",
       " None,\n",
       " None,\n",
       " None,\n",
       " None,\n",
       " None,\n",
       " None,\n",
       " None,\n",
       " None,\n",
       " None,\n",
       " None,\n",
       " None,\n",
       " None,\n",
       " None,\n",
       " None,\n",
       " None,\n",
       " None,\n",
       " None,\n",
       " None,\n",
       " None,\n",
       " None,\n",
       " None,\n",
       " None,\n",
       " None,\n",
       " None,\n",
       " None,\n",
       " None,\n",
       " None,\n",
       " None,\n",
       " None,\n",
       " None,\n",
       " None,\n",
       " None,\n",
       " None,\n",
       " None,\n",
       " None,\n",
       " None,\n",
       " None,\n",
       " None,\n",
       " None,\n",
       " None,\n",
       " None,\n",
       " None,\n",
       " None,\n",
       " None,\n",
       " None,\n",
       " None,\n",
       " None,\n",
       " None,\n",
       " None,\n",
       " None,\n",
       " None,\n",
       " None,\n",
       " None,\n",
       " None,\n",
       " None,\n",
       " None,\n",
       " None,\n",
       " None,\n",
       " None,\n",
       " None,\n",
       " None,\n",
       " None,\n",
       " None,\n",
       " None,\n",
       " None,\n",
       " None,\n",
       " None,\n",
       " None,\n",
       " None,\n",
       " None,\n",
       " None,\n",
       " None,\n",
       " None,\n",
       " None,\n",
       " None,\n",
       " None,\n",
       " None,\n",
       " None,\n",
       " None,\n",
       " None,\n",
       " None,\n",
       " None,\n",
       " None,\n",
       " None,\n",
       " None,\n",
       " None,\n",
       " None,\n",
       " None,\n",
       " None,\n",
       " None,\n",
       " None,\n",
       " None,\n",
       " None,\n",
       " None,\n",
       " None,\n",
       " None,\n",
       " None,\n",
       " None,\n",
       " None,\n",
       " None,\n",
       " None,\n",
       " None,\n",
       " None,\n",
       " None,\n",
       " None,\n",
       " None,\n",
       " None,\n",
       " None,\n",
       " None,\n",
       " None,\n",
       " None,\n",
       " None,\n",
       " None,\n",
       " None,\n",
       " None,\n",
       " None,\n",
       " None,\n",
       " None,\n",
       " None,\n",
       " None,\n",
       " None,\n",
       " None,\n",
       " None,\n",
       " None,\n",
       " None,\n",
       " None,\n",
       " None,\n",
       " None,\n",
       " None,\n",
       " None,\n",
       " None,\n",
       " None,\n",
       " None,\n",
       " None,\n",
       " None,\n",
       " None,\n",
       " None,\n",
       " None,\n",
       " None,\n",
       " None,\n",
       " None,\n",
       " None,\n",
       " None,\n",
       " None,\n",
       " None,\n",
       " None,\n",
       " None,\n",
       " None,\n",
       " None]"
      ]
     },
     "execution_count": 67,
     "metadata": {},
     "output_type": "execute_result"
    }
   ],
   "source": [
    "%time  [convert_gtl(inpath, outpath) for inpath, outpath in zip(inpaths, outpaths)];"
   ]
  },
  {
   "cell_type": "code",
   "execution_count": 68,
   "metadata": {},
   "outputs": [
    {
     "data": {
      "text/plain": [
       "174"
      ]
     },
     "execution_count": 68,
     "metadata": {},
     "output_type": "execute_result"
    }
   ],
   "source": [
    "len(inpaths)"
   ]
  },
  {
   "cell_type": "code",
   "execution_count": 69,
   "metadata": {},
   "outputs": [],
   "source": [
    "def scale_percentile(matrix):\n",
    "    # scale tiff files read by tifffile to an rgb format readable by e.g. mpl for display\n",
    "    w, h, d = matrix.shape\n",
    "    matrix = np.reshape(matrix, [w * h, d]).astype(np.float64)\n",
    "    # Get 2nd and 98th percentile\n",
    "    mins = np.percentile(matrix, 1, axis=0)\n",
    "    maxs = np.percentile(matrix, 99, axis=0) - mins\n",
    "    matrix = (matrix - mins[None, :]) / maxs[None, :]\n",
    "    matrix = np.reshape(matrix, [w, h, d])\n",
    "    matrix = matrix.clip(0, 1)\n",
    "    return matrix\n",
    "\n",
    "def plot_mask_img(img_id, road_mask_width=4):\n",
    "    mask_fname = data_dir / \"training\" / f\"{img_id}_pytorch_GTL.tif\"\n",
    "    img_fname = data_dir / \"training\" / f\"{img_id}_RGB.tif\"\n",
    "    img_mask= tiff.imread(str(mask_fname))\n",
    "    img_rgb= tiff.imread(str(img_fname))\n",
    "    f = plt.figure(figsize=(10,6))\n",
    "    plt.subplot(121)\n",
    "    tiff.imshow(img_rgb, figure=f, subplot=121);\n",
    "    print(img_rgb.shape)\n",
    "    plt.subplot(122)\n",
    "    tiff.imshow(img_mask,figure=f, subplot=122);"
   ]
  },
  {
   "cell_type": "code",
   "execution_count": 59,
   "metadata": {},
   "outputs": [],
   "source": [
    "img_ids = [f.name.replace(\"_RGB.tif\", \"\") for f in rgb_files]"
   ]
  },
  {
   "cell_type": "code",
   "execution_count": 70,
   "metadata": {},
   "outputs": [
    {
     "name": "stdout",
     "output_type": "stream",
     "text": [
      "(2048, 2048)\n"
     ]
    },
    {
     "data": {
      "image/png": "[encoded data removed]",
      "text/plain": [
       "<Figure size 720x432 with 4 Axes>"
      ]
     },
     "metadata": {
      "needs_background": "light"
     },
     "output_type": "display_data"
    }
   ],
   "source": [
    "plot_mask_img(img_ids[10])"
   ]
  },
  {
   "cell_type": "code",
   "execution_count": 57,
   "metadata": {},
   "outputs": [
    {
     "data": {
      "text/plain": [
       "'JAX_Tile_132'"
      ]
     },
     "execution_count": 57,
     "metadata": {},
     "output_type": "execute_result"
    }
   ],
   "source": [
    "img_ids[10]"
   ]
  },
  {
   "cell_type": "code",
   "execution_count": 27,
   "metadata": {},
   "outputs": [
    {
     "name": "stdout",
     "output_type": "stream",
     "text": [
      "Object `accimage` not found.\n"
     ]
    }
   ],
   "source": [
    "class NRandomCrop(object):\n",
    "    \"\"\"Crop randomly the image in a sample.\n",
    "\n",
    "    Args:\n",
    "        output_size (tuple or int): Desired output size. If int, square crop\n",
    "            is made.\n",
    "    \"\"\"\n",
    "\n",
    "            \n",
    "        \n",
    "    def __init__(self, output_size, n=4, padding=0, pad_if_needed=False):\n",
    "        self.output_size = output_size # size of crop\n",
    "        self.padding = padding\n",
    "        self.pad_if_needed = pad_if_needed\n",
    "        self.n = n # number of crops\n",
    "        \n",
    "    def _get_crop(image, mask, w, h):\n",
    "        new_h, new_w = self.output_size\n",
    "        top = np.random.randint(0, h - new_h)\n",
    "        left = np.random.randint(0, w - new_w)\n",
    "\n",
    "        image = image[top: top + new_h,\n",
    "                      left: left + new_w]\n",
    "        \n",
    "        mask = mask[top: top + new_h,\n",
    "                      left: left + new_w]\n",
    "        \n",
    "        return image, mask\n",
    "\n",
    "\n",
    "    def __call__(self, image, mask):\n",
    "        assert image.shape[:2] == mask.shape[:2]\n",
    "\n",
    "        h, w = image.shape[:2]\n",
    "        new_h, new_w = self.output_size\n",
    "        \n",
    "        crops = [self._get_crop(image, mask, w, h) for i in range(self.n)]\n",
    "\n",
    "        return tuple(crops)\n",
    "\n",
    "\n",
    "class ToTensor(object):\n",
    "    \"\"\"Convert ndarrays in sample to Tensors.\"\"\"\n",
    "\n",
    "    def __call__(self, sample):\n",
    "        image, landmarks = sample['image'], sample['landmarks']\n",
    "\n",
    "        # swap color axis because\n",
    "        # numpy image: H x W x C\n",
    "        # torch image: C X H X W\n",
    "        image = image.transpose((2, 0, 1))\n",
    "        return {'image': torch.from_numpy(image),\n",
    "                'landmarks': torch.from_numpy(landmarks)}\n",
    "        return {'image': image, 'landmarks': landmarks}"
   ]
  },
  {
   "cell_type": "code",
   "execution_count": null,
   "metadata": {},
   "outputs": [],
   "source": [
    "class Urban3DDataset(Dataset):\n",
    "    \"\"\"satellite image dataset\"\"\"\n",
    "\n",
    "    def __init__(self, img_ids, root_dir, transform=None):\n",
    "        \"\"\"\n",
    "        Args:\n",
    "            csv_file (string): Path to the csv file with annotations.\n",
    "            root_dir (string): Directory with all the images.\n",
    "            transform (callable, optional): Optional transform to be applied\n",
    "                on a sample.\n",
    "        \"\"\"\n",
    "\n",
    "        self.img_ids = img_ids\n",
    "        self.transform = transform\n",
    "\n",
    "    def __len__(self):\n",
    "        return len(self.img_ids)\n",
    "\n",
    "    def __getitem__(self, idx):\n",
    "        mask_fname = data_dir / \"training\" / f\"{self.img_ids[idx]}_GTL.tif\"\n",
    "        img_fname = data_dir / \"training\" / f\"{self.img_ids[idx]}_RGB.tif\"\n",
    "        \n",
    "        image = io.imread(img_name)\n",
    "        landmarks = self.landmarks_frame.iloc[idx, 1:]\n",
    "        landmarks = np.array([landmarks])\n",
    "        landmarks = landmarks.astype('float').reshape(-1, 2)\n",
    "        sample = {'image': image, 'landmarks': landmarks}\n",
    "\n",
    "        if self.transform:\n",
    "            sample = self.transform(sample)\n",
    "\n",
    "        return sample\n",
    "Let’s instantiate this class and iterate through the data samples. We will print the sizes of first 4 samples and show their landmarks.\n",
    "\n",
    "face_dataset = FaceLandmarksDataset(csv_file='data/faces/face_landmarks.csv',\n",
    "                                    root_dir='data/faces/')\n",
    "\n",
    "fig = plt.figure()\n",
    "\n",
    "for i in range(len(face_dataset)):\n",
    "    sample = face_dataset[i]\n",
    "\n",
    "    print(i, sample['image'].shape, sample['landmarks'].shape)\n",
    "\n",
    "    ax = plt.subplot(1, 4, i + 1)\n",
    "    plt.tight_layout()\n",
    "    ax.set_title('Sample #{}'.format(i))\n",
    "    ax.axis('off')\n",
    "    show_landmarks(**sample)\n",
    "\n",
    "    if i == 3:\n",
    "        plt.show()\n",
    "        break\n"
   ]
  },
  {
   "cell_type": "code",
   "execution_count": null,
   "metadata": {},
   "outputs": [],
   "source": [
    "class Urban3DDataset(data.Dataset):\n",
    "    \n",
    "    \n",
    "    dataset_types = ['train', 'test']\n",
    "    \n",
    "    images_subfolder_name = 'images'\n",
    "    annotations_subfolder_name = 'annotations'\n",
    "    \n",
    "    ignore_label = 255\n",
    "\n",
    "    \n",
    "    def __init__(self,\n",
    "                 dataset_root,\n",
    "                 dataset_type=0,\n",
    "                 joint_transform=None):\n",
    "\n",
    "        # dataset_type:\n",
    "        # 0 - train\n",
    "        # 1 - test\n",
    "        \n",
    "        # Used for remapping from original labels to training ones\n",
    "        self.ordered_train_labels = np.asarray( [self.ignore_label] + range(13) )\n",
    "\n",
    "        self.dataset_root = dataset_root\n",
    "        self.joint_transform = joint_transform\n",
    "\n",
    "        dataset_type_name = self.dataset_types[dataset_type]\n",
    "\n",
    "        images_folder_path = os.path.join(dataset_root, dataset_type_name, self.images_subfolder_name)\n",
    "\n",
    "        annotations_folder_path = os.path.join(dataset_root, dataset_type_name, self.annotations_subfolder_name)\n",
    "\n",
    "        images_filenames = sorted(os.listdir(images_folder_path))\n",
    "        annotations_filenames = sorted(os.listdir(annotations_folder_path))\n",
    "\n",
    "        self.images_filenames = list(map(lambda x: os.path.join(images_folder_path, x), images_filenames))\n",
    "        self.annotations_filenames = list(map(lambda x: os.path.join(annotations_folder_path, x), annotations_filenames))\n",
    "            \n",
    "    def __len__(self):\n",
    "\n",
    "        return len(self.images_filenames)\n",
    "    \n",
    "    \n",
    "    def __getitem__(self, index):\n",
    "\n",
    "        img_path = self.images_filenames[index]\n",
    "        annotation_path = self.annotations_filenames[index]\n",
    "\n",
    "        _img = Image.open(img_path).convert('RGB')\n",
    "        \n",
    "        # TODO: maybe can be done in a better way\n",
    "        _target = Image.open(annotation_path)\n",
    "        \n",
    "        _target_np = np.asarray(_target).copy()\n",
    "        \n",
    "        # https://stackoverflow.com/questions/8188726/how-do-i-do-this-array-lookup-replace-with-numpy\n",
    "        _target_np = self.ordered_train_labels[_target_np].astype(np.uint8)\n",
    "        \n",
    "        _target = Image.fromarray(_target_np)\n",
    "\n",
    "        if self.joint_transform is not None:\n",
    "\n",
    "            _img, _target = self.joint_transform([_img, _target])\n",
    "\n",
    "        return _img, _target"
   ]
  },
  {
   "cell_type": "code",
   "execution_count": 26,
   "metadata": {},
   "outputs": [],
   "source": [
    "# from torchvision.transforms import functional as F\n",
    "\n",
    "\n",
    "\n",
    "class NRandomCrop(object):\n",
    "\n",
    "    def __init__(self, size, n=1, padding=0, pad_if_needed=False):\n",
    "        self.size = size # size of crop\n",
    "        self.padding = padding\n",
    "        self.pad_if_needed = pad_if_needed\n",
    "        self.n = n # number of crops\n",
    "\n",
    "    @staticmethod\n",
    "    def get_params(img, output_size, n):\n",
    "        w, h = img.size\n",
    "        th, tw = output_size\n",
    "        if w == tw and h == th:\n",
    "            return 0, 0, h, w\n",
    "\n",
    "        i_list = [random.randint(0, h - th) for i in range(n)]\n",
    "        j_list = [random.randint(0, w - tw) for i in range(n)]\n",
    "        return i_list, j_list, th, tw\n",
    "    \n",
    "    def _is_np_arr(self, img):\n",
    "        if isinstance(np.ndarray, img):\n",
    "            img = PIL.Image.fromarray(img)\n",
    "\n",
    "    def __call__(self, img):\n",
    "        if isinstance(np.ndarray, img):\n",
    "            img = torch.from_numpy(img)\n",
    "        if self.padding > 0:\n",
    "            img = F.pad(img, self.padding)\n",
    "\n",
    "        # pad the width if needed\n",
    "        if self.pad_if_needed and img.size[0] < self.size[1]:\n",
    "            img = F.pad(img, (int((1 + self.size[1] - img.size[0]) / 2), 0))\n",
    "        # pad the height if needed\n",
    "        if self.pad_if_needed and img.size[1] < self.size[0]:\n",
    "            img = F.pad(img, (0, int((1 + self.size[0] - img.size[1]) / 2)))\n",
    "\n",
    "        i, j, h, w = self.get_params(img, self.size, self.n)\n",
    "\n",
    "        return n_random_crops(img, i, j, h, w)\n",
    "\n",
    "    def __repr__(self):\n",
    "        return self.__class__.__name__ + '(size={0}, padding={1})'.format(self.size, self.padding)\n",
    "\n",
    "\n",
    "def n_random_crops(img, x, y, h, w):\n",
    "\n",
    "    if not _is_pil_image(img):\n",
    "        raise TypeError('img should be PIL Image. Got {}'.format(type(img)))\n",
    "\n",
    "    crops = []\n",
    "    for i in range(len(x)):\n",
    "        new_crop = img.crop((y[i], x[i], y[i] + w, x[i] + h))\n",
    "        crops.append(new_crop)\n",
    "    return tuple(crops)\n",
    "\n",
    "mean, sd = (0.5, 0.5, 0.5), (0.5, 0.5, 0.5)\n",
    "transform = transforms.Compose(\n",
    "    [NRandomCrop(size=32, n=5, padding=4),\n",
    "     transforms.Lambda(\n",
    "         lambda crops: torch.stack([transforms.Normalize(mean, sd)(transforms.ToTensor()(crop)) for crop in crops])),\n",
    "     ]\n",
    ")\n",
    "\n",
    "\n",
    "train_data = datasets.CIFAR10(root='./data',\n",
    "                                  train=True,\n",
    "                                  download=True,\n",
    "                                  transform=transform)\n",
    "train_loader = torch.utils.data.DataLoader(train_data,\n",
    "                                           batch_size=1,\n",
    "                                           shuffle=True,\n",
    "                                           num_workers=4)\n",
    "classes = ('plane', 'car', 'bird', 'cat',\n",
    "               'deer', 'dog', 'frog', 'horse', 'ship', 'truck')\n",
    "\n",
    "\n",
    "dataiter = iter(train_loader)\n",
    "images, labels = dataiter.next()\n",
    "\n",
    "# show images\n",
    "imshow(torchvision.utils.make_grid(images.squeeze(0)))\n",
    "# print labels\n",
    "print(' '.join('%5s' % classes[labels[j]] for j in range(0)))\n"
   ]
  },
  {
   "cell_type": "code",
   "execution_count": null,
   "metadata": {},
   "outputs": [],
   "source": [
    "def get_mask_fn(img_id):\n",
    "    return  data_dir / \"training\" / f\"{img_id}_GTL.tif\"\n",
    "\n",
    "codes = np.array([\"void\", \"road\"])\n",
    "src = (SegmentationItemList.from_folder(rgb_256)\n",
    "       .split_by_rand_pct(0.2, seed=42)\n",
    "       .label_from_func(get_mask_fn, classes=codes)\n",
    "      )"
   ]
  },
  {
   "cell_type": "code",
   "execution_count": null,
   "metadata": {},
   "outputs": [],
   "source": [
    "import torch\n",
    "from torch import nn\n",
    "from torch.nn import functional as F\n",
    "import utils\n",
    "import numpy as np\n",
    "\n",
    "\n",
    "class LossBinary:\n",
    "    \"\"\"\n",
    "    Loss defined as \\alpha BCE - (1 - \\alpha) SoftJaccard\n",
    "    \"\"\"\n",
    "\n",
    "    def __init__(self, jaccard_weight=0):\n",
    "        self.nll_loss = nn.BCEWithLogitsLoss()\n",
    "        self.jaccard_weight = jaccard_weight\n",
    "\n",
    "    def __call__(self, outputs, targets):\n",
    "        loss = (1 - self.jaccard_weight) * self.nll_loss(outputs, targets)\n",
    "\n",
    "        if self.jaccard_weight:\n",
    "            eps = 1e-15\n",
    "            jaccard_target = (targets == 1).float()\n",
    "            jaccard_output = F.sigmoid(outputs)\n",
    "\n",
    "            intersection = (jaccard_output * jaccard_target).sum()\n",
    "            union = jaccard_output.sum() + jaccard_target.sum()\n",
    "\n",
    "            loss -= self.jaccard_weight * torch.log((intersection + eps) / (union - intersection + eps))\n",
    "        return loss\n",
    "\n",
    "\n",
    "class LossMulti:\n",
    "    def __init__(self, jaccard_weight=0, class_weights=None, num_classes=1):\n",
    "        if class_weights is not None:\n",
    "            nll_weight = utils.cuda(\n",
    "                torch.from_numpy(class_weights.astype(np.float32)))\n",
    "        else:\n",
    "            nll_weight = None\n",
    "        seldef get_mask_fn(fname):\n",
    "    return mask_256 / fname.name.replace(\"rgb\", \"mask\").replace(\"tif\", \"png\")\n",
    "codes = np.array([\"void\", \"road\"])\n",
    "src = (SegmentationItemList.from_folder(rgb_256)\n",
    "       .split_by_rand_pct(0.2, seed=42)\n",
    "       .label_from_func(get_mask_fn, classes=codes)\n",
    "      )f.nll_loss = nn.NLLLoss2d(weight=nll_weight)\n",
    "        self.jaccard_weight = jaccard_weight\n",
    "        self.num_classes = num_classes\n",
    "\n",
    "    def __call__(self, outputs, targets):\n",
    "        loss = (1 - self.jaccard_weight) * self.nll_loss(outputs, targets)\n",
    "\n",
    "        if self.jaccard_weight:\n",
    "            eps = 1e-15\n",
    "            for cls in range(self.num_classes):\n",
    "                jaccard_target = (targets == cls).float()\n",
    "                jaccard_output = outputs[:, cls].exp()\n",
    "                intersection = (jaccard_output * jaccard_target).sum()\n",
    "\n",
    "                union = jaccard_output.sum() + jaccard_target.sum()\n",
    "                loss -= torch.log((intersection + eps) / (union - intersection + eps)) * self.jaccard_weight\n",
    "        return loss"
   ]
  },
  {
   "cell_type": "code",
   "execution_count": 17,
   "metadata": {},
   "outputs": [
    {
     "data": {
      "text/plain": [
       "8.0"
      ]
     },
     "execution_count": 17,
     "metadata": {},
     "output_type": "execute_result"
    }
   ],
   "source": [
    "2048/256"
   ]
  },
  {
   "cell_type": "code",
   "execution_count": null,
   "metadata": {},
   "outputs": [],
   "source": []
  }
 ],
 "metadata": {
  "kernelspec": {
   "display_name": "Python (solaris)",
   "language": "python",
   "name": "solaris"
  },
  "language_info": {
   "codemirror_mode": {
    "name": "ipython",
    "version": 3
   },
   "file_extension": ".py",
   "mimetype": "text/x-python",
   "name": "python",
   "nbconvert_exporter": "python",
   "pygments_lexer": "ipython3",
   "version": "3.6.7"
  }
 },
 "nbformat": 4,
 "nbformat_minor": 2
}
