{
 "cells": [
  {
   "cell_type": "code",
   "execution_count": 1,
   "metadata": {},
   "outputs": [
    {
     "name": "stdout",
     "output_type": "stream",
     "text": [
      "env: PROJ_LIB=/home/wwymak/anaconda3/envs/solaris/share/proj\n"
     ]
    },
    {
     "name": "stderr",
     "output_type": "stream",
     "text": [
      "WARNING: Logging before flag parsing goes to stderr.\n",
      "W1118 22:09:00.263151 139684773304128 deprecation_wrapper.py:119] From /home/wwymak/anaconda3/envs/solaris2/lib/python3.7/site-packages/solaris/nets/metrics.py:103: The name tf.keras.metrics.cosine_proximity is deprecated. Please use tf.keras.losses.cosine_similarity instead.\n",
      "\n",
      "W1118 22:09:00.333847 139684773304128 deprecation_wrapper.py:119] From /home/wwymak/anaconda3/envs/solaris2/lib/python3.7/site-packages/solaris/nets/_keras_losses.py:104: The name tf.keras.losses.cosine is deprecated. Please use tf.keras.losses.cosine_similarity instead.\n",
      "\n"
     ]
    }
   ],
   "source": [
    "import glob\n",
    "import warnings\n",
    "warnings.filterwarnings('ignore')\n",
    "\n",
    "from osgeo import gdal\n",
    "from shapely import wkt\n",
    "from typing import *\n",
    "%load_ext autoreload\n",
    "%autoreload 2\n",
    "%env PROJ_LIB=/home/wwymak/anaconda3/envs/solaris/share/proj\n",
    "%matplotlib inline\n",
    "\n",
    "import rasterio\n",
    "from torch.utils.tensorboard import SummaryWriter\n",
    "import skimage\n",
    "import geopandas as gpd\n",
    "from matplotlib import pyplot as plt\n",
    "from shapely.ops import cascaded_union\n",
    "import solaris as sol\n",
    "\n",
    "from tqdm import tqdm\n",
    "import tifffile as sktif\n",
    "\n",
    "import geopandas as gpd\n",
    "import numpy as np\n",
    "import cv2\n",
    "from functools import partial\n",
    "\n",
    "from fastai.imports import *\n",
    "from fastai.vision import *\n",
    "from fastai.metrics import dice\n",
    "from fastai.callbacks import *\n",
    "import ujson as json\n",
    "from joblib import Parallel, delayed\n",
    "import torch.nn.functional as F\n",
    "import torch\n",
    "import functools, traceback\n",
    "def gpu_mem_restore(func):\n",
    "    \"\"\"Reclaim GPU RAM if CUDA out of memory happened, or execution was interrupted\"\"\"\n",
    "    @functools.wraps(func)\n",
    "    def wrapper(*args, **kwargs):\n",
    "        try:\n",
    "            return func(*args, **kwargs)\n",
    "        except:\n",
    "            type, val, tb = sys.exc_info()\n",
    "            traceback.clear_frames(tb)\n",
    "            raise type(val).with_traceback(tb) from None\n",
    "    return wrapper\n",
    "\n",
    "os.environ['FASTAI_TB_CLEAR_FRAMES']=\"1\"\n",
    "from importlib import reload"
   ]
  },
  {
   "cell_type": "code",
   "execution_count": 16,
   "metadata": {},
   "outputs": [],
   "source": [
    "def create_small_tiles(img_filepath, save_dir_rgb):\n",
    "    img_rgb = PIL.Image.open(img_filepath)\n",
    "    img_id = img_filepath.name.replace('.png', '')\n",
    "\n",
    "    boxes = [\n",
    "        (0, 0, 512, 512),\n",
    "        (0, 256, 512, 768),\n",
    "        (0, 512, 512, 1024),\n",
    "        (256, 0, 768, 512),\n",
    "        (256, 256, 768, 768),\n",
    "        (256, 512, 768, 1024),\n",
    "        (512, 0, 1024, 512),\n",
    "        (512, 256, 1024, 768),\n",
    "        (512, 512, 1024, 1024)\n",
    "    ]\n",
    "    im_crops = [img_rgb.crop(box) for box in boxes]\n",
    "\n",
    "    for i, im_crop in enumerate(im_crops):\n",
    "        im_crop.save(save_dir_rgb / f\"rgb_{img_id}_{i}.png\")"
   ]
  },
  {
   "cell_type": "code",
   "execution_count": 9,
   "metadata": {},
   "outputs": [
    {
     "data": {
      "text/plain": [
       "[PosixPath('/media/wwymak/Storage/xView2/test/images/test_pre_00909.png'),\n",
       " PosixPath('/media/wwymak/Storage/xView2/test/images/test_pre_00371.png'),\n",
       " PosixPath('/media/wwymak/Storage/xView2/test/images/test_pre_00824.png'),\n",
       " PosixPath('/media/wwymak/Storage/xView2/test/images/test_pre_00270.png'),\n",
       " PosixPath('/media/wwymak/Storage/xView2/test/images/test_pre_00186.png')]"
      ]
     },
     "execution_count": 9,
     "metadata": {},
     "output_type": "execute_result"
    }
   ],
   "source": [
    "data_dir = Path(\"/media/wwymak/Storage/xView2\")\n",
    "mask_dir = data_dir / \"mask_full_size_single_channel\"\n",
    "\n",
    "\n",
    "test_images_crops = data_dir / \"test_crops\"\n",
    "test_mask_crops = data_dir / \"test_mask_crops_single_channel\"\n",
    "test_images_crops.mkdir(exist_ok=True)\n",
    "test_mask_crops.mkdir(exist_ok=True)\n",
    "\n",
    "undamaged_fnames = [fname for fname in (data_dir / \"test\" / \"images\").ls() if '_pre_' in fname.name]\n",
    "\n",
    "undamaged_fnames[:5]"
   ]
  },
  {
   "cell_type": "code",
   "execution_count": 17,
   "metadata": {},
   "outputs": [],
   "source": [
    "img_ids = [f.name.replace('.png', '') for f in undamaged_fnames]\n",
    "\n",
    "create_tile = partial(create_small_tiles, save_dir_rgb=test_images_crops)\n",
    "\n",
    "# [create_tile(img_filepath, mask_filepath, im_id) for (img_filepath, mask_filepath, im_id) in zip(img_filepaths, mask_filepaths, img_ids )]\n",
    "_ = Parallel(n_jobs=14)(delayed(create_tile)(img_filepath) \\\n",
    "                       for img_filepath in undamaged_fnames)\n",
    "# fro"
   ]
  },
  {
   "cell_type": "code",
   "execution_count": null,
   "metadata": {},
   "outputs": [],
   "source": []
  }
 ],
 "metadata": {
  "kernelspec": {
   "display_name": "Python (solaris+fastai)",
   "language": "python",
   "name": "solaris2"
  },
  "language_info": {
   "codemirror_mode": {
    "name": "ipython",
    "version": 3
   },
   "file_extension": ".py",
   "mimetype": "text/x-python",
   "name": "python",
   "nbconvert_exporter": "python",
   "pygments_lexer": "ipython3",
   "version": "3.7.3"
  }
 },
 "nbformat": 4,
 "nbformat_minor": 2
}
