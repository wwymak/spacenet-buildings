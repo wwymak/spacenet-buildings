{
 "cells": [
  {
   "cell_type": "code",
   "execution_count": 1,
   "metadata": {},
   "outputs": [
    {
     "name": "stdout",
     "output_type": "stream",
     "text": [
      "env: PROJ_LIB=/home/wwymak/anaconda3/envs/solaris/share/proj\n"
     ]
    }
   ],
   "source": [
    "import warnings\n",
    "warnings.filterwarnings(\"ignore\")\n",
    "from shapely import wkt\n",
    "import glob\n",
    "\n",
    "\n",
    "%load_ext autoreload\n",
    "%autoreload 2\n",
    "%env PROJ_LIB=/home/wwymak/anaconda3/envs/solaris/share/proj\n",
    "%matplotlib inline\n",
    "\n",
    "import skimage\n",
    "\n",
    "from tqdm import tqdm\n",
    "import numpy as np\n",
    "import cv2\n",
    "from functools import partial\n",
    "\n",
    "from fastai.imports import *\n",
    "from fastai.vision import *\n",
    "from fastai.metrics import dice\n",
    "from fastai.callbacks import *\n",
    "\n",
    "from joblib import Parallel, delayed\n",
    "import torch.nn.functional as F\n",
    "import torch\n",
    "import functools, traceback\n",
    "def gpu_mem_restore(func):\n",
    "    \"\"\"Reclaim GPU RAM if CUDA out of memory happened, or execution was interrupted\"\"\"\n",
    "    @functools.wraps(func)\n",
    "    def wrapper(*args, **kwargs):\n",
    "        try:\n",
    "            return func(*args, **kwargs)\n",
    "        except:\n",
    "            type, val, tb = sys.exc_info()\n",
    "            traceback.clear_frames(tb)\n",
    "            raise type(val).with_traceback(tb) from None\n",
    "    return wrapper\n",
    "\n",
    "os.environ['FASTAI_TB_CLEAR_FRAMES']=\"1\"\n",
    "\n",
    "from catalyst.contrib.criterion import FocalLossMultiClass, DiceLoss, BCEDiceLoss, LovaszLossBinary,LovaszLossMultiClass\n",
    "\n",
    "from importlib import reload"
   ]
  },
  {
   "cell_type": "code",
   "execution_count": 2,
   "metadata": {},
   "outputs": [],
   "source": [
    "data_dir = Path(\"/media/wwymak/Storage/xView2\")\n",
    "mask_dir = data_dir /\"mask_full_size\"\n",
    "models_path = data_dir / \"models\"\n",
    "train_images_crops = data_dir/\"train_crops\"\n",
    "mask_dir_edt = data_dir /\"mask_full_size_edt\"\n",
    "train_mask_crops = data_dir/\"mask_crops_single_channel\"\n",
    "label_dir = data_dir/\"train\"/\"labels\""
   ]
  },
  {
   "cell_type": "code",
   "execution_count": 3,
   "metadata": {},
   "outputs": [
    {
     "data": {
      "text/plain": [
       "PosixPath('/media/wwymak/Storage/xView2/train/labels/socal-fire_00000521_post_disaster.json')"
      ]
     },
     "execution_count": 3,
     "metadata": {},
     "output_type": "execute_result"
    }
   ],
   "source": [
    "label_dir.ls()[0]"
   ]
  },
  {
   "cell_type": "code",
   "execution_count": 4,
   "metadata": {},
   "outputs": [],
   "source": [
    "def parse_json(label_json):\n",
    "    df_xy = pd.DataFrame([{'id': x['properties']['uid'], 'feature': x['properties']['feature_type'],\n",
    "                           'damage': x['properties'].get('subtype', 'no-damage'),\n",
    "                           'disaster_type': x['metadata']['disaster_type'],\n",
    "                           'geometry_pixel': x['wkt']} for x in label_json['features']['xy']])\n",
    "    df_lnglat = pd.DataFrame(\n",
    "        [{'id': x['properties']['uid'], 'geometry_lnglat': x['wkt'], } for x in label_json['features']['lng_lat']])\n",
    "    if len(df_xy) == 0:\n",
    "        return\n",
    "    df_xy.set_index('id', inplace=True)\n",
    "\n",
    "    df_xy['damage_cls'] = df_xy['damage'].map({\n",
    "        'no-damage': 1, 'minor-damage': 2, 'major-damage': 3, 'destroyed': 4, 'un-classified': 5\n",
    "    })\n",
    "    df_xy.geometry_pixel = df_xy.geometry_pixel.apply(wkt.loads)\n",
    "    df_lnglat.set_index('id', inplace=True)\n",
    "    label_df = df_xy.merge(df_lnglat['geometry_lnglat'], left_index=True, right_index=True)\n",
    "\n",
    "    label_gdf = gpd.GeoDataFrame(label_df, geometry='geometry_pixel')\n",
    "    label_gdf['centroid'] = label_gdf.geometry_pixel.centroid\n",
    "    return label_gdf\n",
    "\n",
    "# def create_mask(json_file, data_dir, mask_dir, tile_size=1024):\n",
    "#     with open(data_dir/\"train\"/\"labels\"/json_file, 'r') as f:\n",
    "#         label = json.load(f)\n",
    "#     label_gdf = parse_json(label)\n",
    "#     if label_gdf is None or len(label_gdf) == 0:\n",
    "#         return 0\n",
    "#     fb_mask = sol.vector.mask.footprint_mask(df=label_gdf, geom_col=\"geometry_pixel\",\n",
    "#                                          burn_value=None, burn_field=\"damage_cls\",\n",
    "#                                          shape=(tile_size,tile_size)).squeeze()\n",
    "#     # print(fb_mask.max)\n",
    "#     PIL.Image.fromarray(fb_mask, mode='L').save(mask_dir/(json_file.replace('.json', '.png')))\n",
    "#     return fb_mask.max()"
   ]
  },
  {
   "cell_type": "code",
   "execution_count": 12,
   "metadata": {},
   "outputs": [],
   "source": [
    "def disaster_name_to_type(disaster_name):\n",
    "    if 'volcano' in disaster_name:\n",
    "        return 'volcano'\n",
    "    if 'hurricane' in disaster_name:\n",
    "        return 'hurricane'\n",
    "    if 'earthquake' in disaster_name:\n",
    "        return 'earthquake'\n",
    "    if 'flooding' in disaster_name:\n",
    "        return 'flooding'\n",
    "    if 'tsunami' in disaster_name:\n",
    "        return 'tsunami'\n",
    "    if 'fire' in disaster_name:\n",
    "        return 'fire'\n",
    "    retirn 'unknown'"
   ]
  },
  {
   "cell_type": "code",
   "execution_count": 13,
   "metadata": {},
   "outputs": [
    {
     "data": {
      "text/plain": [
       "['earthquake', 'fire', 'flooding', 'hurricane', 'tsunami', 'volcano']"
      ]
     },
     "execution_count": 13,
     "metadata": {},
     "output_type": "execute_result"
    }
   ],
   "source": [
    "df = pd.read_csv(data_dir/\"train_pre_post.csv\")\n",
    "df['disaster_type'] = df.img_id_pre.apply(lambda x: disaster_name_to_type(x.split(\"_\")[0]))\n",
    "list(sorted(df.disaster_type.unique()))"
   ]
  },
  {
   "cell_type": "code",
   "execution_count": null,
   "metadata": {},
   "outputs": [],
   "source": []
  }
 ],
 "metadata": {
  "kernelspec": {
   "display_name": "fastai-solaris",
   "language": "python",
   "name": "fastai-solaris"
  },
  "language_info": {
   "codemirror_mode": {
    "name": "ipython",
    "version": 3
   },
   "file_extension": ".py",
   "mimetype": "text/x-python",
   "name": "python",
   "nbconvert_exporter": "python",
   "pygments_lexer": "ipython3",
   "version": "3.7.3"
  }
 },
 "nbformat": 4,
 "nbformat_minor": 2
}
