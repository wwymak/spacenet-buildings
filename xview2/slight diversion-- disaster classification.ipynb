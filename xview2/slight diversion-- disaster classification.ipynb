{
 "cells": [
  {
   "cell_type": "markdown",
   "metadata": {
    "heading_collapsed": true
   },
   "source": [
    "#### Imports"
   ]
  },
  {
   "cell_type": "code",
   "execution_count": 1,
   "metadata": {
    "hidden": true
   },
   "outputs": [
    {
     "name": "stdout",
     "output_type": "stream",
     "text": [
      "env: PROJ_LIB=/home/wwymak/anaconda3/envs/solaris/share/proj\n"
     ]
    },
    {
     "name": "stderr",
     "output_type": "stream",
     "text": [
      "WARNING: Logging before flag parsing goes to stderr.\n",
      "W1001 21:57:29.421458 139863628629824 deprecation_wrapper.py:119] From /home/wwymak/anaconda3/envs/solaris2/lib/python3.7/site-packages/solaris/nets/metrics.py:103: The name tf.keras.metrics.cosine_proximity is deprecated. Please use tf.keras.losses.cosine_similarity instead.\n",
      "\n",
      "W1001 21:57:29.462121 139863628629824 deprecation_wrapper.py:119] From /home/wwymak/anaconda3/envs/solaris2/lib/python3.7/site-packages/solaris/nets/_keras_losses.py:104: The name tf.keras.losses.cosine is deprecated. Please use tf.keras.losses.cosine_similarity instead.\n",
      "\n"
     ]
    }
   ],
   "source": [
    "import glob\n",
    "\n",
    "from osgeo import gdal\n",
    "\n",
    "%load_ext autoreload\n",
    "%autoreload 2\n",
    "%env PROJ_LIB=/home/wwymak/anaconda3/envs/solaris/share/proj\n",
    "%matplotlib inline\n",
    "\n",
    "import rasterio\n",
    "from torch.utils.tensorboard import SummaryWriter\n",
    "import skimage\n",
    "import geopandas as gpd\n",
    "from matplotlib import pyplot as plt\n",
    "from shapely.ops import cascaded_union\n",
    "import solaris as sol\n",
    "\n",
    "from tqdm import tqdm\n",
    "import tifffile as sktif\n",
    "\n",
    "# import shapely.wkt\n",
    "import geopandas as gpd\n",
    "import numpy as np\n",
    "import cv2\n",
    "from functools import partial\n",
    "\n",
    "from fastai.imports import *\n",
    "from fastai.vision import *\n",
    "from fastai.metrics import dice\n",
    "from fastai.callbacks import *\n",
    "import ujson as json\n",
    "from joblib import Parallel, delayed\n",
    "import torch.nn.functional as F\n",
    "import torch\n",
    "import functools, traceback\n",
    "def gpu_mem_restore(func):\n",
    "    \"\"\"Reclaim GPU RAM if CUDA out of memory happened, or execution was interrupted\"\"\"\n",
    "    @functools.wraps(func)\n",
    "    def wrapper(*args, **kwargs):\n",
    "        try:\n",
    "            return func(*args, **kwargs)\n",
    "        except:\n",
    "            type, val, tb = sys.exc_info()\n",
    "            traceback.clear_frames(tb)\n",
    "            raise type(val).with_traceback(tb) from None\n",
    "    return wrapper\n",
    "\n",
    "os.environ['FASTAI_TB_CLEAR_FRAMES']=\"1\"\n",
    "from importlib import reload"
   ]
  },
  {
   "cell_type": "markdown",
   "metadata": {},
   "source": [
    "#### Files"
   ]
  },
  {
   "cell_type": "code",
   "execution_count": 2,
   "metadata": {},
   "outputs": [],
   "source": [
    "data_dir = Path(\"/media/wwymak/Storage/xView2\")\n",
    "mask_dir = data_dir /\"mask_full_size\""
   ]
  },
  {
   "cell_type": "code",
   "execution_count": 4,
   "metadata": {},
   "outputs": [],
   "source": [
    "metadata_df = pd.read_csv(data_dir/\"train\"/\"metdata.csv\",  index_col='id')"
   ]
  },
  {
   "cell_type": "code",
   "execution_count": 5,
   "metadata": {},
   "outputs": [
    {
     "data": {
      "text/html": [
       "<div>\n",
       "<style scoped>\n",
       "    .dataframe tbody tr th:only-of-type {\n",
       "        vertical-align: middle;\n",
       "    }\n",
       "\n",
       "    .dataframe tbody tr th {\n",
       "        vertical-align: top;\n",
       "    }\n",
       "\n",
       "    .dataframe thead th {\n",
       "        text-align: right;\n",
       "    }\n",
       "</style>\n",
       "<table border=\"1\" class=\"dataframe\">\n",
       "  <thead>\n",
       "    <tr style=\"text-align: right;\">\n",
       "      <th></th>\n",
       "      <th>sensor</th>\n",
       "      <th>provider_asset_type</th>\n",
       "      <th>gsd</th>\n",
       "      <th>capture_date</th>\n",
       "      <th>off_nadir_angle</th>\n",
       "      <th>pan_resolution</th>\n",
       "      <th>sun_azimuth</th>\n",
       "      <th>sun_elevation</th>\n",
       "      <th>target_azimuth</th>\n",
       "      <th>disaster</th>\n",
       "      <th>disaster_type</th>\n",
       "      <th>catalog_id</th>\n",
       "      <th>original_width</th>\n",
       "      <th>original_height</th>\n",
       "      <th>width</th>\n",
       "      <th>height</th>\n",
       "      <th>img_name</th>\n",
       "    </tr>\n",
       "    <tr>\n",
       "      <th>id</th>\n",
       "      <th></th>\n",
       "      <th></th>\n",
       "      <th></th>\n",
       "      <th></th>\n",
       "      <th></th>\n",
       "      <th></th>\n",
       "      <th></th>\n",
       "      <th></th>\n",
       "      <th></th>\n",
       "      <th></th>\n",
       "      <th></th>\n",
       "      <th></th>\n",
       "      <th></th>\n",
       "      <th></th>\n",
       "      <th></th>\n",
       "      <th></th>\n",
       "      <th></th>\n",
       "    </tr>\n",
       "  </thead>\n",
       "  <tbody>\n",
       "    <tr>\n",
       "      <th>MjU4MDE3OA.vigoXx_P7tlDKfvwJzQ1nrrupIc</th>\n",
       "      <td>WORLDVIEW02</td>\n",
       "      <td>WORLDVIEW02</td>\n",
       "      <td>2.570075</td>\n",
       "      <td>2018-11-14T18:42:58.000Z</td>\n",
       "      <td>32.674200</td>\n",
       "      <td>0.643838</td>\n",
       "      <td>163.31218</td>\n",
       "      <td>35.885086</td>\n",
       "      <td>334.12890</td>\n",
       "      <td>socal-fire</td>\n",
       "      <td>fire</td>\n",
       "      <td>103001008513F200</td>\n",
       "      <td>1024</td>\n",
       "      <td>1024</td>\n",
       "      <td>1024</td>\n",
       "      <td>1024</td>\n",
       "      <td>socal-fire_00000521_post_disaster.png</td>\n",
       "    </tr>\n",
       "    <tr>\n",
       "      <th>MjE5Nzc5MA.m3CJXOd-mkKwPckmnN2HXJrZ8dQ</th>\n",
       "      <td>WORLDVIEW02</td>\n",
       "      <td>WORLDVIEW02</td>\n",
       "      <td>2.066485</td>\n",
       "      <td>2017-11-29T16:28:19.000Z</td>\n",
       "      <td>19.816387</td>\n",
       "      <td>0.516751</td>\n",
       "      <td>162.03100</td>\n",
       "      <td>35.949000</td>\n",
       "      <td>285.76627</td>\n",
       "      <td>hurricane-michael</td>\n",
       "      <td>wind</td>\n",
       "      <td>1030010075CC2C00</td>\n",
       "      <td>1024</td>\n",
       "      <td>1024</td>\n",
       "      <td>1024</td>\n",
       "      <td>1024</td>\n",
       "      <td>hurricane-michael_00000047_pre_disaster.png</td>\n",
       "    </tr>\n",
       "    <tr>\n",
       "      <th>MjU3NzI5NA.xXAyToVXpsDLRlmiil7ERxQfsao</th>\n",
       "      <td>WORLDVIEW02</td>\n",
       "      <td>WORLDVIEW02</td>\n",
       "      <td>1.989496</td>\n",
       "      <td>2018-10-23T18:51:02.000Z</td>\n",
       "      <td>15.396526</td>\n",
       "      <td>0.498313</td>\n",
       "      <td>163.75761</td>\n",
       "      <td>42.667400</td>\n",
       "      <td>333.27460</td>\n",
       "      <td>socal-fire</td>\n",
       "      <td>fire</td>\n",
       "      <td>1030010088D86900</td>\n",
       "      <td>1024</td>\n",
       "      <td>1024</td>\n",
       "      <td>1024</td>\n",
       "      <td>1024</td>\n",
       "      <td>socal-fire_00001003_pre_disaster.png</td>\n",
       "    </tr>\n",
       "    <tr>\n",
       "      <th>MjU4MDIzOA.yYVJwy8u7xcp4JFTijIVJloYFYw</th>\n",
       "      <td>WORLDVIEW02</td>\n",
       "      <td>WORLDVIEW02</td>\n",
       "      <td>2.570075</td>\n",
       "      <td>2018-11-14T18:42:58.000Z</td>\n",
       "      <td>32.674200</td>\n",
       "      <td>0.643838</td>\n",
       "      <td>163.31218</td>\n",
       "      <td>35.885086</td>\n",
       "      <td>334.12890</td>\n",
       "      <td>socal-fire</td>\n",
       "      <td>fire</td>\n",
       "      <td>103001008513F200</td>\n",
       "      <td>1024</td>\n",
       "      <td>1024</td>\n",
       "      <td>1024</td>\n",
       "      <td>1024</td>\n",
       "      <td>socal-fire_00000580_post_disaster.png</td>\n",
       "    </tr>\n",
       "    <tr>\n",
       "      <th>MjU4MDMzMA.FxeSXSVYWtuXyCXeLboTXawiZX0</th>\n",
       "      <td>WORLDVIEW02</td>\n",
       "      <td>WORLDVIEW02</td>\n",
       "      <td>2.570075</td>\n",
       "      <td>2018-11-14T18:42:58.000Z</td>\n",
       "      <td>32.674200</td>\n",
       "      <td>0.643838</td>\n",
       "      <td>163.31218</td>\n",
       "      <td>35.885086</td>\n",
       "      <td>334.12890</td>\n",
       "      <td>socal-fire</td>\n",
       "      <td>fire</td>\n",
       "      <td>103001008513F200</td>\n",
       "      <td>1024</td>\n",
       "      <td>1024</td>\n",
       "      <td>1024</td>\n",
       "      <td>1024</td>\n",
       "      <td>socal-fire_00000671_post_disaster.png</td>\n",
       "    </tr>\n",
       "  </tbody>\n",
       "</table>\n",
       "</div>"
      ],
      "text/plain": [
       "                                             sensor provider_asset_type  \\\n",
       "id                                                                        \n",
       "MjU4MDE3OA.vigoXx_P7tlDKfvwJzQ1nrrupIc  WORLDVIEW02         WORLDVIEW02   \n",
       "MjE5Nzc5MA.m3CJXOd-mkKwPckmnN2HXJrZ8dQ  WORLDVIEW02         WORLDVIEW02   \n",
       "MjU3NzI5NA.xXAyToVXpsDLRlmiil7ERxQfsao  WORLDVIEW02         WORLDVIEW02   \n",
       "MjU4MDIzOA.yYVJwy8u7xcp4JFTijIVJloYFYw  WORLDVIEW02         WORLDVIEW02   \n",
       "MjU4MDMzMA.FxeSXSVYWtuXyCXeLboTXawiZX0  WORLDVIEW02         WORLDVIEW02   \n",
       "\n",
       "                                             gsd              capture_date  \\\n",
       "id                                                                           \n",
       "MjU4MDE3OA.vigoXx_P7tlDKfvwJzQ1nrrupIc  2.570075  2018-11-14T18:42:58.000Z   \n",
       "MjE5Nzc5MA.m3CJXOd-mkKwPckmnN2HXJrZ8dQ  2.066485  2017-11-29T16:28:19.000Z   \n",
       "MjU3NzI5NA.xXAyToVXpsDLRlmiil7ERxQfsao  1.989496  2018-10-23T18:51:02.000Z   \n",
       "MjU4MDIzOA.yYVJwy8u7xcp4JFTijIVJloYFYw  2.570075  2018-11-14T18:42:58.000Z   \n",
       "MjU4MDMzMA.FxeSXSVYWtuXyCXeLboTXawiZX0  2.570075  2018-11-14T18:42:58.000Z   \n",
       "\n",
       "                                        off_nadir_angle  pan_resolution  \\\n",
       "id                                                                        \n",
       "MjU4MDE3OA.vigoXx_P7tlDKfvwJzQ1nrrupIc        32.674200        0.643838   \n",
       "MjE5Nzc5MA.m3CJXOd-mkKwPckmnN2HXJrZ8dQ        19.816387        0.516751   \n",
       "MjU3NzI5NA.xXAyToVXpsDLRlmiil7ERxQfsao        15.396526        0.498313   \n",
       "MjU4MDIzOA.yYVJwy8u7xcp4JFTijIVJloYFYw        32.674200        0.643838   \n",
       "MjU4MDMzMA.FxeSXSVYWtuXyCXeLboTXawiZX0        32.674200        0.643838   \n",
       "\n",
       "                                        sun_azimuth  sun_elevation  \\\n",
       "id                                                                   \n",
       "MjU4MDE3OA.vigoXx_P7tlDKfvwJzQ1nrrupIc    163.31218      35.885086   \n",
       "MjE5Nzc5MA.m3CJXOd-mkKwPckmnN2HXJrZ8dQ    162.03100      35.949000   \n",
       "MjU3NzI5NA.xXAyToVXpsDLRlmiil7ERxQfsao    163.75761      42.667400   \n",
       "MjU4MDIzOA.yYVJwy8u7xcp4JFTijIVJloYFYw    163.31218      35.885086   \n",
       "MjU4MDMzMA.FxeSXSVYWtuXyCXeLboTXawiZX0    163.31218      35.885086   \n",
       "\n",
       "                                        target_azimuth           disaster  \\\n",
       "id                                                                          \n",
       "MjU4MDE3OA.vigoXx_P7tlDKfvwJzQ1nrrupIc       334.12890         socal-fire   \n",
       "MjE5Nzc5MA.m3CJXOd-mkKwPckmnN2HXJrZ8dQ       285.76627  hurricane-michael   \n",
       "MjU3NzI5NA.xXAyToVXpsDLRlmiil7ERxQfsao       333.27460         socal-fire   \n",
       "MjU4MDIzOA.yYVJwy8u7xcp4JFTijIVJloYFYw       334.12890         socal-fire   \n",
       "MjU4MDMzMA.FxeSXSVYWtuXyCXeLboTXawiZX0       334.12890         socal-fire   \n",
       "\n",
       "                                       disaster_type        catalog_id  \\\n",
       "id                                                                       \n",
       "MjU4MDE3OA.vigoXx_P7tlDKfvwJzQ1nrrupIc          fire  103001008513F200   \n",
       "MjE5Nzc5MA.m3CJXOd-mkKwPckmnN2HXJrZ8dQ          wind  1030010075CC2C00   \n",
       "MjU3NzI5NA.xXAyToVXpsDLRlmiil7ERxQfsao          fire  1030010088D86900   \n",
       "MjU4MDIzOA.yYVJwy8u7xcp4JFTijIVJloYFYw          fire  103001008513F200   \n",
       "MjU4MDMzMA.FxeSXSVYWtuXyCXeLboTXawiZX0          fire  103001008513F200   \n",
       "\n",
       "                                        original_width  original_height  \\\n",
       "id                                                                        \n",
       "MjU4MDE3OA.vigoXx_P7tlDKfvwJzQ1nrrupIc            1024             1024   \n",
       "MjE5Nzc5MA.m3CJXOd-mkKwPckmnN2HXJrZ8dQ            1024             1024   \n",
       "MjU3NzI5NA.xXAyToVXpsDLRlmiil7ERxQfsao            1024             1024   \n",
       "MjU4MDIzOA.yYVJwy8u7xcp4JFTijIVJloYFYw            1024             1024   \n",
       "MjU4MDMzMA.FxeSXSVYWtuXyCXeLboTXawiZX0            1024             1024   \n",
       "\n",
       "                                        width  height  \\\n",
       "id                                                      \n",
       "MjU4MDE3OA.vigoXx_P7tlDKfvwJzQ1nrrupIc   1024    1024   \n",
       "MjE5Nzc5MA.m3CJXOd-mkKwPckmnN2HXJrZ8dQ   1024    1024   \n",
       "MjU3NzI5NA.xXAyToVXpsDLRlmiil7ERxQfsao   1024    1024   \n",
       "MjU4MDIzOA.yYVJwy8u7xcp4JFTijIVJloYFYw   1024    1024   \n",
       "MjU4MDMzMA.FxeSXSVYWtuXyCXeLboTXawiZX0   1024    1024   \n",
       "\n",
       "                                                                           img_name  \n",
       "id                                                                                   \n",
       "MjU4MDE3OA.vigoXx_P7tlDKfvwJzQ1nrrupIc        socal-fire_00000521_post_disaster.png  \n",
       "MjE5Nzc5MA.m3CJXOd-mkKwPckmnN2HXJrZ8dQ  hurricane-michael_00000047_pre_disaster.png  \n",
       "MjU3NzI5NA.xXAyToVXpsDLRlmiil7ERxQfsao         socal-fire_00001003_pre_disaster.png  \n",
       "MjU4MDIzOA.yYVJwy8u7xcp4JFTijIVJloYFYw        socal-fire_00000580_post_disaster.png  \n",
       "MjU4MDMzMA.FxeSXSVYWtuXyCXeLboTXawiZX0        socal-fire_00000671_post_disaster.png  "
      ]
     },
     "execution_count": 5,
     "metadata": {},
     "output_type": "execute_result"
    }
   ],
   "source": [
    "metadata_df.head()"
   ]
  },
  {
   "cell_type": "code",
   "execution_count": 6,
   "metadata": {},
   "outputs": [
    {
     "data": {
      "text/plain": [
       "(5598, 17)"
      ]
     },
     "execution_count": 6,
     "metadata": {},
     "output_type": "execute_result"
    }
   ],
   "source": [
    "metadata_df.shape"
   ]
  },
  {
   "cell_type": "code",
   "execution_count": 7,
   "metadata": {},
   "outputs": [
    {
     "data": {
      "text/plain": [
       "<matplotlib.axes._subplots.AxesSubplot at 0x7f3386009c18>"
      ]
     },
     "execution_count": 7,
     "metadata": {},
     "output_type": "execute_result"
    },
    {
     "data": {
      "image/png": "[encoded data removed]",
      "text/plain": [
       "<Figure size 432x288 with 1 Axes>"
      ]
     },
     "metadata": {
      "needs_background": "light"
     },
     "output_type": "display_data"
    }
   ],
   "source": [
    "metadata_df.disaster_type.value_counts().plot.bar()"
   ]
  },
  {
   "cell_type": "code",
   "execution_count": null,
   "metadata": {},
   "outputs": [],
   "source": []
  }
 ],
 "metadata": {
  "kernelspec": {
   "display_name": "Python (solaris+fastai)",
   "language": "python",
   "name": "solaris2"
  },
  "language_info": {
   "codemirror_mode": {
    "name": "ipython",
    "version": 3
   },
   "file_extension": ".py",
   "mimetype": "text/x-python",
   "name": "python",
   "nbconvert_exporter": "python",
   "pygments_lexer": "ipython3",
   "version": "3.7.3"
  }
 },
 "nbformat": 4,
 "nbformat_minor": 2
}
