{
 "cells": [
  {
   "cell_type": "markdown",
   "metadata": {},
   "source": [
    "Idea is to use a rotated bounding box to better capture the building using the script `process_data_classification_rotated_bounding_box.py`"
   ]
  },
  {
   "cell_type": "code",
   "execution_count": 1,
   "metadata": {},
   "outputs": [
    {
     "name": "stdout",
     "output_type": "stream",
     "text": [
      "env: PROJ_LIB=/home/wwymak/anaconda3/envs/solaris/share/proj\n"
     ]
    }
   ],
   "source": [
    "import warnings\n",
    "warnings.filterwarnings(\"ignore\")\n",
    "from shapely import wkt\n",
    "import glob\n",
    "\n",
    "\n",
    "%load_ext autoreload\n",
    "%autoreload 2\n",
    "%env PROJ_LIB=/home/wwymak/anaconda3/envs/solaris/share/proj\n",
    "%matplotlib inline\n",
    "\n",
    "import skimage\n",
    "\n",
    "from tqdm import tqdm\n",
    "import numpy as np\n",
    "import cv2\n",
    "from functools import partial\n",
    "\n",
    "from fastai.imports import *\n",
    "from fastai.vision import *\n",
    "from fastai.metrics import dice\n",
    "from fastai.callbacks import *\n",
    "\n",
    "from joblib import Parallel, delayed\n",
    "import torch.nn.functional as F\n",
    "import torch\n",
    "import functools, traceback\n",
    "def gpu_mem_restore(func):\n",
    "    \"\"\"Reclaim GPU RAM if CUDA out of memory happened, or execution was interrupted\"\"\"\n",
    "    @functools.wraps(func)\n",
    "    def wrapper(*args, **kwargs):\n",
    "        try:\n",
    "            return func(*args, **kwargs)\n",
    "        except:\n",
    "            type, val, tb = sys.exc_info()\n",
    "            traceback.clear_frames(tb)\n",
    "            raise type(val).with_traceback(tb) from None\n",
    "    return wrapper\n",
    "\n",
    "os.environ['FASTAI_TB_CLEAR_FRAMES']=\"1\"\n",
    "\n",
    "from catalyst.contrib.criterion import FocalLossMultiClass, DiceLoss, BCEDiceLoss, LovaszLossBinary,LovaszLossMultiClass\n",
    "\n",
    "from importlib import reload"
   ]
  },
  {
   "cell_type": "code",
   "execution_count": 2,
   "metadata": {},
   "outputs": [],
   "source": [
    "def to_onehot(indices, num_classes):\n",
    "    \"\"\"Convert a tensor of indices of any shape `(N, ...)` to a\n",
    "    tensor of one-hot indicators of shape `(N, num_classes, ...) and of type uint8. Output's device is equal to the\n",
    "    input's device`.\n",
    "    \"\"\"\n",
    "    onehot = torch.zeros(indices.shape[0], num_classes, *indices.shape[1:],\n",
    "#                              dtype=torch.uint8,\n",
    "                         device=indices.device)\n",
    "    return onehot.scatter_(1, indices.unsqueeze(1), 1)\n",
    "class CombinedLoss(nn.Module):\n",
    "\n",
    "    def __init__(self, gamma=2., alpha=0.25):\n",
    "        super(CombinedLoss, self).__init__()\n",
    "        self.gamma = gamma\n",
    "        self.alpha = alpha\n",
    "\n",
    "    def forward(self, input, target, **kwargs):\n",
    "        y = to_onehot(target, input.size(-1))\n",
    "        logit = F.softmax(input)\n",
    "                     \n",
    "        focal_loss = FocalLossMultiClass(gamma=self.gamma, alpha=self.alpha)\n",
    "#         bce_dice = BCEDiceLoss()\n",
    "#         lovaz_loss = LovaszLossBinary()\n",
    "#         dice_loss = DiceLoss(activation='Softmax')\n",
    "        \n",
    "        total_loss = focal_loss(logit, target) #+ 0.2 * dice_loss(logit, y)\n",
    "        return total_loss"
   ]
  },
  {
   "cell_type": "code",
   "execution_count": 14,
   "metadata": {},
   "outputs": [],
   "source": [
    "data_dir = Path(\"/media/wwymak/Storage/xView2\")\n",
    "models_path = data_dir / \"models\"\n",
    "classification_labels = pd.read_csv(data_dir/\"train_pre_post_rotated_bbox.csv\")\n",
    "image_crops_dir_post = data_dir / \"classification_crops_post_rotated_bbox\"\n",
    "image_crops_dir_pre = data_dir / \"classification_crops_pre_rotated_bbox\"\n",
    "\n",
    "damage_crops_test_folder = data_dir / \"classification_crops_rotated_bbox_test\""
   ]
  },
  {
   "cell_type": "code",
   "execution_count": 4,
   "metadata": {},
   "outputs": [
    {
     "data": {
      "text/html": [
       "<div>\n",
       "<style scoped>\n",
       "    .dataframe tbody tr th:only-of-type {\n",
       "        vertical-align: middle;\n",
       "    }\n",
       "\n",
       "    .dataframe tbody tr th {\n",
       "        vertical-align: top;\n",
       "    }\n",
       "\n",
       "    .dataframe thead th {\n",
       "        text-align: right;\n",
       "    }\n",
       "</style>\n",
       "<table border=\"1\" class=\"dataframe\">\n",
       "  <thead>\n",
       "    <tr style=\"text-align: right;\">\n",
       "      <th></th>\n",
       "      <th>uuid</th>\n",
       "      <th>img_id_pre</th>\n",
       "      <th>img_id_post</th>\n",
       "      <th>label</th>\n",
       "      <th>crop_filename</th>\n",
       "    </tr>\n",
       "  </thead>\n",
       "  <tbody>\n",
       "    <tr>\n",
       "      <th>0</th>\n",
       "      <td>93d0ff06-ab71-45d9-9ace-6f7d86d5d5d8</td>\n",
       "      <td>palu-tsunami_00000024_pre_disaster.png</td>\n",
       "      <td>palu-tsunami_00000024_post_disaster.png</td>\n",
       "      <td>0</td>\n",
       "      <td>93d0ff06-ab71-45d9-9ace-6f7d86d5d5d8.png</td>\n",
       "    </tr>\n",
       "    <tr>\n",
       "      <th>1</th>\n",
       "      <td>437988fc-fb7e-4b0e-8ccf-403015a737b3</td>\n",
       "      <td>palu-tsunami_00000024_pre_disaster.png</td>\n",
       "      <td>palu-tsunami_00000024_post_disaster.png</td>\n",
       "      <td>0</td>\n",
       "      <td>437988fc-fb7e-4b0e-8ccf-403015a737b3.png</td>\n",
       "    </tr>\n",
       "    <tr>\n",
       "      <th>2</th>\n",
       "      <td>63d78637-7c40-40c7-a1b3-55152a64415a</td>\n",
       "      <td>palu-tsunami_00000024_pre_disaster.png</td>\n",
       "      <td>palu-tsunami_00000024_post_disaster.png</td>\n",
       "      <td>0</td>\n",
       "      <td>63d78637-7c40-40c7-a1b3-55152a64415a.png</td>\n",
       "    </tr>\n",
       "    <tr>\n",
       "      <th>3</th>\n",
       "      <td>31ccdff0-b7f7-4884-8e55-d35e4d2c1770</td>\n",
       "      <td>palu-tsunami_00000024_pre_disaster.png</td>\n",
       "      <td>palu-tsunami_00000024_post_disaster.png</td>\n",
       "      <td>0</td>\n",
       "      <td>31ccdff0-b7f7-4884-8e55-d35e4d2c1770.png</td>\n",
       "    </tr>\n",
       "    <tr>\n",
       "      <th>4</th>\n",
       "      <td>67fdaa2a-3d1f-4c7d-a63b-f08a4a4cb05b</td>\n",
       "      <td>palu-tsunami_00000024_pre_disaster.png</td>\n",
       "      <td>palu-tsunami_00000024_post_disaster.png</td>\n",
       "      <td>0</td>\n",
       "      <td>67fdaa2a-3d1f-4c7d-a63b-f08a4a4cb05b.png</td>\n",
       "    </tr>\n",
       "  </tbody>\n",
       "</table>\n",
       "</div>"
      ],
      "text/plain": [
       "                                   uuid  \\\n",
       "0  93d0ff06-ab71-45d9-9ace-6f7d86d5d5d8   \n",
       "1  437988fc-fb7e-4b0e-8ccf-403015a737b3   \n",
       "2  63d78637-7c40-40c7-a1b3-55152a64415a   \n",
       "3  31ccdff0-b7f7-4884-8e55-d35e4d2c1770   \n",
       "4  67fdaa2a-3d1f-4c7d-a63b-f08a4a4cb05b   \n",
       "\n",
       "                               img_id_pre  \\\n",
       "0  palu-tsunami_00000024_pre_disaster.png   \n",
       "1  palu-tsunami_00000024_pre_disaster.png   \n",
       "2  palu-tsunami_00000024_pre_disaster.png   \n",
       "3  palu-tsunami_00000024_pre_disaster.png   \n",
       "4  palu-tsunami_00000024_pre_disaster.png   \n",
       "\n",
       "                               img_id_post  label  \\\n",
       "0  palu-tsunami_00000024_post_disaster.png      0   \n",
       "1  palu-tsunami_00000024_post_disaster.png      0   \n",
       "2  palu-tsunami_00000024_post_disaster.png      0   \n",
       "3  palu-tsunami_00000024_post_disaster.png      0   \n",
       "4  palu-tsunami_00000024_post_disaster.png      0   \n",
       "\n",
       "                              crop_filename  \n",
       "0  93d0ff06-ab71-45d9-9ace-6f7d86d5d5d8.png  \n",
       "1  437988fc-fb7e-4b0e-8ccf-403015a737b3.png  \n",
       "2  63d78637-7c40-40c7-a1b3-55152a64415a.png  \n",
       "3  31ccdff0-b7f7-4884-8e55-d35e4d2c1770.png  \n",
       "4  67fdaa2a-3d1f-4c7d-a63b-f08a4a4cb05b.png  "
      ]
     },
     "execution_count": 4,
     "metadata": {},
     "output_type": "execute_result"
    }
   ],
   "source": [
    "classification_labels.head()"
   ]
  },
  {
   "cell_type": "code",
   "execution_count": 5,
   "metadata": {},
   "outputs": [],
   "source": [
    "def get_train_valid_ids(classification_labels_df, valid_pct=0.1, img_id_col=\"img_id_post\", random_seed=42):\n",
    "    np.random.seed(random_seed)\n",
    "    unique_img_ids = classification_labels_df[img_id_col].unique()\n",
    "    np.random.shuffle(unique_img_ids)\n",
    "    train_img_ids = unique_img_ids[:int(len(unique_img_ids) * (1- valid_pct))]\n",
    "    valid_img_ids = unique_img_ids[int(len(unique_img_ids) * (1- valid_pct)):]\n",
    "    \n",
    "    train_ids = classification_labels_df[classification_labels_df[img_id_col].isin(train_img_ids)].crop_filename.values\n",
    "    valid_ids = classification_labels_df[classification_labels_df[img_id_col].isin(valid_img_ids)].crop_filename.values\n",
    "    \n",
    "    return train_ids, valid_ids\n",
    "    "
   ]
  },
  {
   "cell_type": "code",
   "execution_count": 6,
   "metadata": {},
   "outputs": [],
   "source": [
    "train_ids, valid_ids = get_train_valid_ids(classification_labels)"
   ]
  },
  {
   "cell_type": "code",
   "execution_count": 7,
   "metadata": {},
   "outputs": [],
   "source": [
    "# classification_labels_resampled= pd.concat([\n",
    "#     classification_labels[(classification_labels.label!= 0) & (~classification_labels.crop_filename.isin(valid_ids))],\n",
    "#     classification_labels[(classification_labels.label==0) & (~classification_labels.crop_filename.isin(valid_ids))].sample(frac=0.2),\n",
    "#     classification_labels[classification_labels.crop_filename.isin(valid_ids)],\n",
    "# ])\n",
    "# classification_labels_resampled.label.value_counts(normalize=True), classification_labels_resampled[(~classification_labels.crop_filename.isin(valid_ids))].label.value_counts(normalize=True), "
   ]
  },
  {
   "cell_type": "code",
   "execution_count": 8,
   "metadata": {},
   "outputs": [],
   "source": [
    "\n",
    "def is_valid_func(img_fname):\n",
    "    id = Path(img_fname).name\n",
    "    return id in valid_ids\n"
   ]
  },
  {
   "cell_type": "code",
   "execution_count": 9,
   "metadata": {},
   "outputs": [],
   "source": [
    "\n",
    "def f1(y_pred:Tensor, y_true:Tensor):\n",
    "    eps=1e-10\n",
    "    def recall(y_pred,y_true):\n",
    "        \"\"\"Recall metric.\n",
    "        Only computes a batch-wise average of recall.\n",
    "        Computes the recall, a metric for multi-label classification of\n",
    "        how many relevant items are selected.\n",
    "        \"\"\"\n",
    "        true_positives = torch.sum(torch.round(torch.clamp(y_true * y_pred, 0, 1)))\n",
    "        possible_positives = torch.sum(y_true)\n",
    "        recall = true_positives / (possible_positives + eps)\n",
    "        return recall\n",
    "\n",
    "    def precision(y_pred,y_true):\n",
    "        \"\"\"Precision metric.\n",
    "        Only computes a batch-wise average of precision.\n",
    "        Computes the precision, a metric for multi-label classification of\n",
    "        how many selected items are relevant.\n",
    "        \"\"\"\n",
    "        true_positives = torch.sum(torch.round(torch.clamp(y_true * y_pred, 0, 1)))\n",
    "        predicted_positives = torch.sum(torch.round(torch.clamp(y_pred, 0, 1)))\n",
    "        precision = true_positives / (predicted_positives +eps)\n",
    "        return precision\n",
    "\n",
    "    y_true = to_onehot(y_true.view(-1), num_classes=4)\n",
    "    precision = precision(y_pred,y_true)\n",
    "    recall = recall(y_pred,y_true)\n",
    "    return 2*((precision*recall)/(precision+recall+eps))#\n"
   ]
  },
  {
   "cell_type": "code",
   "execution_count": 10,
   "metadata": {},
   "outputs": [],
   "source": [
    "size=128\n",
    "bs=32\n",
    "partial_data_frac=0.2\n",
    "src = (ImageList\n",
    "       .from_df(classification_labels, path=image_crops_dir_post, cols=['crop_filename'])\n",
    "#        .use_partial_data(partial_data_frac)\n",
    "       .split_by_valid_func(is_valid_func)\n",
    "       .label_from_df(cols='label'))\n",
    "data = (src\n",
    "        .transform(get_transforms(do_flip=True, \n",
    "             flip_vert=True, \n",
    "             max_rotate=180, \n",
    "             max_zoom=1.2, \n",
    "             max_lighting=0.5,\n",
    "             max_warp=0.2, \n",
    "             p_affine=0.75, \n",
    "             p_lighting=0.75), size=size, tfm_y=False)\n",
    "#         .add_test_folder(damage_crops_test_folder)\n",
    "        .databunch(bs=bs)\n",
    "        .normalize(imagenet_stats))\n",
    "\n",
    "learn = cnn_learner(data,models.resnet50, metrics=[accuracy, f1])\n",
    "learn.model_dir = models_path\n",
    "learn.loss_func =CombinedLoss();\n",
    "learn.to_fp16();"
   ]
  },
  {
   "cell_type": "code",
   "execution_count": 11,
   "metadata": {},
   "outputs": [
    {
     "data": {
      "text/plain": [
       "array([0, 2, 1, 3])"
      ]
     },
     "execution_count": 11,
     "metadata": {},
     "output_type": "execute_result"
    }
   ],
   "source": [
    "classification_labels.label.unique()"
   ]
  },
  {
   "cell_type": "code",
   "execution_count": 12,
   "metadata": {},
   "outputs": [
    {
     "data": {
      "text/html": [],
      "text/plain": [
       "<IPython.core.display.HTML object>"
      ]
     },
     "metadata": {},
     "output_type": "display_data"
    },
    {
     "name": "stdout",
     "output_type": "stream",
     "text": [
      "LR Finder is complete, type {learner_name}.recorder.plot() to see the graph.\n"
     ]
    },
    {
     "data": {
      "image/png": "[encoded data removed]",
      "text/plain": [
       "<Figure size 432x288 with 1 Axes>"
      ]
     },
     "metadata": {
      "needs_background": "light"
     },
     "output_type": "display_data"
    }
   ],
   "source": [
    "learn.lr_find()\n",
    "learn.recorder.plot();"
   ]
  },
  {
   "cell_type": "code",
   "execution_count": 13,
   "metadata": {},
   "outputs": [
    {
     "data": {
      "text/html": [
       "<table border=\"1\" class=\"dataframe\">\n",
       "  <thead>\n",
       "    <tr style=\"text-align: left;\">\n",
       "      <th>epoch</th>\n",
       "      <th>train_loss</th>\n",
       "      <th>valid_loss</th>\n",
       "      <th>accuracy</th>\n",
       "      <th>f1</th>\n",
       "      <th>time</th>\n",
       "    </tr>\n",
       "  </thead>\n",
       "  <tbody>\n",
       "    <tr>\n",
       "      <td>0</td>\n",
       "      <td>0.491344</td>\n",
       "      <td>0.484127</td>\n",
       "      <td>0.793903</td>\n",
       "      <td>0.789676</td>\n",
       "      <td>03:23</td>\n",
       "    </tr>\n",
       "    <tr>\n",
       "      <td>1</td>\n",
       "      <td>0.485719</td>\n",
       "      <td>0.478583</td>\n",
       "      <td>0.804392</td>\n",
       "      <td>0.785747</td>\n",
       "      <td>03:25</td>\n",
       "    </tr>\n",
       "    <tr>\n",
       "      <td>2</td>\n",
       "      <td>0.483963</td>\n",
       "      <td>0.476318</td>\n",
       "      <td>0.808624</td>\n",
       "      <td>0.803903</td>\n",
       "      <td>03:23</td>\n",
       "    </tr>\n",
       "  </tbody>\n",
       "</table>"
      ],
      "text/plain": [
       "<IPython.core.display.HTML object>"
      ]
     },
     "metadata": {},
     "output_type": "display_data"
    }
   ],
   "source": [
    "learn.fit_one_cycle(3, max_lr=1e-3)"
   ]
  },
  {
   "cell_type": "code",
   "execution_count": 14,
   "metadata": {},
   "outputs": [],
   "source": [
    "learn.save('22Dec-rotated-bbox-damage-classification')"
   ]
  },
  {
   "cell_type": "code",
   "execution_count": 20,
   "metadata": {},
   "outputs": [],
   "source": [
    "learn.load('22Dec-rotated-bbox-damage-classification');"
   ]
  },
  {
   "cell_type": "code",
   "execution_count": 21,
   "metadata": {},
   "outputs": [
    {
     "data": {
      "text/html": [],
      "text/plain": [
       "<IPython.core.display.HTML object>"
      ]
     },
     "metadata": {},
     "output_type": "display_data"
    },
    {
     "name": "stdout",
     "output_type": "stream",
     "text": [
      "LR Finder is complete, type {learner_name}.recorder.plot() to see the graph.\n"
     ]
    },
    {
     "data": {
      "image/png": "[encoded data removed]",
      "text/plain": [
       "<Figure size 432x288 with 1 Axes>"
      ]
     },
     "metadata": {
      "needs_background": "light"
     },
     "output_type": "display_data"
    }
   ],
   "source": [
    "size=128\n",
    "data = (src\n",
    "        .transform(get_transforms(do_flip=True, \n",
    "             flip_vert=True, \n",
    "             max_rotate=180, \n",
    "             max_zoom=1.2, \n",
    "             max_lighting=0.5,\n",
    "             max_warp=0.2, \n",
    "             p_affine=0.75, \n",
    "             p_lighting=0.75), size=size, tfm_y=False)\n",
    "        .add_test_folder(damage_crops_test_folder)\n",
    "        .databunch(bs=bs)\n",
    "        .normalize(imagenet_stats))\n",
    "learn.to_fp32()\n",
    "learn.data = data\n",
    "learn.to_fp16()\n",
    "learn.lr_find()\n",
    "learn.recorder.plot();"
   ]
  },
  {
   "cell_type": "code",
   "execution_count": 22,
   "metadata": {},
   "outputs": [
    {
     "data": {
      "text/html": [
       "<table border=\"1\" class=\"dataframe\">\n",
       "  <thead>\n",
       "    <tr style=\"text-align: left;\">\n",
       "      <th>epoch</th>\n",
       "      <th>train_loss</th>\n",
       "      <th>valid_loss</th>\n",
       "      <th>accuracy</th>\n",
       "      <th>f1</th>\n",
       "      <th>time</th>\n",
       "    </tr>\n",
       "  </thead>\n",
       "  <tbody>\n",
       "    <tr>\n",
       "      <td>0</td>\n",
       "      <td>0.486130</td>\n",
       "      <td>0.475966</td>\n",
       "      <td>0.809115</td>\n",
       "      <td>0.805172</td>\n",
       "      <td>03:23</td>\n",
       "    </tr>\n",
       "    <tr>\n",
       "      <td>1</td>\n",
       "      <td>0.484535</td>\n",
       "      <td>0.475761</td>\n",
       "      <td>0.810280</td>\n",
       "      <td>0.805325</td>\n",
       "      <td>03:24</td>\n",
       "    </tr>\n",
       "    <tr>\n",
       "      <td>2</td>\n",
       "      <td>0.483575</td>\n",
       "      <td>0.475448</td>\n",
       "      <td>0.810219</td>\n",
       "      <td>0.804628</td>\n",
       "      <td>03:24</td>\n",
       "    </tr>\n",
       "  </tbody>\n",
       "</table>"
      ],
      "text/plain": [
       "<IPython.core.display.HTML object>"
      ]
     },
     "metadata": {},
     "output_type": "display_data"
    }
   ],
   "source": [
    "\n",
    "\n",
    "learn.fit_one_cycle(3, max_lr=1e-6)"
   ]
  },
  {
   "cell_type": "code",
   "execution_count": 23,
   "metadata": {},
   "outputs": [],
   "source": [
    "learn.save('22Dec-rotated-bbox-damage-classification')"
   ]
  },
  {
   "cell_type": "code",
   "execution_count": 24,
   "metadata": {},
   "outputs": [
    {
     "data": {
      "text/html": [],
      "text/plain": [
       "<IPython.core.display.HTML object>"
      ]
     },
     "metadata": {},
     "output_type": "display_data"
    },
    {
     "name": "stdout",
     "output_type": "stream",
     "text": [
      "LR Finder is complete, type {learner_name}.recorder.plot() to see the graph.\n"
     ]
    },
    {
     "data": {
      "image/png": "[encoded data removed]",
      "text/plain": [
       "<Figure size 432x288 with 1 Axes>"
      ]
     },
     "metadata": {
      "needs_background": "light"
     },
     "output_type": "display_data"
    }
   ],
   "source": [
    "learn.unfreeze()\n",
    "learn.lr_find()\n",
    "learn.recorder.plot();"
   ]
  },
  {
   "cell_type": "code",
   "execution_count": 25,
   "metadata": {},
   "outputs": [
    {
     "data": {
      "text/html": [
       "<table border=\"1\" class=\"dataframe\">\n",
       "  <thead>\n",
       "    <tr style=\"text-align: left;\">\n",
       "      <th>epoch</th>\n",
       "      <th>train_loss</th>\n",
       "      <th>valid_loss</th>\n",
       "      <th>accuracy</th>\n",
       "      <th>f1</th>\n",
       "      <th>time</th>\n",
       "    </tr>\n",
       "  </thead>\n",
       "  <tbody>\n",
       "    <tr>\n",
       "      <td>0</td>\n",
       "      <td>0.483555</td>\n",
       "      <td>0.474995</td>\n",
       "      <td>0.811078</td>\n",
       "      <td>0.803569</td>\n",
       "      <td>04:47</td>\n",
       "    </tr>\n",
       "    <tr>\n",
       "      <td>1</td>\n",
       "      <td>0.478454</td>\n",
       "      <td>0.474638</td>\n",
       "      <td>0.812550</td>\n",
       "      <td>0.803661</td>\n",
       "      <td>05:00</td>\n",
       "    </tr>\n",
       "    <tr>\n",
       "      <td>2</td>\n",
       "      <td>0.477781</td>\n",
       "      <td>0.474861</td>\n",
       "      <td>0.811936</td>\n",
       "      <td>0.806214</td>\n",
       "      <td>04:59</td>\n",
       "    </tr>\n",
       "    <tr>\n",
       "      <td>3</td>\n",
       "      <td>0.478280</td>\n",
       "      <td>0.474415</td>\n",
       "      <td>0.812366</td>\n",
       "      <td>0.805690</td>\n",
       "      <td>04:52</td>\n",
       "    </tr>\n",
       "    <tr>\n",
       "      <td>4</td>\n",
       "      <td>0.479390</td>\n",
       "      <td>0.473904</td>\n",
       "      <td>0.814083</td>\n",
       "      <td>0.803436</td>\n",
       "      <td>04:54</td>\n",
       "    </tr>\n",
       "    <tr>\n",
       "      <td>5</td>\n",
       "      <td>0.476102</td>\n",
       "      <td>0.474155</td>\n",
       "      <td>0.813347</td>\n",
       "      <td>0.806103</td>\n",
       "      <td>04:51</td>\n",
       "    </tr>\n",
       "  </tbody>\n",
       "</table>"
      ],
      "text/plain": [
       "<IPython.core.display.HTML object>"
      ]
     },
     "metadata": {},
     "output_type": "display_data"
    },
    {
     "name": "stdout",
     "output_type": "stream",
     "text": [
      "Better model found at epoch 0 with f1 value: 0.8035688996315002.\n",
      "Better model found at epoch 1 with f1 value: 0.8036611080169678.\n",
      "Better model found at epoch 2 with f1 value: 0.8062142729759216.\n"
     ]
    }
   ],
   "source": [
    "callbacks=[SaveModelCallback(learn, every='improvement', monitor='f1', name='22Dec-rotated-bbox-damage-classification_unfrozen'),\n",
    "#           TerminateOnNaNCallback(),\n",
    "           ReduceLROnPlateauCallback(learn, patience=1)\n",
    "          ]\n",
    "\n",
    "\n",
    "learn.fit_one_cycle(6, max_lr=1e-6, callbacks=callbacks)"
   ]
  },
  {
   "cell_type": "code",
   "execution_count": 27,
   "metadata": {},
   "outputs": [
    {
     "data": {
      "text/html": [
       "<table border=\"1\" class=\"dataframe\">\n",
       "  <thead>\n",
       "    <tr style=\"text-align: left;\">\n",
       "      <th>epoch</th>\n",
       "      <th>train_loss</th>\n",
       "      <th>valid_loss</th>\n",
       "      <th>accuracy</th>\n",
       "      <th>f1</th>\n",
       "      <th>time</th>\n",
       "    </tr>\n",
       "  </thead>\n",
       "  <tbody>\n",
       "    <tr>\n",
       "      <td>0</td>\n",
       "      <td>0.204766</td>\n",
       "      <td>0.185956</td>\n",
       "      <td>0.771024</td>\n",
       "      <td>0.747312</td>\n",
       "      <td>03:21</td>\n",
       "    </tr>\n",
       "    <tr>\n",
       "      <td>1</td>\n",
       "      <td>0.189451</td>\n",
       "      <td>0.181884</td>\n",
       "      <td>0.792554</td>\n",
       "      <td>0.784924</td>\n",
       "      <td>03:21</td>\n",
       "    </tr>\n",
       "    <tr>\n",
       "      <td>2</td>\n",
       "      <td>0.185333</td>\n",
       "      <td>0.178907</td>\n",
       "      <td>0.798197</td>\n",
       "      <td>0.792064</td>\n",
       "      <td>03:22</td>\n",
       "    </tr>\n",
       "    <tr>\n",
       "      <td>3</td>\n",
       "      <td>0.185187</td>\n",
       "      <td>0.177954</td>\n",
       "      <td>0.803778</td>\n",
       "      <td>0.798107</td>\n",
       "      <td>03:23</td>\n",
       "    </tr>\n",
       "    <tr>\n",
       "      <td>4</td>\n",
       "      <td>0.183084</td>\n",
       "      <td>0.176836</td>\n",
       "      <td>0.807152</td>\n",
       "      <td>0.803640</td>\n",
       "      <td>03:22</td>\n",
       "    </tr>\n",
       "    <tr>\n",
       "      <td>5</td>\n",
       "      <td>0.184098</td>\n",
       "      <td>0.176271</td>\n",
       "      <td>0.809912</td>\n",
       "      <td>0.802620</td>\n",
       "      <td>03:22</td>\n",
       "    </tr>\n",
       "  </tbody>\n",
       "</table>"
      ],
      "text/plain": [
       "<IPython.core.display.HTML object>"
      ]
     },
     "metadata": {},
     "output_type": "display_data"
    },
    {
     "name": "stdout",
     "output_type": "stream",
     "text": [
      "Better model found at epoch 0 with f1 value: 0.747312068939209.\n",
      "Better model found at epoch 1 with f1 value: 0.7849237322807312.\n",
      "Better model found at epoch 2 with f1 value: 0.7920640110969543.\n",
      "Better model found at epoch 3 with f1 value: 0.7981066107749939.\n",
      "Better model found at epoch 4 with f1 value: 0.8036397099494934.\n"
     ]
    }
   ],
   "source": [
    "del learn\n",
    "gc.collect()\n",
    "\n",
    "\n",
    "learn = cnn_learner(data,models.resnet50, metrics=[accuracy, f1])\n",
    "learn.model_dir = models_path\n",
    "learn.loss_func =CombinedLoss(alpha=0.5, gamma=3);\n",
    "learn.to_fp16();\n",
    "callbacks=[SaveModelCallback(learn, every='improvement', monitor='f1', name='22Dec-rotated-bbox-damage-classification_alpha05_gamma3'),\n",
    "#           TerminateOnNaNCallback(),\n",
    "           ReduceLROnPlateauCallback(learn, patience=1, monitor='f1')\n",
    "          ]\n",
    "\n",
    "\n",
    "learn.fit_one_cycle(6, max_lr=1e-4, callbacks=callbacks)"
   ]
  },
  {
   "cell_type": "code",
   "execution_count": 28,
   "metadata": {},
   "outputs": [
    {
     "data": {
      "text/html": [
       "<table border=\"1\" class=\"dataframe\">\n",
       "  <thead>\n",
       "    <tr style=\"text-align: left;\">\n",
       "      <th>epoch</th>\n",
       "      <th>train_loss</th>\n",
       "      <th>valid_loss</th>\n",
       "      <th>accuracy</th>\n",
       "      <th>f1</th>\n",
       "      <th>time</th>\n",
       "    </tr>\n",
       "  </thead>\n",
       "  <tbody>\n",
       "    <tr>\n",
       "      <td>0</td>\n",
       "      <td>0.117271</td>\n",
       "      <td>0.105037</td>\n",
       "      <td>0.769368</td>\n",
       "      <td>0.743907</td>\n",
       "      <td>03:24</td>\n",
       "    </tr>\n",
       "    <tr>\n",
       "      <td>1</td>\n",
       "      <td>0.107941</td>\n",
       "      <td>0.101743</td>\n",
       "      <td>0.793044</td>\n",
       "      <td>0.780026</td>\n",
       "      <td>03:29</td>\n",
       "    </tr>\n",
       "    <tr>\n",
       "      <td>2</td>\n",
       "      <td>0.103287</td>\n",
       "      <td>0.100122</td>\n",
       "      <td>0.800159</td>\n",
       "      <td>0.775811</td>\n",
       "      <td>03:28</td>\n",
       "    </tr>\n",
       "    <tr>\n",
       "      <td>3</td>\n",
       "      <td>0.103072</td>\n",
       "      <td>0.098539</td>\n",
       "      <td>0.806171</td>\n",
       "      <td>0.767417</td>\n",
       "      <td>03:26</td>\n",
       "    </tr>\n",
       "    <tr>\n",
       "      <td>4</td>\n",
       "      <td>0.102340</td>\n",
       "      <td>0.097959</td>\n",
       "      <td>0.809790</td>\n",
       "      <td>0.762834</td>\n",
       "      <td>03:30</td>\n",
       "    </tr>\n",
       "    <tr>\n",
       "      <td>5</td>\n",
       "      <td>0.102570</td>\n",
       "      <td>0.097842</td>\n",
       "      <td>0.811016</td>\n",
       "      <td>0.760430</td>\n",
       "      <td>03:26</td>\n",
       "    </tr>\n",
       "  </tbody>\n",
       "</table>"
      ],
      "text/plain": [
       "<IPython.core.display.HTML object>"
      ]
     },
     "metadata": {},
     "output_type": "display_data"
    },
    {
     "name": "stdout",
     "output_type": "stream",
     "text": [
      "Better model found at epoch 0 with f1 value: 0.7439070343971252.\n",
      "Better model found at epoch 1 with f1 value: 0.780026376247406.\n"
     ]
    }
   ],
   "source": [
    "# hmm, this is no good\n",
    "del learn\n",
    "gc.collect()\n",
    "\n",
    "\n",
    "learn = cnn_learner(data,models.resnet50, metrics=[accuracy, f1])\n",
    "learn.model_dir = models_path\n",
    "learn.loss_func =CombinedLoss(alpha=0.75, gamma=3);\n",
    "learn.to_fp16();\n",
    "callbacks=[SaveModelCallback(learn, every='improvement', monitor='f1', name='22Dec-rotated-bbox-damage-classification_alpha075_gamma3'),\n",
    "#           TerminateOnNaNCallback(),\n",
    "           ReduceLROnPlateauCallback(learn, patience=1, monitor='f1')\n",
    "          ]\n",
    "\n",
    "\n",
    "learn.fit_one_cycle(6, max_lr=1e-4, callbacks=callbacks)"
   ]
  },
  {
   "cell_type": "code",
   "execution_count": null,
   "metadata": {},
   "outputs": [],
   "source": []
  },
  {
   "cell_type": "code",
   "execution_count": 30,
   "metadata": {},
   "outputs": [
    {
     "data": {
      "text/html": [],
      "text/plain": [
       "<IPython.core.display.HTML object>"
      ]
     },
     "metadata": {},
     "output_type": "display_data"
    }
   ],
   "source": [
    "del learn\n",
    "gc.collect()\n",
    "\n",
    "best_alpha = 0.25\n",
    "best_gamma=2.\n",
    "best_model = '22Dec-rotated-bbox-damage-classification_unfrozen'\n",
    "learn = cnn_learner(data,models.resnet50, metrics=[accuracy, f1])\n",
    "learn.model_dir = models_path\n",
    "learn.loss_func =CombinedLoss(alpha=best_alpha, gamma=best_gamma);\n",
    "learn.to_fp16();\n",
    "learn.load(best_model)\n",
    "predictions, y, losses = learn.get_preds(ds_type=DatasetType.Test, with_loss=True)\n",
    "y = torch.argmax(predictions, dim=1)"
   ]
  },
  {
   "cell_type": "code",
   "execution_count": null,
   "metadata": {},
   "outputs": [],
   "source": []
  },
  {
   "cell_type": "code",
   "execution_count": 31,
   "metadata": {},
   "outputs": [
    {
     "data": {
      "text/html": [
       "<div>\n",
       "<style scoped>\n",
       "    .dataframe tbody tr th:only-of-type {\n",
       "        vertical-align: middle;\n",
       "    }\n",
       "\n",
       "    .dataframe tbody tr th {\n",
       "        vertical-align: top;\n",
       "    }\n",
       "\n",
       "    .dataframe thead th {\n",
       "        text-align: right;\n",
       "    }\n",
       "</style>\n",
       "<table border=\"1\" class=\"dataframe\">\n",
       "  <thead>\n",
       "    <tr style=\"text-align: right;\">\n",
       "      <th></th>\n",
       "      <th>geometry</th>\n",
       "      <th>value</th>\n",
       "      <th>polygon_id</th>\n",
       "      <th>img_id</th>\n",
       "      <th>crop_filename</th>\n",
       "      <th>damage_cls</th>\n",
       "    </tr>\n",
       "  </thead>\n",
       "  <tbody>\n",
       "    <tr>\n",
       "      <th>0</th>\n",
       "      <td>LINEARRING (622 0, 622 2, 624 2, 624 4, 626 4,...</td>\n",
       "      <td>255.0</td>\n",
       "      <td>81af5119-6405-4945-b878-39959bf5fe59</td>\n",
       "      <td>test_damage_00000_prediction.png</td>\n",
       "      <td>81af5119-6405-4945-b878-39959bf5fe59.png</td>\n",
       "      <td>1</td>\n",
       "    </tr>\n",
       "    <tr>\n",
       "      <th>1</th>\n",
       "      <td>LINEARRING (744 0, 744 4, 746 4, 746 8, 748 8,...</td>\n",
       "      <td>255.0</td>\n",
       "      <td>874f04d5-31a0-4d02-a806-63284e22f816</td>\n",
       "      <td>test_damage_00000_prediction.png</td>\n",
       "      <td>874f04d5-31a0-4d02-a806-63284e22f816.png</td>\n",
       "      <td>1</td>\n",
       "    </tr>\n",
       "    <tr>\n",
       "      <th>2</th>\n",
       "      <td>LINEARRING (576 42, 576 44, 572 44, 572 46, 57...</td>\n",
       "      <td>255.0</td>\n",
       "      <td>492a78ad-86f9-4099-86f9-3eeee4e8c3e5</td>\n",
       "      <td>test_damage_00000_prediction.png</td>\n",
       "      <td>492a78ad-86f9-4099-86f9-3eeee4e8c3e5.png</td>\n",
       "      <td>1</td>\n",
       "    </tr>\n",
       "    <tr>\n",
       "      <th>3</th>\n",
       "      <td>LINEARRING (394 78, 394 80, 388 80, 388 82, 38...</td>\n",
       "      <td>255.0</td>\n",
       "      <td>f87c9445-b7fa-40b8-bfdf-ab1368d3f894</td>\n",
       "      <td>test_damage_00000_prediction.png</td>\n",
       "      <td>f87c9445-b7fa-40b8-bfdf-ab1368d3f894.png</td>\n",
       "      <td>1</td>\n",
       "    </tr>\n",
       "    <tr>\n",
       "      <th>4</th>\n",
       "      <td>LINEARRING (684 108, 686 108, 686 106, 688 106...</td>\n",
       "      <td>255.0</td>\n",
       "      <td>e23cf0eb-953a-461a-ab3d-73e0b2cbd6bd</td>\n",
       "      <td>test_damage_00000_prediction.png</td>\n",
       "      <td>e23cf0eb-953a-461a-ab3d-73e0b2cbd6bd.png</td>\n",
       "      <td>1</td>\n",
       "    </tr>\n",
       "  </tbody>\n",
       "</table>\n",
       "</div>"
      ],
      "text/plain": [
       "                                            geometry  value  \\\n",
       "0  LINEARRING (622 0, 622 2, 624 2, 624 4, 626 4,...  255.0   \n",
       "1  LINEARRING (744 0, 744 4, 746 4, 746 8, 748 8,...  255.0   \n",
       "2  LINEARRING (576 42, 576 44, 572 44, 572 46, 57...  255.0   \n",
       "3  LINEARRING (394 78, 394 80, 388 80, 388 82, 38...  255.0   \n",
       "4  LINEARRING (684 108, 686 108, 686 106, 688 106...  255.0   \n",
       "\n",
       "                             polygon_id                            img_id  \\\n",
       "0  81af5119-6405-4945-b878-39959bf5fe59  test_damage_00000_prediction.png   \n",
       "1  874f04d5-31a0-4d02-a806-63284e22f816  test_damage_00000_prediction.png   \n",
       "2  492a78ad-86f9-4099-86f9-3eeee4e8c3e5  test_damage_00000_prediction.png   \n",
       "3  f87c9445-b7fa-40b8-bfdf-ab1368d3f894  test_damage_00000_prediction.png   \n",
       "4  e23cf0eb-953a-461a-ab3d-73e0b2cbd6bd  test_damage_00000_prediction.png   \n",
       "\n",
       "                              crop_filename  damage_cls  \n",
       "0  81af5119-6405-4945-b878-39959bf5fe59.png           1  \n",
       "1  874f04d5-31a0-4d02-a806-63284e22f816.png           1  \n",
       "2  492a78ad-86f9-4099-86f9-3eeee4e8c3e5.png           1  \n",
       "3  f87c9445-b7fa-40b8-bfdf-ab1368d3f894.png           1  \n",
       "4  e23cf0eb-953a-461a-ab3d-73e0b2cbd6bd.png           1  "
      ]
     },
     "execution_count": 31,
     "metadata": {},
     "output_type": "execute_result"
    }
   ],
   "source": [
    "labels = pd.read_csv(data_dir/\"test_polygons.csv\")\n",
    "labels[\"crop_filename\"] = labels.polygon_id.apply(lambda x: f\"{x}.png\")\n",
    "\n",
    "polygon_ids = [x.name.replace('.png', '') for x in data.test_dl.dataset.items]\n",
    "prediction_cls = [x+1 for x in y.numpy()]\n",
    "\n",
    "test_results = pd.DataFrame(data={'polygon_id': polygon_ids, 'damage_cls': prediction_cls})\n",
    "test_results = labels.merge(test_results, left_on='polygon_id', right_on='polygon_id')\n",
    "test_results.geometry = test_results.geometry.apply(lambda x: wkt.loads(x).exterior)\n",
    "test_results.img_id = test_results.img_id.str.replace('localization', 'damage')\n",
    "\n",
    "test_results.head()"
   ]
  },
  {
   "cell_type": "code",
   "execution_count": 33,
   "metadata": {},
   "outputs": [
    {
     "data": {
      "text/plain": [
       "1    0.88484\n",
       "4    0.06650\n",
       "2    0.04554\n",
       "3    0.00312\n",
       "Name: damage_cls, dtype: float64"
      ]
     },
     "execution_count": 33,
     "metadata": {},
     "output_type": "execute_result"
    }
   ],
   "source": [
    "test_results.damage_cls.value_counts(normalize=True)"
   ]
  },
  {
   "cell_type": "code",
   "execution_count": 34,
   "metadata": {},
   "outputs": [],
   "source": [
    "from cv2 import fillPoly, imwrite\n",
    "\n",
    "\n",
    "def create_image(img_id, output_path):\n",
    "    mask_img = np.zeros((1024, 1024, 1), np.uint8)\n",
    "    img_polys = test_results[test_results.img_id == img_id]\n",
    "    if len(img_polys) > 0:\n",
    "        for r in img_polys.iterrows():\n",
    "            row = r[1]\n",
    "            poly_np = np.array(row.geometry.coords, np.int32)\n",
    "            fillPoly(mask_img, [poly_np], row['damage_cls'])\n",
    "\n",
    "    imwrite(str(output_path / img_id), mask_img)\n",
    "    return mask_img"
   ]
  },
  {
   "cell_type": "code",
   "execution_count": 35,
   "metadata": {},
   "outputs": [
    {
     "name": "stderr",
     "output_type": "stream",
     "text": [
      "100%|██████████| 933/933 [00:07<00:00, 128.73it/s]\n"
     ]
    }
   ],
   "source": [
    "\n",
    "output_path = data_dir/\"test_masks\"\n",
    "\n",
    "img_ids = [re.findall(r'\\d+', x.name )[0] for x in (data_dir/\"test\"/\"images\").ls() if 'post' in x.name]\n",
    "img_ids = [f\"test_damage_{x}_prediction.png\" for x in img_ids]\n",
    "\n",
    "outputs = [create_image(img_id, output_path) for img_id in tqdm(img_ids)]"
   ]
  },
  {
   "cell_type": "code",
   "execution_count": 36,
   "metadata": {},
   "outputs": [],
   "source": [
    "from submission_utils import load_and_validate_image\n",
    "_=[load_and_validate_image(x) for x in output_path.ls()]"
   ]
  },
  {
   "cell_type": "code",
   "execution_count": null,
   "metadata": {},
   "outputs": [],
   "source": []
  }
 ],
 "metadata": {
  "kernelspec": {
   "display_name": "fastai-solaris",
   "language": "python",
   "name": "fastai-solaris"
  },
  "language_info": {
   "codemirror_mode": {
    "name": "ipython",
    "version": 3
   },
   "file_extension": ".py",
   "mimetype": "text/x-python",
   "name": "python",
   "nbconvert_exporter": "python",
   "pygments_lexer": "ipython3",
   "version": "3.7.3"
  }
 },
 "nbformat": 4,
 "nbformat_minor": 2
}
