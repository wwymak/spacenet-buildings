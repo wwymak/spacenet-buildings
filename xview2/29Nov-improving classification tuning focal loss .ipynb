{
 "cells": [
  {
   "cell_type": "code",
   "execution_count": 3,
   "metadata": {},
   "outputs": [
    {
     "name": "stdout",
     "output_type": "stream",
     "text": [
      "The autoreload extension is already loaded. To reload it, use:\n",
      "  %reload_ext autoreload\n",
      "env: PROJ_LIB=/home/wwymak/anaconda3/envs/solaris/share/proj\n"
     ]
    }
   ],
   "source": [
    "import warnings\n",
    "warnings.filterwarnings(\"ignore\")\n",
    "from shapely import wkt\n",
    "import glob\n",
    "\n",
    "\n",
    "%load_ext autoreload\n",
    "%autoreload 2\n",
    "%env PROJ_LIB=/home/wwymak/anaconda3/envs/solaris/share/proj\n",
    "%matplotlib inline\n",
    "\n",
    "import skimage\n",
    "\n",
    "from tqdm import tqdm\n",
    "import numpy as np\n",
    "import cv2\n",
    "from functools import partial\n",
    "\n",
    "from fastai.imports import *\n",
    "from fastai.vision import *\n",
    "from fastai.metrics import dice\n",
    "from fastai.callbacks import *\n",
    "\n",
    "from joblib import Parallel, delayed\n",
    "import torch.nn.functional as F\n",
    "import torch\n",
    "import functools, traceback\n",
    "def gpu_mem_restore(func):\n",
    "    \"\"\"Reclaim GPU RAM if CUDA out of memory happened, or execution was interrupted\"\"\"\n",
    "    @functools.wraps(func)\n",
    "    def wrapper(*args, **kwargs):\n",
    "        try:\n",
    "            return func(*args, **kwargs)\n",
    "        except:\n",
    "            type, val, tb = sys.exc_info()\n",
    "            traceback.clear_frames(tb)\n",
    "            raise type(val).with_traceback(tb) from None\n",
    "    return wrapper\n",
    "\n",
    "os.environ['FASTAI_TB_CLEAR_FRAMES']=\"1\"\n",
    "\n",
    "from catalyst.contrib.criterion import FocalLossMultiClass, DiceLoss, BCEDiceLoss, LovaszLossBinary,LovaszLossMultiClass\n",
    "\n",
    "from importlib import reload"
   ]
  },
  {
   "cell_type": "code",
   "execution_count": 4,
   "metadata": {},
   "outputs": [],
   "source": [
    "def to_onehot(indices, num_classes):\n",
    "    \"\"\"Convert a tensor of indices of any shape `(N, ...)` to a\n",
    "    tensor of one-hot indicators of shape `(N, num_classes, ...) and of type uint8. Output's device is equal to the\n",
    "    input's device`.\n",
    "    \"\"\"\n",
    "    onehot = torch.zeros(indices.shape[0], num_classes, *indices.shape[1:],\n",
    "#                              dtype=torch.uint8,\n",
    "                         device=indices.device)\n",
    "    return onehot.scatter_(1, indices.unsqueeze(1), 1)\n",
    "class CombinedLoss(nn.Module):\n",
    "\n",
    "    def __init__(self, gamma=2., alpha=0.25):\n",
    "        super(CombinedLoss, self).__init__()\n",
    "        self.gamma = gamma\n",
    "        self.alpha = alpha\n",
    "\n",
    "    def forward(self, input, target):\n",
    "        y = to_onehot(target, input.size(-1))\n",
    "        logit = F.softmax(input)\n",
    "                     \n",
    "        focal_loss = FocalLossMultiClass(gamma=self.gamma, alpha=self.alpha)\n",
    "#         bce_dice = BCEDiceLoss()\n",
    "#         lovaz_loss = LovaszLossBinary()\n",
    "#         dice_loss = DiceLoss(activation='Softmax')\n",
    "        \n",
    "        total_loss = focal_loss(logit, target) #+ 0.2 * dice_loss(logit, y)\n",
    "        return total_loss"
   ]
  },
  {
   "cell_type": "code",
   "execution_count": 16,
   "metadata": {},
   "outputs": [],
   "source": [
    "data_dir = Path(\"/media/wwymak/Storage/xView2\")\n",
    "models_path = data_dir / \"models\"\n",
    "classifcation_crop_dir = data_dir/\"classification_crops\"\n",
    "classification_labels = pd.read_csv(data_dir/\"train.csv\")\n",
    "\n",
    "damage_crops_test_folder = data_dir / \"classification_crops_test\""
   ]
  },
  {
   "cell_type": "code",
   "execution_count": 6,
   "metadata": {},
   "outputs": [
    {
     "data": {
      "text/html": [
       "<div>\n",
       "<style scoped>\n",
       "    .dataframe tbody tr th:only-of-type {\n",
       "        vertical-align: middle;\n",
       "    }\n",
       "\n",
       "    .dataframe tbody tr th {\n",
       "        vertical-align: top;\n",
       "    }\n",
       "\n",
       "    .dataframe thead th {\n",
       "        text-align: right;\n",
       "    }\n",
       "</style>\n",
       "<table border=\"1\" class=\"dataframe\">\n",
       "  <thead>\n",
       "    <tr style=\"text-align: right;\">\n",
       "      <th></th>\n",
       "      <th>uuid</th>\n",
       "      <th>img_id</th>\n",
       "      <th>label</th>\n",
       "      <th>crop_filename</th>\n",
       "    </tr>\n",
       "  </thead>\n",
       "  <tbody>\n",
       "    <tr>\n",
       "      <td>0</td>\n",
       "      <td>c18d34cd-d48d-43ba-9d9c-011b6f9d5eb8</td>\n",
       "      <td>palu-tsunami_00000024_post_disaster.png</td>\n",
       "      <td>0</td>\n",
       "      <td>c18d34cd-d48d-43ba-9d9c-011b6f9d5eb8.png</td>\n",
       "    </tr>\n",
       "    <tr>\n",
       "      <td>1</td>\n",
       "      <td>4db83f7b-7c77-4cb4-8ea7-ad5a338a92b1</td>\n",
       "      <td>palu-tsunami_00000024_post_disaster.png</td>\n",
       "      <td>0</td>\n",
       "      <td>4db83f7b-7c77-4cb4-8ea7-ad5a338a92b1.png</td>\n",
       "    </tr>\n",
       "    <tr>\n",
       "      <td>2</td>\n",
       "      <td>fc34426b-db11-403d-bdcf-1527b7d2508a</td>\n",
       "      <td>palu-tsunami_00000024_post_disaster.png</td>\n",
       "      <td>0</td>\n",
       "      <td>fc34426b-db11-403d-bdcf-1527b7d2508a.png</td>\n",
       "    </tr>\n",
       "    <tr>\n",
       "      <td>3</td>\n",
       "      <td>052f9f14-e32e-484a-811d-cd0fac134493</td>\n",
       "      <td>palu-tsunami_00000024_post_disaster.png</td>\n",
       "      <td>0</td>\n",
       "      <td>052f9f14-e32e-484a-811d-cd0fac134493.png</td>\n",
       "    </tr>\n",
       "    <tr>\n",
       "      <td>4</td>\n",
       "      <td>577576f3-3bdc-41ec-a571-6f6cf843cf3b</td>\n",
       "      <td>palu-tsunami_00000024_post_disaster.png</td>\n",
       "      <td>0</td>\n",
       "      <td>577576f3-3bdc-41ec-a571-6f6cf843cf3b.png</td>\n",
       "    </tr>\n",
       "  </tbody>\n",
       "</table>\n",
       "</div>"
      ],
      "text/plain": [
       "                                   uuid  \\\n",
       "0  c18d34cd-d48d-43ba-9d9c-011b6f9d5eb8   \n",
       "1  4db83f7b-7c77-4cb4-8ea7-ad5a338a92b1   \n",
       "2  fc34426b-db11-403d-bdcf-1527b7d2508a   \n",
       "3  052f9f14-e32e-484a-811d-cd0fac134493   \n",
       "4  577576f3-3bdc-41ec-a571-6f6cf843cf3b   \n",
       "\n",
       "                                    img_id  label  \\\n",
       "0  palu-tsunami_00000024_post_disaster.png      0   \n",
       "1  palu-tsunami_00000024_post_disaster.png      0   \n",
       "2  palu-tsunami_00000024_post_disaster.png      0   \n",
       "3  palu-tsunami_00000024_post_disaster.png      0   \n",
       "4  palu-tsunami_00000024_post_disaster.png      0   \n",
       "\n",
       "                              crop_filename  \n",
       "0  c18d34cd-d48d-43ba-9d9c-011b6f9d5eb8.png  \n",
       "1  4db83f7b-7c77-4cb4-8ea7-ad5a338a92b1.png  \n",
       "2  fc34426b-db11-403d-bdcf-1527b7d2508a.png  \n",
       "3  052f9f14-e32e-484a-811d-cd0fac134493.png  \n",
       "4  577576f3-3bdc-41ec-a571-6f6cf843cf3b.png  "
      ]
     },
     "execution_count": 6,
     "metadata": {},
     "output_type": "execute_result"
    }
   ],
   "source": [
    "classification_labels.head()"
   ]
  },
  {
   "cell_type": "code",
   "execution_count": 7,
   "metadata": {},
   "outputs": [],
   "source": [
    "def get_train_valid_ids(classification_labels_df, valid_pct=0.1, random_seed=42):\n",
    "    np.random.seed(random_seed)\n",
    "    unique_img_ids = classification_labels_df.img_id.unique()\n",
    "    np.random.shuffle(unique_img_ids)\n",
    "    train_img_ids = unique_img_ids[:int(len(unique_img_ids) * (1- valid_pct))]\n",
    "    valid_img_ids = unique_img_ids[int(len(unique_img_ids) * (1- valid_pct)):]\n",
    "    \n",
    "    train_ids = classification_labels_df[classification_labels_df.img_id.isin(train_img_ids)].crop_filename.values\n",
    "    valid_ids = classification_labels_df[classification_labels_df.img_id.isin(valid_img_ids)].crop_filename.values\n",
    "    \n",
    "    return train_ids, valid_ids\n",
    "    "
   ]
  },
  {
   "cell_type": "code",
   "execution_count": 9,
   "metadata": {},
   "outputs": [],
   "source": [
    "train_ids, valid_ids = get_train_valid_ids(classification_labels)"
   ]
  },
  {
   "cell_type": "code",
   "execution_count": 10,
   "metadata": {},
   "outputs": [
    {
     "data": {
      "text/plain": [
       "(0    0.445619\n",
       " 1    0.196012\n",
       " 2    0.185295\n",
       " 3    0.173074\n",
       " Name: label, dtype: float64, 0    0.358821\n",
       " 1    0.225587\n",
       " 2    0.215748\n",
       " 3    0.199844\n",
       " Name: label, dtype: float64)"
      ]
     },
     "execution_count": 10,
     "metadata": {},
     "output_type": "execute_result"
    }
   ],
   "source": [
    "classification_labels_resampled= pd.concat([\n",
    "    classification_labels[(classification_labels.label!= 0) & (~classification_labels.crop_filename.isin(valid_ids))],\n",
    "    classification_labels[(classification_labels.label==0) & (~classification_labels.crop_filename.isin(valid_ids))].sample(frac=0.2),\n",
    "    classification_labels[classification_labels.crop_filename.isin(valid_ids)],\n",
    "])\n",
    "classification_labels_resampled.label.value_counts(normalize=True), classification_labels_resampled[(~classification_labels.crop_filename.isin(valid_ids))].label.value_counts(normalize=True), "
   ]
  },
  {
   "cell_type": "code",
   "execution_count": 12,
   "metadata": {},
   "outputs": [],
   "source": [
    "\n",
    "def is_valid_func(img_fname):\n",
    "    id = Path(img_fname).name\n",
    "    return id in valid_ids\n"
   ]
  },
  {
   "cell_type": "code",
   "execution_count": 14,
   "metadata": {},
   "outputs": [],
   "source": [
    "\n",
    "def f1(y_pred:Tensor, y_true:Tensor):\n",
    "    eps=1e-10\n",
    "    def recall(y_pred,y_true):\n",
    "        \"\"\"Recall metric.\n",
    "        Only computes a batch-wise average of recall.\n",
    "        Computes the recall, a metric for multi-label classification of\n",
    "        how many relevant items are selected.\n",
    "        \"\"\"\n",
    "        true_positives = torch.sum(torch.round(torch.clamp(y_true * y_pred, 0, 1)))\n",
    "        possible_positives = torch.sum(y_true)\n",
    "        recall = true_positives / (possible_positives + eps)\n",
    "        return recall\n",
    "\n",
    "    def precision(y_pred,y_true):\n",
    "        \"\"\"Precision metric.\n",
    "        Only computes a batch-wise average of precision.\n",
    "        Computes the precision, a metric for multi-label classification of\n",
    "        how many selected items are relevant.\n",
    "        \"\"\"\n",
    "        true_positives = torch.sum(torch.round(torch.clamp(y_true * y_pred, 0, 1)))\n",
    "        predicted_positives = torch.sum(torch.round(torch.clamp(y_pred, 0, 1)))\n",
    "        precision = true_positives / (predicted_positives +eps)\n",
    "        return precision\n",
    "\n",
    "    y_true = to_onehot(y_true.view(-1), num_classes=4)\n",
    "    precision = precision(y_pred,y_true)\n",
    "    recall = recall(y_pred,y_true)\n",
    "    return 2*((precision*recall)/(precision+recall+eps))#\n"
   ]
  },
  {
   "cell_type": "code",
   "execution_count": 19,
   "metadata": {},
   "outputs": [],
   "source": [
    "size=128\n",
    "bs=32\n",
    "partial_data_frac=0.2\n",
    "src = (ImageList\n",
    "       .from_df(classification_labels_resampled, path=classifcation_crop_dir, cols=['crop_filename'])\n",
    "#        .use_partial_data(partial_data_frac)\n",
    "       .split_by_valid_func(is_valid_func)\n",
    "       .label_from_df(cols='label'))\n",
    "data = (src\n",
    "        .transform(get_transforms(do_flip=True, \n",
    "             flip_vert=True, \n",
    "             max_rotate=180, \n",
    "             max_zoom=1.2, \n",
    "             max_lighting=0.5,\n",
    "             max_warp=0.2, \n",
    "             p_affine=0.75, \n",
    "             p_lighting=0.75), size=size, tfm_y=False)\n",
    "        .add_test_folder(damage_crops_test_folder)\n",
    "        .databunch(bs=bs)\n",
    "        .normalize(imagenet_stats))\n",
    "\n",
    "learn = cnn_learner(data,models.resnet50, metrics=[accuracy, f1])\n",
    "learn.model_dir = models_path\n",
    "learn.loss_func =CombinedLoss();\n",
    "learn.to_fp16();"
   ]
  },
  {
   "cell_type": "code",
   "execution_count": 20,
   "metadata": {},
   "outputs": [
    {
     "data": {
      "text/html": [],
      "text/plain": [
       "<IPython.core.display.HTML object>"
      ]
     },
     "metadata": {},
     "output_type": "display_data"
    },
    {
     "name": "stdout",
     "output_type": "stream",
     "text": [
      "LR Finder is complete, type {learner_name}.recorder.plot() to see the graph.\n"
     ]
    },
    {
     "data": {
      "image/png": "[encoded data removed]",
      "text/plain": [
       "<Figure size 432x288 with 1 Axes>"
      ]
     },
     "metadata": {
      "needs_background": "light"
     },
     "output_type": "display_data"
    }
   ],
   "source": [
    "learn.lr_find()\n",
    "learn.recorder.plot();"
   ]
  },
  {
   "cell_type": "code",
   "execution_count": 21,
   "metadata": {},
   "outputs": [
    {
     "data": {
      "text/html": [
       "<table border=\"1\" class=\"dataframe\">\n",
       "  <thead>\n",
       "    <tr style=\"text-align: left;\">\n",
       "      <th>epoch</th>\n",
       "      <th>train_loss</th>\n",
       "      <th>valid_loss</th>\n",
       "      <th>accuracy</th>\n",
       "      <th>f1</th>\n",
       "      <th>time</th>\n",
       "    </tr>\n",
       "  </thead>\n",
       "  <tbody>\n",
       "    <tr>\n",
       "      <td>0</td>\n",
       "      <td>0.549413</td>\n",
       "      <td>0.522223</td>\n",
       "      <td>0.693084</td>\n",
       "      <td>0.640034</td>\n",
       "      <td>08:49</td>\n",
       "    </tr>\n",
       "    <tr>\n",
       "      <td>1</td>\n",
       "      <td>0.525035</td>\n",
       "      <td>0.497734</td>\n",
       "      <td>0.750861</td>\n",
       "      <td>0.698931</td>\n",
       "      <td>02:13</td>\n",
       "    </tr>\n",
       "    <tr>\n",
       "      <td>2</td>\n",
       "      <td>0.510372</td>\n",
       "      <td>0.493710</td>\n",
       "      <td>0.762737</td>\n",
       "      <td>0.692531</td>\n",
       "      <td>02:13</td>\n",
       "    </tr>\n",
       "  </tbody>\n",
       "</table>"
      ],
      "text/plain": [
       "<IPython.core.display.HTML object>"
      ]
     },
     "metadata": {},
     "output_type": "display_data"
    }
   ],
   "source": [
    "learn.fit_one_cycle(3, max_lr=1e-3)"
   ]
  },
  {
   "cell_type": "code",
   "execution_count": 23,
   "metadata": {},
   "outputs": [
    {
     "data": {
      "text/html": [
       "<table border=\"1\" class=\"dataframe\">\n",
       "  <thead>\n",
       "    <tr style=\"text-align: left;\">\n",
       "      <th>epoch</th>\n",
       "      <th>train_loss</th>\n",
       "      <th>valid_loss</th>\n",
       "      <th>accuracy</th>\n",
       "      <th>f1</th>\n",
       "      <th>time</th>\n",
       "    </tr>\n",
       "  </thead>\n",
       "  <tbody>\n",
       "    <tr>\n",
       "      <td>0</td>\n",
       "      <td>0.575277</td>\n",
       "      <td>0.542138</td>\n",
       "      <td>0.612540</td>\n",
       "      <td>0.590187</td>\n",
       "      <td>01:01</td>\n",
       "    </tr>\n",
       "    <tr>\n",
       "      <td>1</td>\n",
       "      <td>0.552976</td>\n",
       "      <td>0.536487</td>\n",
       "      <td>0.635614</td>\n",
       "      <td>0.619574</td>\n",
       "      <td>01:02</td>\n",
       "    </tr>\n",
       "    <tr>\n",
       "      <td>2</td>\n",
       "      <td>0.548813</td>\n",
       "      <td>0.526791</td>\n",
       "      <td>0.660965</td>\n",
       "      <td>0.648325</td>\n",
       "      <td>01:00</td>\n",
       "    </tr>\n",
       "  </tbody>\n",
       "</table>"
      ],
      "text/plain": [
       "<IPython.core.display.HTML object>"
      ]
     },
     "metadata": {},
     "output_type": "display_data"
    },
    {
     "data": {
      "text/html": [
       "<table border=\"1\" class=\"dataframe\">\n",
       "  <thead>\n",
       "    <tr style=\"text-align: left;\">\n",
       "      <th>epoch</th>\n",
       "      <th>train_loss</th>\n",
       "      <th>valid_loss</th>\n",
       "      <th>accuracy</th>\n",
       "      <th>f1</th>\n",
       "      <th>time</th>\n",
       "    </tr>\n",
       "  </thead>\n",
       "  <tbody>\n",
       "    <tr>\n",
       "      <td>0</td>\n",
       "      <td>0.558542</td>\n",
       "      <td>0.528329</td>\n",
       "      <td>0.669333</td>\n",
       "      <td>0.640407</td>\n",
       "      <td>01:58</td>\n",
       "    </tr>\n",
       "    <tr>\n",
       "      <td>1</td>\n",
       "      <td>0.532568</td>\n",
       "      <td>0.514290</td>\n",
       "      <td>0.697330</td>\n",
       "      <td>0.677492</td>\n",
       "      <td>01:59</td>\n",
       "    </tr>\n",
       "    <tr>\n",
       "      <td>2</td>\n",
       "      <td>0.526206</td>\n",
       "      <td>0.499071</td>\n",
       "      <td>0.742739</td>\n",
       "      <td>0.706594</td>\n",
       "      <td>01:57</td>\n",
       "    </tr>\n",
       "  </tbody>\n",
       "</table>"
      ],
      "text/plain": [
       "<IPython.core.display.HTML object>"
      ]
     },
     "metadata": {},
     "output_type": "display_data"
    },
    {
     "data": {
      "text/html": [
       "<table border=\"1\" class=\"dataframe\">\n",
       "  <thead>\n",
       "    <tr style=\"text-align: left;\">\n",
       "      <th>epoch</th>\n",
       "      <th>train_loss</th>\n",
       "      <th>valid_loss</th>\n",
       "      <th>accuracy</th>\n",
       "      <th>f1</th>\n",
       "      <th>time</th>\n",
       "    </tr>\n",
       "  </thead>\n",
       "  <tbody>\n",
       "    <tr>\n",
       "      <td>0</td>\n",
       "      <td>0.555212</td>\n",
       "      <td>0.507766</td>\n",
       "      <td>0.728464</td>\n",
       "      <td>0.661637</td>\n",
       "      <td>05:13</td>\n",
       "    </tr>\n",
       "    <tr>\n",
       "      <td>1</td>\n",
       "      <td>0.529828</td>\n",
       "      <td>0.493308</td>\n",
       "      <td>0.760829</td>\n",
       "      <td>0.710648</td>\n",
       "      <td>05:15</td>\n",
       "    </tr>\n",
       "    <tr>\n",
       "      <td>2</td>\n",
       "      <td>0.518561</td>\n",
       "      <td>0.489015</td>\n",
       "      <td>0.770797</td>\n",
       "      <td>0.721736</td>\n",
       "      <td>05:16</td>\n",
       "    </tr>\n",
       "  </tbody>\n",
       "</table>"
      ],
      "text/plain": [
       "<IPython.core.display.HTML object>"
      ]
     },
     "metadata": {},
     "output_type": "display_data"
    }
   ],
   "source": [
    "for size, bs  in zip([32, 64, 256], [64, 32, 16]):\n",
    "    data = (src\n",
    "        .transform(get_transforms(do_flip=True, \n",
    "             flip_vert=True, \n",
    "             max_rotate=180, \n",
    "             max_zoom=1.2, \n",
    "             max_lighting=0.5,\n",
    "             max_warp=0.2, \n",
    "             p_affine=0.75, \n",
    "             p_lighting=0.75), size=size, tfm_y=False)\n",
    "        .add_test_folder(damage_crops_test_folder)\n",
    "        .databunch(bs=bs)\n",
    "        .normalize(imagenet_stats))\n",
    "\n",
    "    learn = cnn_learner(data,models.resnet50, metrics=[accuracy, f1])\n",
    "    learn.model_dir = models_path\n",
    "    learn.loss_func =CombinedLoss();\n",
    "    learn.to_fp16();\n",
    "\n",
    "    learn.fit_one_cycle(3, max_lr=1e-3)"
   ]
  },
  {
   "cell_type": "code",
   "execution_count": 24,
   "metadata": {},
   "outputs": [
    {
     "data": {
      "text/html": [
       "<table border=\"1\" class=\"dataframe\">\n",
       "  <thead>\n",
       "    <tr style=\"text-align: left;\">\n",
       "      <th>epoch</th>\n",
       "      <th>train_loss</th>\n",
       "      <th>valid_loss</th>\n",
       "      <th>accuracy</th>\n",
       "      <th>f1</th>\n",
       "      <th>time</th>\n",
       "    </tr>\n",
       "  </thead>\n",
       "  <tbody>\n",
       "    <tr>\n",
       "      <td>0</td>\n",
       "      <td>0.489683</td>\n",
       "      <td>0.478874</td>\n",
       "      <td>0.802917</td>\n",
       "      <td>0.786711</td>\n",
       "      <td>18:07</td>\n",
       "    </tr>\n",
       "    <tr>\n",
       "      <td>1</td>\n",
       "      <td>0.464868</td>\n",
       "      <td>0.467234</td>\n",
       "      <td>0.828329</td>\n",
       "      <td>0.765778</td>\n",
       "      <td>12:21</td>\n",
       "    </tr>\n",
       "    <tr>\n",
       "      <td>2</td>\n",
       "      <td>0.468766</td>\n",
       "      <td>0.462331</td>\n",
       "      <td>0.837743</td>\n",
       "      <td>0.758084</td>\n",
       "      <td>12:23</td>\n",
       "    </tr>\n",
       "  </tbody>\n",
       "</table>"
      ],
      "text/plain": [
       "<IPython.core.display.HTML object>"
      ]
     },
     "metadata": {},
     "output_type": "display_data"
    }
   ],
   "source": [
    "bs=16\n",
    "size=256\n",
    "src = (ImageList\n",
    "       .from_df(classification_labels, path=classifcation_crop_dir, cols=['crop_filename'])\n",
    "#        .use_partial_data(partial_data_frac)\n",
    "       .split_by_valid_func(is_valid_func)\n",
    "       .label_from_df(cols='label'))\n",
    "data = (src\n",
    "    .transform(get_transforms(do_flip=True, \n",
    "         flip_vert=True, \n",
    "         max_rotate=180, \n",
    "         max_zoom=1.2, \n",
    "         max_lighting=0.5,\n",
    "         max_warp=0.2, \n",
    "         p_affine=0.75, \n",
    "         p_lighting=0.75), size=size, tfm_y=False)\n",
    "    .add_test_folder(damage_crops_test_folder)\n",
    "    .databunch(bs=bs)\n",
    "    .normalize(imagenet_stats))\n",
    "\n",
    "learn = cnn_learner(data,models.resnet50, metrics=[accuracy, f1])\n",
    "learn.model_dir = models_path\n",
    "learn.loss_func =CombinedLoss();\n",
    "learn.to_fp16();\n",
    "\n",
    "learn.fit_one_cycle(3, max_lr=1e-3)"
   ]
  },
  {
   "cell_type": "code",
   "execution_count": 25,
   "metadata": {},
   "outputs": [
    {
     "data": {
      "text/html": [
       "<table border=\"1\" class=\"dataframe\">\n",
       "  <thead>\n",
       "    <tr style=\"text-align: left;\">\n",
       "      <th>epoch</th>\n",
       "      <th>train_loss</th>\n",
       "      <th>valid_loss</th>\n",
       "      <th>accuracy</th>\n",
       "      <th>f1</th>\n",
       "      <th>time</th>\n",
       "    </tr>\n",
       "  </thead>\n",
       "  <tbody>\n",
       "    <tr>\n",
       "      <td>0</td>\n",
       "      <td>0.354431</td>\n",
       "      <td>0.344200</td>\n",
       "      <td>0.782550</td>\n",
       "      <td>0.780387</td>\n",
       "      <td>04:41</td>\n",
       "    </tr>\n",
       "    <tr>\n",
       "      <td>1</td>\n",
       "      <td>0.341936</td>\n",
       "      <td>0.337134</td>\n",
       "      <td>0.799409</td>\n",
       "      <td>0.792808</td>\n",
       "      <td>04:54</td>\n",
       "    </tr>\n",
       "    <tr>\n",
       "      <td>2</td>\n",
       "      <td>0.341049</td>\n",
       "      <td>0.334339</td>\n",
       "      <td>0.806731</td>\n",
       "      <td>0.779855</td>\n",
       "      <td>04:49</td>\n",
       "    </tr>\n",
       "  </tbody>\n",
       "</table>"
      ],
      "text/plain": [
       "<IPython.core.display.HTML object>"
      ]
     },
     "metadata": {},
     "output_type": "display_data"
    }
   ],
   "source": [
    "bs=32\n",
    "size=64\n",
    "src = (ImageList\n",
    "       .from_df(classification_labels, path=classifcation_crop_dir, cols=['crop_filename'])\n",
    "#        .use_partial_data(partial_data_frac)\n",
    "       .split_by_valid_func(is_valid_func)\n",
    "       .label_from_df(cols='label'))\n",
    "data = (src\n",
    "    .transform(get_transforms(do_flip=True, \n",
    "         flip_vert=True, \n",
    "         max_rotate=180, \n",
    "         max_zoom=1.2, \n",
    "         max_lighting=0.5,\n",
    "         max_warp=0.2, \n",
    "         p_affine=0.75, \n",
    "         p_lighting=0.75), size=size, tfm_y=False)\n",
    "    .add_test_folder(damage_crops_test_folder)\n",
    "    .databunch(bs=bs)\n",
    "    .normalize(imagenet_stats))\n",
    "\n",
    "learn = cnn_learner(data,models.resnet50, metrics=[accuracy, f1])\n",
    "learn.model_dir = models_path\n",
    "learn.loss_func =CombinedLoss(alpha=0.5);\n",
    "learn.to_fp16();\n",
    "\n",
    "learn.fit_one_cycle(3, max_lr=1e-3)"
   ]
  },
  {
   "cell_type": "code",
   "execution_count": 26,
   "metadata": {},
   "outputs": [
    {
     "data": {
      "text/html": [
       "<table border=\"1\" class=\"dataframe\">\n",
       "  <thead>\n",
       "    <tr style=\"text-align: left;\">\n",
       "      <th>epoch</th>\n",
       "      <th>train_loss</th>\n",
       "      <th>valid_loss</th>\n",
       "      <th>accuracy</th>\n",
       "      <th>f1</th>\n",
       "      <th>time</th>\n",
       "    </tr>\n",
       "  </thead>\n",
       "  <tbody>\n",
       "    <tr>\n",
       "      <td>0</td>\n",
       "      <td>0.203568</td>\n",
       "      <td>0.199717</td>\n",
       "      <td>0.781935</td>\n",
       "      <td>0.772309</td>\n",
       "      <td>04:47</td>\n",
       "    </tr>\n",
       "    <tr>\n",
       "      <td>1</td>\n",
       "      <td>0.199527</td>\n",
       "      <td>0.194640</td>\n",
       "      <td>0.801748</td>\n",
       "      <td>0.784001</td>\n",
       "      <td>04:48</td>\n",
       "    </tr>\n",
       "    <tr>\n",
       "      <td>2</td>\n",
       "      <td>0.196045</td>\n",
       "      <td>0.193236</td>\n",
       "      <td>0.805501</td>\n",
       "      <td>0.799205</td>\n",
       "      <td>04:49</td>\n",
       "    </tr>\n",
       "  </tbody>\n",
       "</table>"
      ],
      "text/plain": [
       "<IPython.core.display.HTML object>"
      ]
     },
     "metadata": {},
     "output_type": "display_data"
    }
   ],
   "source": [
    "learn = cnn_learner(data,models.resnet50, metrics=[accuracy, f1])\n",
    "learn.model_dir = models_path\n",
    "learn.loss_func =CombinedLoss(alpha=0.75);\n",
    "learn.to_fp16();\n",
    "\n",
    "learn.fit_one_cycle(3, max_lr=1e-3)"
   ]
  },
  {
   "cell_type": "code",
   "execution_count": 27,
   "metadata": {},
   "outputs": [
    {
     "data": {
      "text/html": [
       "<table border=\"1\" class=\"dataframe\">\n",
       "  <thead>\n",
       "    <tr style=\"text-align: left;\">\n",
       "      <th>epoch</th>\n",
       "      <th>train_loss</th>\n",
       "      <th>valid_loss</th>\n",
       "      <th>accuracy</th>\n",
       "      <th>f1</th>\n",
       "      <th>time</th>\n",
       "    </tr>\n",
       "  </thead>\n",
       "  <tbody>\n",
       "    <tr>\n",
       "      <td>0</td>\n",
       "      <td>0.146361</td>\n",
       "      <td>0.140073</td>\n",
       "      <td>0.792641</td>\n",
       "      <td>0.787271</td>\n",
       "      <td>04:49</td>\n",
       "    </tr>\n",
       "    <tr>\n",
       "      <td>1</td>\n",
       "      <td>0.141474</td>\n",
       "      <td>0.138691</td>\n",
       "      <td>0.797440</td>\n",
       "      <td>0.786773</td>\n",
       "      <td>04:45</td>\n",
       "    </tr>\n",
       "    <tr>\n",
       "      <td>2</td>\n",
       "      <td>0.142663</td>\n",
       "      <td>0.137542</td>\n",
       "      <td>0.801748</td>\n",
       "      <td>0.791829</td>\n",
       "      <td>04:38</td>\n",
       "    </tr>\n",
       "  </tbody>\n",
       "</table>"
      ],
      "text/plain": [
       "<IPython.core.display.HTML object>"
      ]
     },
     "metadata": {},
     "output_type": "display_data"
    }
   ],
   "source": [
    "learn = cnn_learner(data,models.resnet50, metrics=[accuracy, f1])\n",
    "learn.model_dir = models_path\n",
    "learn.loss_func =CombinedLoss(alpha=0.85);\n",
    "learn.to_fp16();\n",
    "\n",
    "learn.fit_one_cycle(3, max_lr=1e-3)"
   ]
  },
  {
   "cell_type": "code",
   "execution_count": null,
   "metadata": {},
   "outputs": [
    {
     "data": {
      "text/html": [
       "\n",
       "    <div>\n",
       "        <style>\n",
       "            /* Turns off some styling */\n",
       "            progress {\n",
       "                /* gets rid of default border in Firefox and Opera. */\n",
       "                border: none;\n",
       "                /* Needs to be in here for Safari polyfill so background images work as expected. */\n",
       "                background-size: auto;\n",
       "            }\n",
       "            .progress-bar-interrupted, .progress-bar-interrupted::-webkit-progress-bar {\n",
       "                background: #F44336;\n",
       "            }\n",
       "        </style>\n",
       "      <progress value='1' class='' max='3', style='width:300px; height:20px; vertical-align: middle;'></progress>\n",
       "      33.33% [1/3 04:38<09:17]\n",
       "    </div>\n",
       "    \n",
       "<table border=\"1\" class=\"dataframe\">\n",
       "  <thead>\n",
       "    <tr style=\"text-align: left;\">\n",
       "      <th>epoch</th>\n",
       "      <th>train_loss</th>\n",
       "      <th>valid_loss</th>\n",
       "      <th>accuracy</th>\n",
       "      <th>f1</th>\n",
       "      <th>time</th>\n",
       "    </tr>\n",
       "  </thead>\n",
       "  <tbody>\n",
       "    <tr>\n",
       "      <td>0</td>\n",
       "      <td>0.053068</td>\n",
       "      <td>0.051000</td>\n",
       "      <td>0.815900</td>\n",
       "      <td>0.804071</td>\n",
       "      <td>04:38</td>\n",
       "    </tr>\n",
       "  </tbody>\n",
       "</table><p>\n",
       "\n",
       "    <div>\n",
       "        <style>\n",
       "            /* Turns off some styling */\n",
       "            progress {\n",
       "                /* gets rid of default border in Firefox and Opera. */\n",
       "                border: none;\n",
       "                /* Needs to be in here for Safari polyfill so background images work as expected. */\n",
       "                background-size: auto;\n",
       "            }\n",
       "            .progress-bar-interrupted, .progress-bar-interrupted::-webkit-progress-bar {\n",
       "                background: #F44336;\n",
       "            }\n",
       "        </style>\n",
       "      <progress value='2306' class='' max='4579', style='width:300px; height:20px; vertical-align: middle;'></progress>\n",
       "      50.36% [2306/4579 02:13<02:11 0.0521]\n",
       "    </div>\n",
       "    "
      ],
      "text/plain": [
       "<IPython.core.display.HTML object>"
      ]
     },
     "metadata": {},
     "output_type": "display_data"
    }
   ],
   "source": [
    "learn = cnn_learner(data,models.resnet50, metrics=[accuracy, f1])\n",
    "learn.model_dir = models_path\n",
    "learn.loss_func =CombinedLoss(alpha=0.75, gamma=4);\n",
    "learn.to_fp16();\n",
    "\n",
    "learn.fit_one_cycle(3, max_lr=1e-3)"
   ]
  },
  {
   "cell_type": "code",
   "execution_count": null,
   "metadata": {},
   "outputs": [],
   "source": []
  }
 ],
 "metadata": {
  "kernelspec": {
   "display_name": "Python (catalyst)",
   "language": "python",
   "name": "catalyst-dl"
  },
  "language_info": {
   "codemirror_mode": {
    "name": "ipython",
    "version": 3
   },
   "file_extension": ".py",
   "mimetype": "text/x-python",
   "name": "python",
   "nbconvert_exporter": "python",
   "pygments_lexer": "ipython3",
   "version": "3.7.4"
  }
 },
 "nbformat": 4,
 "nbformat_minor": 2
}
