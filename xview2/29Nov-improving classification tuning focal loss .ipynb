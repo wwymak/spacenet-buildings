{
 "cells": [
  {
   "cell_type": "code",
   "execution_count": 1,
   "metadata": {},
   "outputs": [
    {
     "name": "stdout",
     "output_type": "stream",
     "text": [
      "env: PROJ_LIB=/home/wwymak/anaconda3/envs/solaris/share/proj\n"
     ]
    }
   ],
   "source": [
    "import warnings\n",
    "warnings.filterwarnings(\"ignore\")\n",
    "from shapely import wkt\n",
    "import glob\n",
    "\n",
    "\n",
    "%load_ext autoreload\n",
    "%autoreload 2\n",
    "%env PROJ_LIB=/home/wwymak/anaconda3/envs/solaris/share/proj\n",
    "%matplotlib inline\n",
    "\n",
    "import skimage\n",
    "\n",
    "from tqdm import tqdm\n",
    "import numpy as np\n",
    "import cv2\n",
    "from functools import partial\n",
    "\n",
    "from fastai.imports import *\n",
    "from fastai.vision import *\n",
    "from fastai.metrics import dice\n",
    "from fastai.callbacks import *\n",
    "\n",
    "from joblib import Parallel, delayed\n",
    "import torch.nn.functional as F\n",
    "import torch\n",
    "import functools, traceback\n",
    "def gpu_mem_restore(func):\n",
    "    \"\"\"Reclaim GPU RAM if CUDA out of memory happened, or execution was interrupted\"\"\"\n",
    "    @functools.wraps(func)\n",
    "    def wrapper(*args, **kwargs):\n",
    "        try:\n",
    "            return func(*args, **kwargs)\n",
    "        except:\n",
    "            type, val, tb = sys.exc_info()\n",
    "            traceback.clear_frames(tb)\n",
    "            raise type(val).with_traceback(tb) from None\n",
    "    return wrapper\n",
    "\n",
    "os.environ['FASTAI_TB_CLEAR_FRAMES']=\"1\"\n",
    "\n",
    "from catalyst.contrib.criterion import FocalLossMultiClass, DiceLoss, BCEDiceLoss, LovaszLossBinary,LovaszLossMultiClass\n",
    "\n",
    "from importlib import reload"
   ]
  },
  {
   "cell_type": "code",
   "execution_count": 2,
   "metadata": {},
   "outputs": [],
   "source": [
    "def to_onehot(indices, num_classes):\n",
    "    \"\"\"Convert a tensor of indices of any shape `(N, ...)` to a\n",
    "    tensor of one-hot indicators of shape `(N, num_classes, ...) and of type uint8. Output's device is equal to the\n",
    "    input's device`.\n",
    "    \"\"\"\n",
    "    onehot = torch.zeros(indices.shape[0], num_classes, *indices.shape[1:],\n",
    "#                              dtype=torch.uint8,\n",
    "                         device=indices.device)\n",
    "    return onehot.scatter_(1, indices.unsqueeze(1), 1)\n",
    "class CombinedLoss(nn.Module):\n",
    "\n",
    "    def __init__(self, gamma=2., alpha=0.25):\n",
    "        super(CombinedLoss, self).__init__()\n",
    "        self.gamma = gamma\n",
    "        self.alpha = alpha\n",
    "\n",
    "    def forward(self, input, target, **kwargs):\n",
    "        y = to_onehot(target, input.size(-1))\n",
    "        logit = F.softmax(input)\n",
    "                     \n",
    "        focal_loss = FocalLossMultiClass(gamma=self.gamma, alpha=self.alpha)\n",
    "#         bce_dice = BCEDiceLoss()\n",
    "#         lovaz_loss = LovaszLossBinary()\n",
    "#         dice_loss = DiceLoss(activation='Softmax')\n",
    "        \n",
    "        total_loss = focal_loss(logit, target) #+ 0.2 * dice_loss(logit, y)\n",
    "        return total_loss"
   ]
  },
  {
   "cell_type": "code",
   "execution_count": 3,
   "metadata": {},
   "outputs": [],
   "source": [
    "data_dir = Path(\"/media/wwymak/Storage/xView2\")\n",
    "models_path = data_dir / \"models\"\n",
    "classifcation_crop_dir = data_dir/\"classification_crops\"\n",
    "classification_labels = pd.read_csv(data_dir/\"train.csv\")\n",
    "\n",
    "damage_crops_test_folder = data_dir / \"classification_crops_test\""
   ]
  },
  {
   "cell_type": "code",
   "execution_count": 4,
   "metadata": {},
   "outputs": [
    {
     "data": {
      "text/html": [
       "<div>\n",
       "<style scoped>\n",
       "    .dataframe tbody tr th:only-of-type {\n",
       "        vertical-align: middle;\n",
       "    }\n",
       "\n",
       "    .dataframe tbody tr th {\n",
       "        vertical-align: top;\n",
       "    }\n",
       "\n",
       "    .dataframe thead th {\n",
       "        text-align: right;\n",
       "    }\n",
       "</style>\n",
       "<table border=\"1\" class=\"dataframe\">\n",
       "  <thead>\n",
       "    <tr style=\"text-align: right;\">\n",
       "      <th></th>\n",
       "      <th>uuid</th>\n",
       "      <th>img_id</th>\n",
       "      <th>label</th>\n",
       "      <th>crop_filename</th>\n",
       "    </tr>\n",
       "  </thead>\n",
       "  <tbody>\n",
       "    <tr>\n",
       "      <td>0</td>\n",
       "      <td>c18d34cd-d48d-43ba-9d9c-011b6f9d5eb8</td>\n",
       "      <td>palu-tsunami_00000024_post_disaster.png</td>\n",
       "      <td>0</td>\n",
       "      <td>c18d34cd-d48d-43ba-9d9c-011b6f9d5eb8.png</td>\n",
       "    </tr>\n",
       "    <tr>\n",
       "      <td>1</td>\n",
       "      <td>4db83f7b-7c77-4cb4-8ea7-ad5a338a92b1</td>\n",
       "      <td>palu-tsunami_00000024_post_disaster.png</td>\n",
       "      <td>0</td>\n",
       "      <td>4db83f7b-7c77-4cb4-8ea7-ad5a338a92b1.png</td>\n",
       "    </tr>\n",
       "    <tr>\n",
       "      <td>2</td>\n",
       "      <td>fc34426b-db11-403d-bdcf-1527b7d2508a</td>\n",
       "      <td>palu-tsunami_00000024_post_disaster.png</td>\n",
       "      <td>0</td>\n",
       "      <td>fc34426b-db11-403d-bdcf-1527b7d2508a.png</td>\n",
       "    </tr>\n",
       "    <tr>\n",
       "      <td>3</td>\n",
       "      <td>052f9f14-e32e-484a-811d-cd0fac134493</td>\n",
       "      <td>palu-tsunami_00000024_post_disaster.png</td>\n",
       "      <td>0</td>\n",
       "      <td>052f9f14-e32e-484a-811d-cd0fac134493.png</td>\n",
       "    </tr>\n",
       "    <tr>\n",
       "      <td>4</td>\n",
       "      <td>577576f3-3bdc-41ec-a571-6f6cf843cf3b</td>\n",
       "      <td>palu-tsunami_00000024_post_disaster.png</td>\n",
       "      <td>0</td>\n",
       "      <td>577576f3-3bdc-41ec-a571-6f6cf843cf3b.png</td>\n",
       "    </tr>\n",
       "  </tbody>\n",
       "</table>\n",
       "</div>"
      ],
      "text/plain": [
       "                                   uuid  \\\n",
       "0  c18d34cd-d48d-43ba-9d9c-011b6f9d5eb8   \n",
       "1  4db83f7b-7c77-4cb4-8ea7-ad5a338a92b1   \n",
       "2  fc34426b-db11-403d-bdcf-1527b7d2508a   \n",
       "3  052f9f14-e32e-484a-811d-cd0fac134493   \n",
       "4  577576f3-3bdc-41ec-a571-6f6cf843cf3b   \n",
       "\n",
       "                                    img_id  label  \\\n",
       "0  palu-tsunami_00000024_post_disaster.png      0   \n",
       "1  palu-tsunami_00000024_post_disaster.png      0   \n",
       "2  palu-tsunami_00000024_post_disaster.png      0   \n",
       "3  palu-tsunami_00000024_post_disaster.png      0   \n",
       "4  palu-tsunami_00000024_post_disaster.png      0   \n",
       "\n",
       "                              crop_filename  \n",
       "0  c18d34cd-d48d-43ba-9d9c-011b6f9d5eb8.png  \n",
       "1  4db83f7b-7c77-4cb4-8ea7-ad5a338a92b1.png  \n",
       "2  fc34426b-db11-403d-bdcf-1527b7d2508a.png  \n",
       "3  052f9f14-e32e-484a-811d-cd0fac134493.png  \n",
       "4  577576f3-3bdc-41ec-a571-6f6cf843cf3b.png  "
      ]
     },
     "execution_count": 4,
     "metadata": {},
     "output_type": "execute_result"
    }
   ],
   "source": [
    "classification_labels.head()"
   ]
  },
  {
   "cell_type": "code",
   "execution_count": 5,
   "metadata": {},
   "outputs": [],
   "source": [
    "def get_train_valid_ids(classification_labels_df, valid_pct=0.1, random_seed=42):\n",
    "    np.random.seed(random_seed)\n",
    "    unique_img_ids = classification_labels_df.img_id.unique()\n",
    "    np.random.shuffle(unique_img_ids)\n",
    "    train_img_ids = unique_img_ids[:int(len(unique_img_ids) * (1- valid_pct))]\n",
    "    valid_img_ids = unique_img_ids[int(len(unique_img_ids) * (1- valid_pct)):]\n",
    "    \n",
    "    train_ids = classification_labels_df[classification_labels_df.img_id.isin(train_img_ids)].crop_filename.values\n",
    "    valid_ids = classification_labels_df[classification_labels_df.img_id.isin(valid_img_ids)].crop_filename.values\n",
    "    \n",
    "    return train_ids, valid_ids\n",
    "    "
   ]
  },
  {
   "cell_type": "code",
   "execution_count": 6,
   "metadata": {},
   "outputs": [],
   "source": [
    "train_ids, valid_ids = get_train_valid_ids(classification_labels)"
   ]
  },
  {
   "cell_type": "code",
   "execution_count": 7,
   "metadata": {},
   "outputs": [
    {
     "data": {
      "text/plain": [
       "(0    0.445619\n",
       " 1    0.196012\n",
       " 2    0.185295\n",
       " 3    0.173074\n",
       " Name: label, dtype: float64, 0    0.358821\n",
       " 1    0.225587\n",
       " 2    0.215748\n",
       " 3    0.199844\n",
       " Name: label, dtype: float64)"
      ]
     },
     "execution_count": 7,
     "metadata": {},
     "output_type": "execute_result"
    }
   ],
   "source": [
    "classification_labels_resampled= pd.concat([\n",
    "    classification_labels[(classification_labels.label!= 0) & (~classification_labels.crop_filename.isin(valid_ids))],\n",
    "    classification_labels[(classification_labels.label==0) & (~classification_labels.crop_filename.isin(valid_ids))].sample(frac=0.2),\n",
    "    classification_labels[classification_labels.crop_filename.isin(valid_ids)],\n",
    "])\n",
    "classification_labels_resampled.label.value_counts(normalize=True), classification_labels_resampled[(~classification_labels.crop_filename.isin(valid_ids))].label.value_counts(normalize=True), "
   ]
  },
  {
   "cell_type": "code",
   "execution_count": 8,
   "metadata": {},
   "outputs": [],
   "source": [
    "\n",
    "def is_valid_func(img_fname):\n",
    "    id = Path(img_fname).name\n",
    "    return id in valid_ids\n"
   ]
  },
  {
   "cell_type": "code",
   "execution_count": 9,
   "metadata": {},
   "outputs": [],
   "source": [
    "\n",
    "def f1(y_pred:Tensor, y_true:Tensor):\n",
    "    eps=1e-10\n",
    "    def recall(y_pred,y_true):\n",
    "        \"\"\"Recall metric.\n",
    "        Only computes a batch-wise average of recall.\n",
    "        Computes the recall, a metric for multi-label classification of\n",
    "        how many relevant items are selected.\n",
    "        \"\"\"\n",
    "        true_positives = torch.sum(torch.round(torch.clamp(y_true * y_pred, 0, 1)))\n",
    "        possible_positives = torch.sum(y_true)\n",
    "        recall = true_positives / (possible_positives + eps)\n",
    "        return recall\n",
    "\n",
    "    def precision(y_pred,y_true):\n",
    "        \"\"\"Precision metric.\n",
    "        Only computes a batch-wise average of precision.\n",
    "        Computes the precision, a metric for multi-label classification of\n",
    "        how many selected items are relevant.\n",
    "        \"\"\"\n",
    "        true_positives = torch.sum(torch.round(torch.clamp(y_true * y_pred, 0, 1)))\n",
    "        predicted_positives = torch.sum(torch.round(torch.clamp(y_pred, 0, 1)))\n",
    "        precision = true_positives / (predicted_positives +eps)\n",
    "        return precision\n",
    "\n",
    "    y_true = to_onehot(y_true.view(-1), num_classes=4)\n",
    "    precision = precision(y_pred,y_true)\n",
    "    recall = recall(y_pred,y_true)\n",
    "    return 2*((precision*recall)/(precision+recall+eps))#\n"
   ]
  },
  {
   "cell_type": "code",
   "execution_count": 19,
   "metadata": {},
   "outputs": [],
   "source": [
    "size=128\n",
    "bs=32\n",
    "partial_data_frac=0.2\n",
    "src = (ImageList\n",
    "       .from_df(classification_labels_resampled, path=classifcation_crop_dir, cols=['crop_filename'])\n",
    "#        .use_partial_data(partial_data_frac)\n",
    "       .split_by_valid_func(is_valid_func)\n",
    "       .label_from_df(cols='label'))\n",
    "data = (src\n",
    "        .transform(get_transforms(do_flip=True, \n",
    "             flip_vert=True, \n",
    "             max_rotate=180, \n",
    "             max_zoom=1.2, \n",
    "             max_lighting=0.5,\n",
    "             max_warp=0.2, \n",
    "             p_affine=0.75, \n",
    "             p_lighting=0.75), size=size, tfm_y=False)\n",
    "        .add_test_folder(damage_crops_test_folder)\n",
    "        .databunch(bs=bs)\n",
    "        .normalize(imagenet_stats))\n",
    "\n",
    "learn = cnn_learner(data,models.resnet50, metrics=[accuracy, f1])\n",
    "learn.model_dir = models_path\n",
    "learn.loss_func =CombinedLoss();\n",
    "learn.to_fp16();"
   ]
  },
  {
   "cell_type": "code",
   "execution_count": 20,
   "metadata": {},
   "outputs": [
    {
     "data": {
      "text/html": [],
      "text/plain": [
       "<IPython.core.display.HTML object>"
      ]
     },
     "metadata": {},
     "output_type": "display_data"
    },
    {
     "name": "stdout",
     "output_type": "stream",
     "text": [
      "LR Finder is complete, type {learner_name}.recorder.plot() to see the graph.\n"
     ]
    },
    {
     "data": {
      "image/png": "[encoded data removed]",
      "text/plain": [
       "<Figure size 432x288 with 1 Axes>"
      ]
     },
     "metadata": {
      "needs_background": "light"
     },
     "output_type": "display_data"
    }
   ],
   "source": [
    "learn.lr_find()\n",
    "learn.recorder.plot();"
   ]
  },
  {
   "cell_type": "code",
   "execution_count": 21,
   "metadata": {},
   "outputs": [
    {
     "data": {
      "text/html": [
       "<table border=\"1\" class=\"dataframe\">\n",
       "  <thead>\n",
       "    <tr style=\"text-align: left;\">\n",
       "      <th>epoch</th>\n",
       "      <th>train_loss</th>\n",
       "      <th>valid_loss</th>\n",
       "      <th>accuracy</th>\n",
       "      <th>f1</th>\n",
       "      <th>time</th>\n",
       "    </tr>\n",
       "  </thead>\n",
       "  <tbody>\n",
       "    <tr>\n",
       "      <td>0</td>\n",
       "      <td>0.549413</td>\n",
       "      <td>0.522223</td>\n",
       "      <td>0.693084</td>\n",
       "      <td>0.640034</td>\n",
       "      <td>08:49</td>\n",
       "    </tr>\n",
       "    <tr>\n",
       "      <td>1</td>\n",
       "      <td>0.525035</td>\n",
       "      <td>0.497734</td>\n",
       "      <td>0.750861</td>\n",
       "      <td>0.698931</td>\n",
       "      <td>02:13</td>\n",
       "    </tr>\n",
       "    <tr>\n",
       "      <td>2</td>\n",
       "      <td>0.510372</td>\n",
       "      <td>0.493710</td>\n",
       "      <td>0.762737</td>\n",
       "      <td>0.692531</td>\n",
       "      <td>02:13</td>\n",
       "    </tr>\n",
       "  </tbody>\n",
       "</table>"
      ],
      "text/plain": [
       "<IPython.core.display.HTML object>"
      ]
     },
     "metadata": {},
     "output_type": "display_data"
    }
   ],
   "source": [
    "learn.fit_one_cycle(3, max_lr=1e-3)"
   ]
  },
  {
   "cell_type": "code",
   "execution_count": 23,
   "metadata": {},
   "outputs": [
    {
     "data": {
      "text/html": [
       "<table border=\"1\" class=\"dataframe\">\n",
       "  <thead>\n",
       "    <tr style=\"text-align: left;\">\n",
       "      <th>epoch</th>\n",
       "      <th>train_loss</th>\n",
       "      <th>valid_loss</th>\n",
       "      <th>accuracy</th>\n",
       "      <th>f1</th>\n",
       "      <th>time</th>\n",
       "    </tr>\n",
       "  </thead>\n",
       "  <tbody>\n",
       "    <tr>\n",
       "      <td>0</td>\n",
       "      <td>0.575277</td>\n",
       "      <td>0.542138</td>\n",
       "      <td>0.612540</td>\n",
       "      <td>0.590187</td>\n",
       "      <td>01:01</td>\n",
       "    </tr>\n",
       "    <tr>\n",
       "      <td>1</td>\n",
       "      <td>0.552976</td>\n",
       "      <td>0.536487</td>\n",
       "      <td>0.635614</td>\n",
       "      <td>0.619574</td>\n",
       "      <td>01:02</td>\n",
       "    </tr>\n",
       "    <tr>\n",
       "      <td>2</td>\n",
       "      <td>0.548813</td>\n",
       "      <td>0.526791</td>\n",
       "      <td>0.660965</td>\n",
       "      <td>0.648325</td>\n",
       "      <td>01:00</td>\n",
       "    </tr>\n",
       "  </tbody>\n",
       "</table>"
      ],
      "text/plain": [
       "<IPython.core.display.HTML object>"
      ]
     },
     "metadata": {},
     "output_type": "display_data"
    },
    {
     "data": {
      "text/html": [
       "<table border=\"1\" class=\"dataframe\">\n",
       "  <thead>\n",
       "    <tr style=\"text-align: left;\">\n",
       "      <th>epoch</th>\n",
       "      <th>train_loss</th>\n",
       "      <th>valid_loss</th>\n",
       "      <th>accuracy</th>\n",
       "      <th>f1</th>\n",
       "      <th>time</th>\n",
       "    </tr>\n",
       "  </thead>\n",
       "  <tbody>\n",
       "    <tr>\n",
       "      <td>0</td>\n",
       "      <td>0.558542</td>\n",
       "      <td>0.528329</td>\n",
       "      <td>0.669333</td>\n",
       "      <td>0.640407</td>\n",
       "      <td>01:58</td>\n",
       "    </tr>\n",
       "    <tr>\n",
       "      <td>1</td>\n",
       "      <td>0.532568</td>\n",
       "      <td>0.514290</td>\n",
       "      <td>0.697330</td>\n",
       "      <td>0.677492</td>\n",
       "      <td>01:59</td>\n",
       "    </tr>\n",
       "    <tr>\n",
       "      <td>2</td>\n",
       "      <td>0.526206</td>\n",
       "      <td>0.499071</td>\n",
       "      <td>0.742739</td>\n",
       "      <td>0.706594</td>\n",
       "      <td>01:57</td>\n",
       "    </tr>\n",
       "  </tbody>\n",
       "</table>"
      ],
      "text/plain": [
       "<IPython.core.display.HTML object>"
      ]
     },
     "metadata": {},
     "output_type": "display_data"
    },
    {
     "data": {
      "text/html": [
       "<table border=\"1\" class=\"dataframe\">\n",
       "  <thead>\n",
       "    <tr style=\"text-align: left;\">\n",
       "      <th>epoch</th>\n",
       "      <th>train_loss</th>\n",
       "      <th>valid_loss</th>\n",
       "      <th>accuracy</th>\n",
       "      <th>f1</th>\n",
       "      <th>time</th>\n",
       "    </tr>\n",
       "  </thead>\n",
       "  <tbody>\n",
       "    <tr>\n",
       "      <td>0</td>\n",
       "      <td>0.555212</td>\n",
       "      <td>0.507766</td>\n",
       "      <td>0.728464</td>\n",
       "      <td>0.661637</td>\n",
       "      <td>05:13</td>\n",
       "    </tr>\n",
       "    <tr>\n",
       "      <td>1</td>\n",
       "      <td>0.529828</td>\n",
       "      <td>0.493308</td>\n",
       "      <td>0.760829</td>\n",
       "      <td>0.710648</td>\n",
       "      <td>05:15</td>\n",
       "    </tr>\n",
       "    <tr>\n",
       "      <td>2</td>\n",
       "      <td>0.518561</td>\n",
       "      <td>0.489015</td>\n",
       "      <td>0.770797</td>\n",
       "      <td>0.721736</td>\n",
       "      <td>05:16</td>\n",
       "    </tr>\n",
       "  </tbody>\n",
       "</table>"
      ],
      "text/plain": [
       "<IPython.core.display.HTML object>"
      ]
     },
     "metadata": {},
     "output_type": "display_data"
    }
   ],
   "source": [
    "for size, bs  in zip([32, 64, 256], [64, 32, 16]):\n",
    "    data = (src\n",
    "        .transform(get_transforms(do_flip=True, \n",
    "             flip_vert=True, \n",
    "             max_rotate=180, \n",
    "             max_zoom=1.2, \n",
    "             max_lighting=0.5,\n",
    "             max_warp=0.2, \n",
    "             p_affine=0.75, \n",
    "             p_lighting=0.75), size=size, tfm_y=False)\n",
    "        .add_test_folder(damage_crops_test_folder)\n",
    "        .databunch(bs=bs)\n",
    "        .normalize(imagenet_stats))\n",
    "\n",
    "    learn = cnn_learner(data,models.resnet50, metrics=[accuracy, f1])\n",
    "    learn.model_dir = models_path\n",
    "    learn.loss_func =CombinedLoss();\n",
    "    learn.to_fp16();\n",
    "\n",
    "    learn.fit_one_cycle(3, max_lr=1e-3)"
   ]
  },
  {
   "cell_type": "code",
   "execution_count": 24,
   "metadata": {},
   "outputs": [
    {
     "data": {
      "text/html": [
       "<table border=\"1\" class=\"dataframe\">\n",
       "  <thead>\n",
       "    <tr style=\"text-align: left;\">\n",
       "      <th>epoch</th>\n",
       "      <th>train_loss</th>\n",
       "      <th>valid_loss</th>\n",
       "      <th>accuracy</th>\n",
       "      <th>f1</th>\n",
       "      <th>time</th>\n",
       "    </tr>\n",
       "  </thead>\n",
       "  <tbody>\n",
       "    <tr>\n",
       "      <td>0</td>\n",
       "      <td>0.489683</td>\n",
       "      <td>0.478874</td>\n",
       "      <td>0.802917</td>\n",
       "      <td>0.786711</td>\n",
       "      <td>18:07</td>\n",
       "    </tr>\n",
       "    <tr>\n",
       "      <td>1</td>\n",
       "      <td>0.464868</td>\n",
       "      <td>0.467234</td>\n",
       "      <td>0.828329</td>\n",
       "      <td>0.765778</td>\n",
       "      <td>12:21</td>\n",
       "    </tr>\n",
       "    <tr>\n",
       "      <td>2</td>\n",
       "      <td>0.468766</td>\n",
       "      <td>0.462331</td>\n",
       "      <td>0.837743</td>\n",
       "      <td>0.758084</td>\n",
       "      <td>12:23</td>\n",
       "    </tr>\n",
       "  </tbody>\n",
       "</table>"
      ],
      "text/plain": [
       "<IPython.core.display.HTML object>"
      ]
     },
     "metadata": {},
     "output_type": "display_data"
    }
   ],
   "source": [
    "bs=16\n",
    "size=256\n",
    "src = (ImageList\n",
    "       .from_df(classification_labels, path=classifcation_crop_dir, cols=['crop_filename'])\n",
    "#        .use_partial_data(partial_data_frac)\n",
    "       .split_by_valid_func(is_valid_func)\n",
    "       .label_from_df(cols='label'))\n",
    "data = (src\n",
    "    .transform(get_transforms(do_flip=True, \n",
    "         flip_vert=True, \n",
    "         max_rotate=180, \n",
    "         max_zoom=1.2, \n",
    "         max_lighting=0.5,\n",
    "         max_warp=0.2, \n",
    "         p_affine=0.75, \n",
    "         p_lighting=0.75), size=size, tfm_y=False)\n",
    "    .add_test_folder(damage_crops_test_folder)\n",
    "    .databunch(bs=bs)\n",
    "    .normalize(imagenet_stats))\n",
    "\n",
    "learn = cnn_learner(data,models.resnet50, metrics=[accuracy, f1])\n",
    "learn.model_dir = models_path\n",
    "learn.loss_func =CombinedLoss();\n",
    "learn.to_fp16();\n",
    "\n",
    "learn.fit_one_cycle(3, max_lr=1e-3)"
   ]
  },
  {
   "cell_type": "code",
   "execution_count": 25,
   "metadata": {},
   "outputs": [
    {
     "data": {
      "text/html": [
       "<table border=\"1\" class=\"dataframe\">\n",
       "  <thead>\n",
       "    <tr style=\"text-align: left;\">\n",
       "      <th>epoch</th>\n",
       "      <th>train_loss</th>\n",
       "      <th>valid_loss</th>\n",
       "      <th>accuracy</th>\n",
       "      <th>f1</th>\n",
       "      <th>time</th>\n",
       "    </tr>\n",
       "  </thead>\n",
       "  <tbody>\n",
       "    <tr>\n",
       "      <td>0</td>\n",
       "      <td>0.354431</td>\n",
       "      <td>0.344200</td>\n",
       "      <td>0.782550</td>\n",
       "      <td>0.780387</td>\n",
       "      <td>04:41</td>\n",
       "    </tr>\n",
       "    <tr>\n",
       "      <td>1</td>\n",
       "      <td>0.341936</td>\n",
       "      <td>0.337134</td>\n",
       "      <td>0.799409</td>\n",
       "      <td>0.792808</td>\n",
       "      <td>04:54</td>\n",
       "    </tr>\n",
       "    <tr>\n",
       "      <td>2</td>\n",
       "      <td>0.341049</td>\n",
       "      <td>0.334339</td>\n",
       "      <td>0.806731</td>\n",
       "      <td>0.779855</td>\n",
       "      <td>04:49</td>\n",
       "    </tr>\n",
       "  </tbody>\n",
       "</table>"
      ],
      "text/plain": [
       "<IPython.core.display.HTML object>"
      ]
     },
     "metadata": {},
     "output_type": "display_data"
    }
   ],
   "source": [
    "bs=32\n",
    "size=64\n",
    "src = (ImageList\n",
    "       .from_df(classification_labels, path=classifcation_crop_dir, cols=['crop_filename'])\n",
    "#        .use_partial_data(partial_data_frac)\n",
    "       .split_by_valid_func(is_valid_func)\n",
    "       .label_from_df(cols='label'))\n",
    "data = (src\n",
    "    .transform(get_transforms(do_flip=True, \n",
    "         flip_vert=True, \n",
    "         max_rotate=180, \n",
    "         max_zoom=1.2, \n",
    "         max_lighting=0.5,\n",
    "         max_warp=0.2, \n",
    "         p_affine=0.75, \n",
    "         p_lighting=0.75), size=size, tfm_y=False)\n",
    "    .add_test_folder(damage_crops_test_folder)\n",
    "    .databunch(bs=bs)\n",
    "    .normalize(imagenet_stats))\n",
    "\n",
    "learn = cnn_learner(data,models.resnet50, metrics=[accuracy, f1])\n",
    "learn.model_dir = models_path\n",
    "learn.loss_func =CombinedLoss(alpha=0.5);\n",
    "learn.to_fp16();\n",
    "\n",
    "learn.fit_one_cycle(3, max_lr=1e-3)"
   ]
  },
  {
   "cell_type": "code",
   "execution_count": 26,
   "metadata": {},
   "outputs": [
    {
     "data": {
      "text/html": [
       "<table border=\"1\" class=\"dataframe\">\n",
       "  <thead>\n",
       "    <tr style=\"text-align: left;\">\n",
       "      <th>epoch</th>\n",
       "      <th>train_loss</th>\n",
       "      <th>valid_loss</th>\n",
       "      <th>accuracy</th>\n",
       "      <th>f1</th>\n",
       "      <th>time</th>\n",
       "    </tr>\n",
       "  </thead>\n",
       "  <tbody>\n",
       "    <tr>\n",
       "      <td>0</td>\n",
       "      <td>0.203568</td>\n",
       "      <td>0.199717</td>\n",
       "      <td>0.781935</td>\n",
       "      <td>0.772309</td>\n",
       "      <td>04:47</td>\n",
       "    </tr>\n",
       "    <tr>\n",
       "      <td>1</td>\n",
       "      <td>0.199527</td>\n",
       "      <td>0.194640</td>\n",
       "      <td>0.801748</td>\n",
       "      <td>0.784001</td>\n",
       "      <td>04:48</td>\n",
       "    </tr>\n",
       "    <tr>\n",
       "      <td>2</td>\n",
       "      <td>0.196045</td>\n",
       "      <td>0.193236</td>\n",
       "      <td>0.805501</td>\n",
       "      <td>0.799205</td>\n",
       "      <td>04:49</td>\n",
       "    </tr>\n",
       "  </tbody>\n",
       "</table>"
      ],
      "text/plain": [
       "<IPython.core.display.HTML object>"
      ]
     },
     "metadata": {},
     "output_type": "display_data"
    }
   ],
   "source": [
    "learn = cnn_learner(data,models.resnet50, metrics=[accuracy, f1])\n",
    "learn.model_dir = models_path\n",
    "learn.loss_func =CombinedLoss(alpha=0.75);\n",
    "learn.to_fp16();\n",
    "\n",
    "learn.fit_one_cycle(3, max_lr=1e-3)"
   ]
  },
  {
   "cell_type": "code",
   "execution_count": 27,
   "metadata": {},
   "outputs": [
    {
     "data": {
      "text/html": [
       "<table border=\"1\" class=\"dataframe\">\n",
       "  <thead>\n",
       "    <tr style=\"text-align: left;\">\n",
       "      <th>epoch</th>\n",
       "      <th>train_loss</th>\n",
       "      <th>valid_loss</th>\n",
       "      <th>accuracy</th>\n",
       "      <th>f1</th>\n",
       "      <th>time</th>\n",
       "    </tr>\n",
       "  </thead>\n",
       "  <tbody>\n",
       "    <tr>\n",
       "      <td>0</td>\n",
       "      <td>0.146361</td>\n",
       "      <td>0.140073</td>\n",
       "      <td>0.792641</td>\n",
       "      <td>0.787271</td>\n",
       "      <td>04:49</td>\n",
       "    </tr>\n",
       "    <tr>\n",
       "      <td>1</td>\n",
       "      <td>0.141474</td>\n",
       "      <td>0.138691</td>\n",
       "      <td>0.797440</td>\n",
       "      <td>0.786773</td>\n",
       "      <td>04:45</td>\n",
       "    </tr>\n",
       "    <tr>\n",
       "      <td>2</td>\n",
       "      <td>0.142663</td>\n",
       "      <td>0.137542</td>\n",
       "      <td>0.801748</td>\n",
       "      <td>0.791829</td>\n",
       "      <td>04:38</td>\n",
       "    </tr>\n",
       "  </tbody>\n",
       "</table>"
      ],
      "text/plain": [
       "<IPython.core.display.HTML object>"
      ]
     },
     "metadata": {},
     "output_type": "display_data"
    }
   ],
   "source": [
    "learn = cnn_learner(data,models.resnet50, metrics=[accuracy, f1])\n",
    "learn.model_dir = models_path\n",
    "learn.loss_func =CombinedLoss(alpha=0.85);\n",
    "learn.to_fp16();\n",
    "\n",
    "learn.fit_one_cycle(3, max_lr=1e-3)"
   ]
  },
  {
   "cell_type": "code",
   "execution_count": null,
   "metadata": {},
   "outputs": [
    {
     "data": {
      "text/html": [
       "\n",
       "    <div>\n",
       "        <style>\n",
       "            /* Turns off some styling */\n",
       "            progress {\n",
       "                /* gets rid of default border in Firefox and Opera. */\n",
       "                border: none;\n",
       "                /* Needs to be in here for Safari polyfill so background images work as expected. */\n",
       "                background-size: auto;\n",
       "            }\n",
       "            .progress-bar-interrupted, .progress-bar-interrupted::-webkit-progress-bar {\n",
       "                background: #F44336;\n",
       "            }\n",
       "        </style>\n",
       "      <progress value='2' class='' max='3', style='width:300px; height:20px; vertical-align: middle;'></progress>\n",
       "      66.67% [2/3 09:16<04:38]\n",
       "    </div>\n",
       "    \n",
       "<table border=\"1\" class=\"dataframe\">\n",
       "  <thead>\n",
       "    <tr style=\"text-align: left;\">\n",
       "      <th>epoch</th>\n",
       "      <th>train_loss</th>\n",
       "      <th>valid_loss</th>\n",
       "      <th>accuracy</th>\n",
       "      <th>f1</th>\n",
       "      <th>time</th>\n",
       "    </tr>\n",
       "  </thead>\n",
       "  <tbody>\n",
       "    <tr>\n",
       "      <td>0</td>\n",
       "      <td>0.053068</td>\n",
       "      <td>0.051000</td>\n",
       "      <td>0.815900</td>\n",
       "      <td>0.804071</td>\n",
       "      <td>04:38</td>\n",
       "    </tr>\n",
       "    <tr>\n",
       "      <td>1</td>\n",
       "      <td>0.050556</td>\n",
       "      <td>0.049428</td>\n",
       "      <td>0.828267</td>\n",
       "      <td>0.813080</td>\n",
       "      <td>04:37</td>\n",
       "    </tr>\n",
       "  </tbody>\n",
       "</table><p>\n",
       "\n",
       "    <div>\n",
       "        <style>\n",
       "            /* Turns off some styling */\n",
       "            progress {\n",
       "                /* gets rid of default border in Firefox and Opera. */\n",
       "                border: none;\n",
       "                /* Needs to be in here for Safari polyfill so background images work as expected. */\n",
       "                background-size: auto;\n",
       "            }\n",
       "            .progress-bar-interrupted, .progress-bar-interrupted::-webkit-progress-bar {\n",
       "                background: #F44336;\n",
       "            }\n",
       "        </style>\n",
       "      <progress value='3609' class='' max='4579', style='width:300px; height:20px; vertical-align: middle;'></progress>\n",
       "      78.82% [3609/4579 03:36<00:58 0.0508]\n",
       "    </div>\n",
       "    "
      ],
      "text/plain": [
       "<IPython.core.display.HTML object>"
      ]
     },
     "metadata": {},
     "output_type": "display_data"
    }
   ],
   "source": [
    "learn = cnn_learner(data,models.resnet50, metrics=[accuracy, f1])\n",
    "learn.model_dir = models_path\n",
    "learn.loss_func =CombinedLoss(alpha=0.75, gamma=4);\n",
    "learn.to_fp16();\n",
    "\n",
    "learn.fit_one_cycle(3, max_lr=1e-3)"
   ]
  },
  {
   "cell_type": "code",
   "execution_count": 10,
   "metadata": {},
   "outputs": [
    {
     "data": {
      "text/html": [
       "<table border=\"1\" class=\"dataframe\">\n",
       "  <thead>\n",
       "    <tr style=\"text-align: left;\">\n",
       "      <th>epoch</th>\n",
       "      <th>train_loss</th>\n",
       "      <th>valid_loss</th>\n",
       "      <th>accuracy</th>\n",
       "      <th>f1</th>\n",
       "      <th>time</th>\n",
       "    </tr>\n",
       "  </thead>\n",
       "  <tbody>\n",
       "    <tr>\n",
       "      <td>0</td>\n",
       "      <td>0.054973</td>\n",
       "      <td>0.052037</td>\n",
       "      <td>0.806301</td>\n",
       "      <td>0.780759</td>\n",
       "      <td>18:37</td>\n",
       "    </tr>\n",
       "    <tr>\n",
       "      <td>1</td>\n",
       "      <td>0.050927</td>\n",
       "      <td>0.049562</td>\n",
       "      <td>0.828944</td>\n",
       "      <td>0.809496</td>\n",
       "      <td>04:37</td>\n",
       "    </tr>\n",
       "    <tr>\n",
       "      <td>2</td>\n",
       "      <td>0.049332</td>\n",
       "      <td>0.048766</td>\n",
       "      <td>0.836697</td>\n",
       "      <td>0.815216</td>\n",
       "      <td>04:37</td>\n",
       "    </tr>\n",
       "  </tbody>\n",
       "</table>"
      ],
      "text/plain": [
       "<IPython.core.display.HTML object>"
      ]
     },
     "metadata": {},
     "output_type": "display_data"
    }
   ],
   "source": [
    "bs=32\n",
    "size=64\n",
    "src = (ImageList\n",
    "       .from_df(classification_labels, path=classifcation_crop_dir, cols=['crop_filename'])\n",
    "#        .use_partial_data(partial_data_frac)\n",
    "       .split_by_valid_func(is_valid_func)\n",
    "       .label_from_df(cols='label'))\n",
    "data = (src\n",
    "    .transform(get_transforms(do_flip=True, \n",
    "         flip_vert=True, \n",
    "         max_rotate=180, \n",
    "         max_zoom=1.2, \n",
    "         max_lighting=0.5,\n",
    "         max_warp=0.2, \n",
    "         p_affine=0.75, \n",
    "         p_lighting=0.75), size=size, tfm_y=False)\n",
    "    .add_test_folder(damage_crops_test_folder)\n",
    "    .databunch(bs=bs)\n",
    "    .normalize(imagenet_stats))\n",
    "\n",
    "learn = cnn_learner(data,models.resnet50, metrics=[accuracy, f1])\n",
    "learn.model_dir = models_path\n",
    "learn.loss_func =CombinedLoss(alpha=0.75, gamma=4);\n",
    "learn.to_fp16();\n",
    "\n",
    "learn.fit_one_cycle(3, max_lr=1e-3)"
   ]
  },
  {
   "cell_type": "code",
   "execution_count": 11,
   "metadata": {},
   "outputs": [],
   "source": [
    "learn.save('29nov_focal_alpha075_gamma_4')"
   ]
  },
  {
   "cell_type": "code",
   "execution_count": 12,
   "metadata": {},
   "outputs": [
    {
     "data": {
      "text/html": [],
      "text/plain": [
       "<IPython.core.display.HTML object>"
      ]
     },
     "metadata": {},
     "output_type": "display_data"
    },
    {
     "name": "stdout",
     "output_type": "stream",
     "text": [
      "LR Finder is complete, type {learner_name}.recorder.plot() to see the graph.\n"
     ]
    },
    {
     "data": {
      "image/png": "[encoded data removed]",
      "text/plain": [
       "<Figure size 432x288 with 1 Axes>"
      ]
     },
     "metadata": {
      "needs_background": "light"
     },
     "output_type": "display_data"
    }
   ],
   "source": [
    "learn.unfreeze()\n",
    "learn.lr_find()\n",
    "learn.recorder.plot();"
   ]
  },
  {
   "cell_type": "code",
   "execution_count": 13,
   "metadata": {},
   "outputs": [
    {
     "data": {
      "text/html": [
       "<table border=\"1\" class=\"dataframe\">\n",
       "  <thead>\n",
       "    <tr style=\"text-align: left;\">\n",
       "      <th>epoch</th>\n",
       "      <th>train_loss</th>\n",
       "      <th>valid_loss</th>\n",
       "      <th>accuracy</th>\n",
       "      <th>f1</th>\n",
       "      <th>time</th>\n",
       "    </tr>\n",
       "  </thead>\n",
       "  <tbody>\n",
       "    <tr>\n",
       "      <td>0</td>\n",
       "      <td>0.048954</td>\n",
       "      <td>0.048813</td>\n",
       "      <td>0.838174</td>\n",
       "      <td>0.817750</td>\n",
       "      <td>06:00</td>\n",
       "    </tr>\n",
       "    <tr>\n",
       "      <td>1</td>\n",
       "      <td>0.049809</td>\n",
       "      <td>0.048628</td>\n",
       "      <td>0.838789</td>\n",
       "      <td>0.818232</td>\n",
       "      <td>06:01</td>\n",
       "    </tr>\n",
       "    <tr>\n",
       "      <td>2</td>\n",
       "      <td>0.049895</td>\n",
       "      <td>0.048584</td>\n",
       "      <td>0.840450</td>\n",
       "      <td>0.820471</td>\n",
       "      <td>06:11</td>\n",
       "    </tr>\n",
       "  </tbody>\n",
       "</table>"
      ],
      "text/plain": [
       "<IPython.core.display.HTML object>"
      ]
     },
     "metadata": {},
     "output_type": "display_data"
    }
   ],
   "source": [
    "learn.fit_one_cycle(3, max_lr=1e-6)\n",
    "callbacks=[SaveModelCallback(learn, every='improvement', monitor='f1', name='29nov_focal_alpha075_gamma_4'),\n",
    "#           TerminateOnNaNCallback(),\n",
    "           ReduceLROnPlateauCallback(learn, patience=1)\n",
    "          ]\n"
   ]
  },
  {
   "cell_type": "code",
   "execution_count": 14,
   "metadata": {},
   "outputs": [],
   "source": [
    "learn.save('29nov_focal_alpha075_gamma_4')"
   ]
  },
  {
   "cell_type": "code",
   "execution_count": 17,
   "metadata": {},
   "outputs": [
    {
     "data": {
      "text/html": [],
      "text/plain": [
       "<IPython.core.display.HTML object>"
      ]
     },
     "metadata": {},
     "output_type": "display_data"
    }
   ],
   "source": [
    "learn.loss_func = CombinedLoss(alpha=0.75, gamma=4);\n",
    "learn.load('29nov_focal_alpha075_gamma_4')\n",
    "predictions, y, losses = learn.get_preds(ds_type=DatasetType.Test, with_loss=True)\n",
    "y = torch.argmax(predictions, dim=1)"
   ]
  },
  {
   "cell_type": "code",
   "execution_count": 18,
   "metadata": {},
   "outputs": [
    {
     "data": {
      "text/html": [
       "<div>\n",
       "<style scoped>\n",
       "    .dataframe tbody tr th:only-of-type {\n",
       "        vertical-align: middle;\n",
       "    }\n",
       "\n",
       "    .dataframe tbody tr th {\n",
       "        vertical-align: top;\n",
       "    }\n",
       "\n",
       "    .dataframe thead th {\n",
       "        text-align: right;\n",
       "    }\n",
       "</style>\n",
       "<table border=\"1\" class=\"dataframe\">\n",
       "  <thead>\n",
       "    <tr style=\"text-align: right;\">\n",
       "      <th></th>\n",
       "      <th>geometry</th>\n",
       "      <th>value</th>\n",
       "      <th>polygon_id</th>\n",
       "      <th>img_id</th>\n",
       "      <th>crop_filename</th>\n",
       "      <th>damage_cls</th>\n",
       "    </tr>\n",
       "  </thead>\n",
       "  <tbody>\n",
       "    <tr>\n",
       "      <td>0</td>\n",
       "      <td>LINEARRING (622 0, 622 2, 624 2, 624 4, 626 4,...</td>\n",
       "      <td>255.0</td>\n",
       "      <td>81af5119-6405-4945-b878-39959bf5fe59</td>\n",
       "      <td>test_damage_00000_prediction.png</td>\n",
       "      <td>81af5119-6405-4945-b878-39959bf5fe59.png</td>\n",
       "      <td>1</td>\n",
       "    </tr>\n",
       "    <tr>\n",
       "      <td>1</td>\n",
       "      <td>LINEARRING (744 0, 744 4, 746 4, 746 8, 748 8,...</td>\n",
       "      <td>255.0</td>\n",
       "      <td>874f04d5-31a0-4d02-a806-63284e22f816</td>\n",
       "      <td>test_damage_00000_prediction.png</td>\n",
       "      <td>874f04d5-31a0-4d02-a806-63284e22f816.png</td>\n",
       "      <td>1</td>\n",
       "    </tr>\n",
       "    <tr>\n",
       "      <td>2</td>\n",
       "      <td>LINEARRING (576 42, 576 44, 572 44, 572 46, 57...</td>\n",
       "      <td>255.0</td>\n",
       "      <td>492a78ad-86f9-4099-86f9-3eeee4e8c3e5</td>\n",
       "      <td>test_damage_00000_prediction.png</td>\n",
       "      <td>492a78ad-86f9-4099-86f9-3eeee4e8c3e5.png</td>\n",
       "      <td>1</td>\n",
       "    </tr>\n",
       "    <tr>\n",
       "      <td>3</td>\n",
       "      <td>LINEARRING (394 78, 394 80, 388 80, 388 82, 38...</td>\n",
       "      <td>255.0</td>\n",
       "      <td>f87c9445-b7fa-40b8-bfdf-ab1368d3f894</td>\n",
       "      <td>test_damage_00000_prediction.png</td>\n",
       "      <td>f87c9445-b7fa-40b8-bfdf-ab1368d3f894.png</td>\n",
       "      <td>1</td>\n",
       "    </tr>\n",
       "    <tr>\n",
       "      <td>4</td>\n",
       "      <td>LINEARRING (684 108, 686 108, 686 106, 688 106...</td>\n",
       "      <td>255.0</td>\n",
       "      <td>e23cf0eb-953a-461a-ab3d-73e0b2cbd6bd</td>\n",
       "      <td>test_damage_00000_prediction.png</td>\n",
       "      <td>e23cf0eb-953a-461a-ab3d-73e0b2cbd6bd.png</td>\n",
       "      <td>1</td>\n",
       "    </tr>\n",
       "  </tbody>\n",
       "</table>\n",
       "</div>"
      ],
      "text/plain": [
       "                                            geometry  value  \\\n",
       "0  LINEARRING (622 0, 622 2, 624 2, 624 4, 626 4,...  255.0   \n",
       "1  LINEARRING (744 0, 744 4, 746 4, 746 8, 748 8,...  255.0   \n",
       "2  LINEARRING (576 42, 576 44, 572 44, 572 46, 57...  255.0   \n",
       "3  LINEARRING (394 78, 394 80, 388 80, 388 82, 38...  255.0   \n",
       "4  LINEARRING (684 108, 686 108, 686 106, 688 106...  255.0   \n",
       "\n",
       "                             polygon_id                            img_id  \\\n",
       "0  81af5119-6405-4945-b878-39959bf5fe59  test_damage_00000_prediction.png   \n",
       "1  874f04d5-31a0-4d02-a806-63284e22f816  test_damage_00000_prediction.png   \n",
       "2  492a78ad-86f9-4099-86f9-3eeee4e8c3e5  test_damage_00000_prediction.png   \n",
       "3  f87c9445-b7fa-40b8-bfdf-ab1368d3f894  test_damage_00000_prediction.png   \n",
       "4  e23cf0eb-953a-461a-ab3d-73e0b2cbd6bd  test_damage_00000_prediction.png   \n",
       "\n",
       "                              crop_filename  damage_cls  \n",
       "0  81af5119-6405-4945-b878-39959bf5fe59.png           1  \n",
       "1  874f04d5-31a0-4d02-a806-63284e22f816.png           1  \n",
       "2  492a78ad-86f9-4099-86f9-3eeee4e8c3e5.png           1  \n",
       "3  f87c9445-b7fa-40b8-bfdf-ab1368d3f894.png           1  \n",
       "4  e23cf0eb-953a-461a-ab3d-73e0b2cbd6bd.png           1  "
      ]
     },
     "execution_count": 18,
     "metadata": {},
     "output_type": "execute_result"
    }
   ],
   "source": [
    "labels = pd.read_csv(data_dir/\"test_polygons.csv\")\n",
    "labels[\"crop_filename\"] = labels.polygon_id.apply(lambda x: f\"{x}.png\")\n",
    "\n",
    "polygon_ids = [x.name.replace('.png', '') for x in data.test_dl.dataset.items]\n",
    "prediction_cls = [x+1 for x in y.numpy()]\n",
    "\n",
    "test_results = pd.DataFrame(data={'polygon_id': polygon_ids, 'damage_cls': prediction_cls})\n",
    "test_results = labels.merge(test_results, left_on='polygon_id', right_on='polygon_id')\n",
    "test_results.geometry = test_results.geometry.apply(lambda x: wkt.loads(x).exterior)\n",
    "test_results.img_id = test_results.img_id.str.replace('localization', 'damage')\n",
    "\n",
    "test_results.head()"
   ]
  },
  {
   "cell_type": "code",
   "execution_count": 20,
   "metadata": {},
   "outputs": [],
   "source": [
    "from cv2 import fillPoly, imwrite\n",
    "\n",
    "\n",
    "def create_image(img_id, output_path):\n",
    "    mask_img = np.zeros((1024, 1024, 1), np.uint8)\n",
    "    img_polys = test_results[test_results.img_id == img_id]\n",
    "    if len(img_polys) > 0:\n",
    "        for r in img_polys.iterrows():\n",
    "            row = r[1]\n",
    "            poly_np = np.array(row.geometry.coords, np.int32)\n",
    "            fillPoly(mask_img, [poly_np], row['damage_cls'])\n",
    "\n",
    "    imwrite(str(output_path / img_id), mask_img)\n",
    "    return mask_img"
   ]
  },
  {
   "cell_type": "code",
   "execution_count": 21,
   "metadata": {},
   "outputs": [
    {
     "name": "stderr",
     "output_type": "stream",
     "text": [
      "\n",
      "  0%|          | 0/933 [00:00<?, ?it/s]\u001b[A\n",
      "  1%|          | 7/933 [00:00<00:13, 69.18it/s]\u001b[A\n",
      "  2%|▏         | 22/933 [00:00<00:11, 81.63it/s]\u001b[A\n",
      "  4%|▎         | 34/933 [00:00<00:10, 89.11it/s]\u001b[A\n",
      "  6%|▌         | 52/933 [00:00<00:08, 104.68it/s]\u001b[A\n",
      "  7%|▋         | 63/933 [00:00<00:08, 101.74it/s]\u001b[A\n",
      "  8%|▊         | 74/933 [00:00<00:08, 98.59it/s] \u001b[A\n",
      "  9%|▉         | 87/933 [00:00<00:07, 105.96it/s]\u001b[A\n",
      " 11%|█         | 101/933 [00:00<00:07, 113.27it/s]\u001b[A\n",
      " 12%|█▏        | 113/933 [00:00<00:07, 108.85it/s]\u001b[A\n",
      " 13%|█▎        | 125/933 [00:01<00:07, 101.42it/s]\u001b[A\n",
      " 15%|█▍        | 137/933 [00:01<00:07, 105.59it/s]\u001b[A\n",
      " 16%|█▋        | 152/933 [00:01<00:07, 111.47it/s]\u001b[A\n",
      " 18%|█▊        | 169/933 [00:01<00:06, 120.14it/s]\u001b[A\n",
      " 20%|█▉        | 183/933 [00:01<00:06, 124.75it/s]\u001b[A\n",
      " 21%|██        | 198/933 [00:01<00:05, 129.65it/s]\u001b[A\n",
      " 23%|██▎       | 215/933 [00:01<00:05, 139.25it/s]\u001b[A\n",
      " 25%|██▍       | 230/933 [00:01<00:05, 127.24it/s]\u001b[A\n",
      " 26%|██▌       | 244/933 [00:02<00:05, 130.18it/s]\u001b[A\n",
      " 28%|██▊       | 258/933 [00:02<00:05, 131.80it/s]\u001b[A\n",
      " 29%|██▉       | 272/933 [00:02<00:05, 125.63it/s]\u001b[A\n",
      " 31%|███       | 290/933 [00:02<00:04, 137.28it/s]\u001b[A\n",
      " 33%|███▎      | 305/933 [00:02<00:05, 123.60it/s]\u001b[A\n",
      " 34%|███▍      | 318/933 [00:02<00:05, 117.06it/s]\u001b[A\n",
      " 36%|███▌      | 332/933 [00:02<00:04, 122.69it/s]\u001b[A\n",
      " 37%|███▋      | 345/933 [00:02<00:05, 115.11it/s]\u001b[A\n",
      " 38%|███▊      | 359/933 [00:02<00:04, 116.93it/s]\u001b[A\n",
      " 40%|████      | 375/933 [00:03<00:04, 125.26it/s]\u001b[A\n",
      " 42%|████▏     | 388/933 [00:03<00:04, 126.52it/s]\u001b[A\n",
      " 43%|████▎     | 401/933 [00:03<00:04, 123.08it/s]\u001b[A\n",
      " 44%|████▍     | 414/933 [00:03<00:04, 124.10it/s]\u001b[A\n",
      " 46%|████▌     | 427/933 [00:03<00:04, 119.16it/s]\u001b[A\n",
      " 48%|████▊     | 444/933 [00:03<00:03, 128.79it/s]\u001b[A\n",
      " 49%|████▉     | 458/933 [00:03<00:03, 123.40it/s]\u001b[A\n",
      " 51%|█████     | 474/933 [00:03<00:03, 132.09it/s]\u001b[A\n",
      " 52%|█████▏    | 488/933 [00:03<00:03, 120.06it/s]\u001b[A\n",
      " 54%|█████▎    | 501/933 [00:04<00:03, 121.14it/s]\u001b[A\n",
      " 56%|█████▌    | 519/933 [00:04<00:03, 134.32it/s]\u001b[A\n",
      " 57%|█████▋    | 534/933 [00:04<00:03, 129.26it/s]\u001b[A\n",
      " 59%|█████▉    | 550/933 [00:04<00:02, 132.00it/s]\u001b[A\n",
      " 60%|██████    | 564/933 [00:04<00:03, 121.75it/s]\u001b[A\n",
      " 62%|██████▏   | 577/933 [00:04<00:02, 121.77it/s]\u001b[A\n",
      " 63%|██████▎   | 590/933 [00:04<00:03, 113.44it/s]\u001b[A\n",
      " 65%|██████▍   | 602/933 [00:04<00:03, 109.69it/s]\u001b[A\n",
      " 66%|██████▌   | 614/933 [00:05<00:02, 112.20it/s]\u001b[A\n",
      " 67%|██████▋   | 626/933 [00:05<00:02, 105.67it/s]\u001b[A\n",
      " 69%|██████▊   | 640/933 [00:05<00:02, 113.24it/s]\u001b[A\n",
      " 70%|███████   | 656/933 [00:05<00:02, 123.11it/s]\u001b[A\n",
      " 72%|███████▏  | 670/933 [00:05<00:02, 126.14it/s]\u001b[A\n",
      " 73%|███████▎  | 683/933 [00:05<00:02, 114.17it/s]\u001b[A\n",
      " 74%|███████▍  | 695/933 [00:05<00:02, 110.18it/s]\u001b[A\n",
      " 76%|███████▌  | 711/933 [00:05<00:01, 121.21it/s]\u001b[A\n",
      " 78%|███████▊  | 724/933 [00:05<00:01, 111.46it/s]\u001b[A\n",
      " 79%|███████▉  | 736/933 [00:06<00:01, 111.32it/s]\u001b[A\n",
      " 80%|████████  | 750/933 [00:06<00:01, 113.67it/s]\u001b[A\n",
      " 82%|████████▏ | 763/933 [00:06<00:01, 117.77it/s]\u001b[A\n",
      " 84%|████████▍ | 782/933 [00:06<00:01, 131.94it/s]\u001b[A\n",
      " 85%|████████▌ | 796/933 [00:06<00:01, 129.18it/s]\u001b[A\n",
      " 87%|████████▋ | 810/933 [00:06<00:01, 120.00it/s]\u001b[A\n",
      " 88%|████████▊ | 824/933 [00:06<00:00, 124.45it/s]\u001b[A\n",
      " 90%|█████████ | 840/933 [00:06<00:00, 132.48it/s]\u001b[A\n",
      " 92%|█████████▏| 857/933 [00:06<00:00, 136.57it/s]\u001b[A\n",
      " 93%|█████████▎| 871/933 [00:07<00:00, 123.61it/s]\u001b[A\n",
      " 95%|█████████▍| 884/933 [00:07<00:00, 116.45it/s]\u001b[A\n",
      " 96%|█████████▌| 897/933 [00:07<00:00, 109.83it/s]\u001b[A\n",
      " 98%|█████████▊| 912/933 [00:07<00:00, 117.92it/s]\u001b[A\n",
      "100%|██████████| 933/933 [00:07<00:00, 123.20it/s]\u001b[A\n"
     ]
    }
   ],
   "source": [
    "\n",
    "output_path = data_dir/\"test_masks\"\n",
    "\n",
    "img_ids = [re.findall(r'\\d+', x.name )[0] for x in (data_dir/\"test\"/\"images\").ls() if 'post' in x.name]\n",
    "img_ids = [f\"test_damage_{x}_prediction.png\" for x in img_ids]\n",
    "\n",
    "outputs = [create_image(img_id, output_path) for img_id in tqdm(img_ids)]"
   ]
  },
  {
   "cell_type": "code",
   "execution_count": 23,
   "metadata": {},
   "outputs": [],
   "source": [
    "from submission_utils import load_and_validate_image\n",
    "_=[load_and_validate_image(x) for x in output_path.ls()]"
   ]
  },
  {
   "cell_type": "code",
   "execution_count": 25,
   "metadata": {},
   "outputs": [
    {
     "data": {
      "text/plain": [
       "763"
      ]
     },
     "execution_count": 25,
     "metadata": {},
     "output_type": "execute_result"
    }
   ],
   "source": [
    "test_results_localisation.img_id.nunique()"
   ]
  },
  {
   "cell_type": "code",
   "execution_count": 27,
   "metadata": {},
   "outputs": [],
   "source": [
    "learn.TTA??"
   ]
  },
  {
   "cell_type": "code",
   "execution_count": 28,
   "metadata": {},
   "outputs": [
    {
     "data": {
      "text/html": [],
      "text/plain": [
       "<IPython.core.display.HTML object>"
      ]
     },
     "metadata": {},
     "output_type": "display_data"
    },
    {
     "data": {
      "text/html": [],
      "text/plain": [
       "<IPython.core.display.HTML object>"
      ]
     },
     "metadata": {},
     "output_type": "display_data"
    }
   ],
   "source": [
    "predictions_tta, y_tta, losses_tta = learn.TTA(ds_type=DatasetType.Test, with_loss=True)\n",
    "y_tta = torch.argmax(predictions, dim=1)"
   ]
  },
  {
   "cell_type": "code",
   "execution_count": 34,
   "metadata": {},
   "outputs": [
    {
     "data": {
      "text/plain": [
       "tensor([True, True, True,  ..., True, True, True])"
      ]
     },
     "execution_count": 34,
     "metadata": {},
     "output_type": "execute_result"
    }
   ],
   "source": [
    "(y_tta == y)"
   ]
  },
  {
   "cell_type": "code",
   "execution_count": 40,
   "metadata": {},
   "outputs": [
    {
     "data": {
      "text/html": [
       "<div>\n",
       "<style scoped>\n",
       "    .dataframe tbody tr th:only-of-type {\n",
       "        vertical-align: middle;\n",
       "    }\n",
       "\n",
       "    .dataframe tbody tr th {\n",
       "        vertical-align: top;\n",
       "    }\n",
       "\n",
       "    .dataframe thead th {\n",
       "        text-align: right;\n",
       "    }\n",
       "</style>\n",
       "<table border=\"1\" class=\"dataframe\">\n",
       "  <thead>\n",
       "    <tr style=\"text-align: right;\">\n",
       "      <th></th>\n",
       "      <th>geometry</th>\n",
       "      <th>value</th>\n",
       "      <th>polygon_id</th>\n",
       "      <th>img_id</th>\n",
       "      <th>crop_filename</th>\n",
       "      <th>damage_cls</th>\n",
       "    </tr>\n",
       "  </thead>\n",
       "  <tbody>\n",
       "    <tr>\n",
       "      <td>0</td>\n",
       "      <td>LINEARRING (622 0, 622 2, 624 2, 624 4, 626 4,...</td>\n",
       "      <td>255.0</td>\n",
       "      <td>81af5119-6405-4945-b878-39959bf5fe59</td>\n",
       "      <td>test_localization_00000_prediction.png</td>\n",
       "      <td>81af5119-6405-4945-b878-39959bf5fe59.png</td>\n",
       "      <td>1</td>\n",
       "    </tr>\n",
       "    <tr>\n",
       "      <td>1</td>\n",
       "      <td>LINEARRING (744 0, 744 4, 746 4, 746 8, 748 8,...</td>\n",
       "      <td>255.0</td>\n",
       "      <td>874f04d5-31a0-4d02-a806-63284e22f816</td>\n",
       "      <td>test_localization_00000_prediction.png</td>\n",
       "      <td>874f04d5-31a0-4d02-a806-63284e22f816.png</td>\n",
       "      <td>1</td>\n",
       "    </tr>\n",
       "    <tr>\n",
       "      <td>2</td>\n",
       "      <td>LINEARRING (576 42, 576 44, 572 44, 572 46, 57...</td>\n",
       "      <td>255.0</td>\n",
       "      <td>492a78ad-86f9-4099-86f9-3eeee4e8c3e5</td>\n",
       "      <td>test_localization_00000_prediction.png</td>\n",
       "      <td>492a78ad-86f9-4099-86f9-3eeee4e8c3e5.png</td>\n",
       "      <td>1</td>\n",
       "    </tr>\n",
       "    <tr>\n",
       "      <td>3</td>\n",
       "      <td>LINEARRING (394 78, 394 80, 388 80, 388 82, 38...</td>\n",
       "      <td>255.0</td>\n",
       "      <td>f87c9445-b7fa-40b8-bfdf-ab1368d3f894</td>\n",
       "      <td>test_localization_00000_prediction.png</td>\n",
       "      <td>f87c9445-b7fa-40b8-bfdf-ab1368d3f894.png</td>\n",
       "      <td>1</td>\n",
       "    </tr>\n",
       "    <tr>\n",
       "      <td>4</td>\n",
       "      <td>LINEARRING (684 108, 686 108, 686 106, 688 106...</td>\n",
       "      <td>255.0</td>\n",
       "      <td>e23cf0eb-953a-461a-ab3d-73e0b2cbd6bd</td>\n",
       "      <td>test_localization_00000_prediction.png</td>\n",
       "      <td>e23cf0eb-953a-461a-ab3d-73e0b2cbd6bd.png</td>\n",
       "      <td>1</td>\n",
       "    </tr>\n",
       "  </tbody>\n",
       "</table>\n",
       "</div>"
      ],
      "text/plain": [
       "                                            geometry  value  \\\n",
       "0  LINEARRING (622 0, 622 2, 624 2, 624 4, 626 4,...  255.0   \n",
       "1  LINEARRING (744 0, 744 4, 746 4, 746 8, 748 8,...  255.0   \n",
       "2  LINEARRING (576 42, 576 44, 572 44, 572 46, 57...  255.0   \n",
       "3  LINEARRING (394 78, 394 80, 388 80, 388 82, 38...  255.0   \n",
       "4  LINEARRING (684 108, 686 108, 686 106, 688 106...  255.0   \n",
       "\n",
       "                             polygon_id  \\\n",
       "0  81af5119-6405-4945-b878-39959bf5fe59   \n",
       "1  874f04d5-31a0-4d02-a806-63284e22f816   \n",
       "2  492a78ad-86f9-4099-86f9-3eeee4e8c3e5   \n",
       "3  f87c9445-b7fa-40b8-bfdf-ab1368d3f894   \n",
       "4  e23cf0eb-953a-461a-ab3d-73e0b2cbd6bd   \n",
       "\n",
       "                                   img_id  \\\n",
       "0  test_localization_00000_prediction.png   \n",
       "1  test_localization_00000_prediction.png   \n",
       "2  test_localization_00000_prediction.png   \n",
       "3  test_localization_00000_prediction.png   \n",
       "4  test_localization_00000_prediction.png   \n",
       "\n",
       "                              crop_filename  damage_cls  \n",
       "0  81af5119-6405-4945-b878-39959bf5fe59.png           1  \n",
       "1  874f04d5-31a0-4d02-a806-63284e22f816.png           1  \n",
       "2  492a78ad-86f9-4099-86f9-3eeee4e8c3e5.png           1  \n",
       "3  f87c9445-b7fa-40b8-bfdf-ab1368d3f894.png           1  \n",
       "4  e23cf0eb-953a-461a-ab3d-73e0b2cbd6bd.png           1  "
      ]
     },
     "execution_count": 40,
     "metadata": {},
     "output_type": "execute_result"
    }
   ],
   "source": [
    "seg_results = labels.copy()\n",
    "seg_results[\"damage_cls\"] = 1\n",
    "seg_results.geometry = seg_results.geometry.apply(lambda x: wkt.loads(x).exterior)\n",
    "seg_results.head()"
   ]
  },
  {
   "cell_type": "code",
   "execution_count": 41,
   "metadata": {},
   "outputs": [],
   "source": [
    "def create_image(img_id, output_path, test_results_dataframe):\n",
    "    mask_img = np.zeros((1024, 1024, 1), np.uint8)\n",
    "    img_polys = test_results_dataframe[test_results_dataframe.img_id == img_id]\n",
    "    if len(img_polys) > 0:\n",
    "        for r in img_polys.iterrows():\n",
    "            row = r[1]\n",
    "            poly_np = np.array(row.geometry.coords, np.int32)\n",
    "            fillPoly(mask_img, [poly_np], row['damage_cls'])\n",
    "\n",
    "    imwrite(str(output_path / img_id), mask_img)\n",
    "    return mask_img"
   ]
  },
  {
   "cell_type": "code",
   "execution_count": 42,
   "metadata": {},
   "outputs": [
    {
     "name": "stderr",
     "output_type": "stream",
     "text": [
      "\n",
      "\n",
      "\n",
      "  0%|          | 0/933 [00:00<?, ?it/s]\u001b[A\u001b[A\u001b[A\n",
      "\n",
      "\n",
      "  2%|▏         | 17/933 [00:00<00:05, 166.21it/s]\u001b[A\u001b[A\u001b[A\n",
      "\n",
      "\n",
      "  3%|▎         | 28/933 [00:00<00:06, 141.83it/s]\u001b[A\u001b[A\u001b[A\n",
      "\n",
      "\n",
      "  5%|▍         | 42/933 [00:00<00:06, 139.80it/s]\u001b[A\u001b[A\u001b[A\n",
      "\n",
      "\n",
      "  6%|▌         | 58/933 [00:00<00:06, 141.50it/s]\u001b[A\u001b[A\u001b[A\n",
      "\n",
      "\n",
      "  8%|▊         | 74/933 [00:00<00:05, 146.27it/s]\u001b[A\u001b[A\u001b[A\n",
      "\n",
      "\n",
      " 10%|▉         | 91/933 [00:00<00:05, 149.89it/s]\u001b[A\u001b[A\u001b[A\n",
      "\n",
      "\n",
      " 12%|█▏        | 108/933 [00:00<00:05, 150.11it/s]\u001b[A\u001b[A\u001b[A\n",
      "\n",
      "\n",
      " 13%|█▎        | 122/933 [00:00<00:05, 142.09it/s]\u001b[A\u001b[A\u001b[A\n",
      "\n",
      "\n",
      " 15%|█▍        | 136/933 [00:00<00:06, 131.03it/s]\u001b[A\u001b[A\u001b[A\n",
      "\n",
      "\n",
      " 16%|█▋        | 152/933 [00:01<00:05, 136.67it/s]\u001b[A\u001b[A\u001b[A\n",
      "\n",
      "\n",
      " 18%|█▊        | 167/933 [00:01<00:05, 139.23it/s]\u001b[A\u001b[A\u001b[A\n",
      "\n",
      "\n",
      " 20%|█▉        | 183/933 [00:01<00:05, 144.31it/s]\u001b[A\u001b[A\u001b[A\n",
      "\n",
      "\n",
      " 22%|██▏       | 202/933 [00:01<00:04, 155.02it/s]\u001b[A\u001b[A\u001b[A\n",
      "\n",
      "\n",
      " 23%|██▎       | 218/933 [00:01<00:05, 137.47it/s]\u001b[A\u001b[A\u001b[A\n",
      "\n",
      "\n",
      " 25%|██▍       | 233/933 [00:01<00:05, 125.29it/s]\u001b[A\u001b[A\u001b[A\n",
      "\n",
      "\n",
      " 27%|██▋       | 250/933 [00:01<00:05, 132.72it/s]\u001b[A\u001b[A\u001b[A\n",
      "\n",
      "\n",
      " 28%|██▊       | 264/933 [00:01<00:05, 125.40it/s]\u001b[A\u001b[A\u001b[A\n",
      "\n",
      "\n",
      " 30%|██▉       | 277/933 [00:02<00:05, 118.24it/s]\u001b[A\u001b[A\u001b[A\n",
      "\n",
      "\n",
      " 31%|███       | 291/933 [00:02<00:05, 122.37it/s]\u001b[A\u001b[A\u001b[A\n",
      "\n",
      "\n",
      " 33%|███▎      | 304/933 [00:02<00:05, 124.51it/s]\u001b[A\u001b[A\u001b[A\n",
      "\n",
      "\n",
      " 34%|███▍      | 317/933 [00:02<00:05, 116.55it/s]\u001b[A\u001b[A\u001b[A\n",
      "\n",
      "\n",
      " 35%|███▌      | 329/933 [00:02<00:05, 116.45it/s]\u001b[A\u001b[A\u001b[A\n",
      "\n",
      "\n",
      " 37%|███▋      | 344/933 [00:02<00:04, 122.64it/s]\u001b[A\u001b[A\u001b[A\n",
      "\n",
      "\n",
      " 38%|███▊      | 357/933 [00:02<00:05, 112.45it/s]\u001b[A\u001b[A\u001b[A\n",
      "\n",
      "\n",
      " 40%|███▉      | 372/933 [00:02<00:04, 116.71it/s]\u001b[A\u001b[A\u001b[A\n",
      "\n",
      "\n",
      " 41%|████      | 384/933 [00:02<00:04, 113.12it/s]\u001b[A\u001b[A\u001b[A\n",
      "\n",
      "\n",
      " 43%|████▎     | 398/933 [00:03<00:04, 116.18it/s]\u001b[A\u001b[A\u001b[A\n",
      "\n",
      "\n",
      " 44%|████▍     | 412/933 [00:03<00:04, 121.58it/s]\u001b[A\u001b[A\u001b[A\n",
      "\n",
      "\n",
      " 46%|████▌     | 429/933 [00:03<00:03, 130.61it/s]\u001b[A\u001b[A\u001b[A\n",
      "\n",
      "\n",
      " 48%|████▊     | 444/933 [00:03<00:03, 129.78it/s]\u001b[A\u001b[A\u001b[A\n",
      "\n",
      "\n",
      " 49%|████▉     | 458/933 [00:03<00:03, 124.31it/s]\u001b[A\u001b[A\u001b[A\n",
      "\n",
      "\n",
      " 50%|█████     | 471/933 [00:03<00:04, 115.49it/s]\u001b[A\u001b[A\u001b[A\n",
      "\n",
      "\n",
      " 52%|█████▏    | 483/933 [00:03<00:04, 111.57it/s]\u001b[A\u001b[A\u001b[A\n",
      "\n",
      "\n",
      " 53%|█████▎    | 496/933 [00:03<00:03, 112.78it/s]\u001b[A\u001b[A\u001b[A\n",
      "\n",
      "\n",
      " 55%|█████▌    | 514/933 [00:03<00:03, 126.77it/s]\u001b[A\u001b[A\u001b[A\n",
      "\n",
      "\n",
      " 57%|█████▋    | 528/933 [00:04<00:03, 114.04it/s]\u001b[A\u001b[A\u001b[A\n",
      "\n",
      "\n",
      " 58%|█████▊    | 544/933 [00:04<00:03, 120.12it/s]\u001b[A\u001b[A\u001b[A\n",
      "\n",
      "\n",
      " 60%|██████    | 561/933 [00:04<00:02, 130.27it/s]\u001b[A\u001b[A\u001b[A\n",
      "\n",
      "\n",
      " 62%|██████▏   | 575/933 [00:04<00:02, 131.65it/s]\u001b[A\u001b[A\u001b[A\n",
      "\n",
      "\n",
      " 63%|██████▎   | 589/933 [00:04<00:02, 125.70it/s]\u001b[A\u001b[A\u001b[A\n",
      "\n",
      "\n",
      " 65%|██████▍   | 602/933 [00:04<00:02, 113.93it/s]\u001b[A\u001b[A\u001b[A\n",
      "\n",
      "\n",
      " 66%|██████▌   | 614/933 [00:04<00:02, 109.14it/s]\u001b[A\u001b[A\u001b[A\n",
      "\n",
      "\n",
      " 67%|██████▋   | 626/933 [00:04<00:02, 111.34it/s]\u001b[A\u001b[A\u001b[A\n",
      "\n",
      "\n",
      " 68%|██████▊   | 639/933 [00:05<00:02, 114.56it/s]\u001b[A\u001b[A\u001b[A\n",
      "\n",
      "\n",
      " 70%|███████   | 657/933 [00:05<00:02, 128.38it/s]\u001b[A\u001b[A\u001b[A\n",
      "\n",
      "\n",
      " 72%|███████▏  | 671/933 [00:05<00:02, 130.28it/s]\u001b[A\u001b[A\u001b[A\n",
      "\n",
      "\n",
      " 73%|███████▎  | 685/933 [00:05<00:01, 130.08it/s]\u001b[A\u001b[A\u001b[A\n",
      "\n",
      "\n",
      " 75%|███████▌  | 700/933 [00:05<00:01, 135.35it/s]\u001b[A\u001b[A\u001b[A\n",
      "\n",
      "\n",
      " 77%|███████▋  | 714/933 [00:05<00:01, 134.01it/s]\u001b[A\u001b[A\u001b[A\n",
      "\n",
      "\n",
      " 78%|███████▊  | 728/933 [00:05<00:01, 123.06it/s]\u001b[A\u001b[A\u001b[A\n",
      "\n",
      "\n",
      " 80%|███████▉  | 746/933 [00:05<00:01, 132.86it/s]\u001b[A\u001b[A\u001b[A\n",
      "\n",
      "\n",
      " 82%|████████▏ | 764/933 [00:05<00:01, 143.70it/s]\u001b[A\u001b[A\u001b[A\n",
      "\n",
      "\n",
      " 83%|████████▎ | 779/933 [00:06<00:01, 140.46it/s]\u001b[A\u001b[A\u001b[A\n",
      "\n",
      "\n",
      " 85%|████████▌ | 794/933 [00:06<00:01, 134.27it/s]\u001b[A\u001b[A\u001b[A\n",
      "\n",
      "\n",
      " 87%|████████▋ | 808/933 [00:06<00:00, 133.77it/s]\u001b[A\u001b[A\u001b[A\n",
      "\n",
      "\n",
      " 88%|████████▊ | 822/933 [00:06<00:00, 127.38it/s]\u001b[A\u001b[A\u001b[A\n",
      "\n",
      "\n",
      " 90%|████████▉ | 837/933 [00:06<00:00, 128.41it/s]\u001b[A\u001b[A\u001b[A\n",
      "\n",
      "\n",
      " 91%|█████████ | 851/933 [00:06<00:00, 112.88it/s]\u001b[A\u001b[A\u001b[A\n",
      "\n",
      "\n",
      " 92%|█████████▏| 863/933 [00:06<00:00, 112.51it/s]\u001b[A\u001b[A\u001b[A\n",
      "\n",
      "\n",
      " 94%|█████████▍| 875/933 [00:06<00:00, 112.49it/s]\u001b[A\u001b[A\u001b[A\n",
      "\n",
      "\n",
      " 95%|█████████▌| 889/933 [00:06<00:00, 119.47it/s]\u001b[A\u001b[A\u001b[A\n",
      "\n",
      "\n",
      " 97%|█████████▋| 904/933 [00:07<00:00, 126.81it/s]\u001b[A\u001b[A\u001b[A\n",
      "\n",
      "\n",
      " 98%|█████████▊| 917/933 [00:07<00:00, 110.28it/s]\u001b[A\u001b[A\u001b[A\n",
      "\n",
      "\n",
      "100%|██████████| 933/933 [00:07<00:00, 127.37it/s]\u001b[A\u001b[A\u001b[A\n"
     ]
    }
   ],
   "source": [
    "img_ids = [re.findall(r'\\d+', x.name )[0] for x in (data_dir/\"test\"/\"images\").ls() if 'pre' in x.name]\n",
    "img_ids = [f\"test_localization_{x}_prediction.png\" for x in img_ids]\n",
    "\n",
    "outputs = [create_image(img_id, output_path, seg_results) for img_id in tqdm(img_ids)]\n",
    "_=[load_and_validate_image(x) for x in output_path.ls()]"
   ]
  },
  {
   "cell_type": "code",
   "execution_count": 43,
   "metadata": {},
   "outputs": [
    {
     "data": {
      "text/plain": [
       "1866"
      ]
     },
     "execution_count": 43,
     "metadata": {},
     "output_type": "execute_result"
    }
   ],
   "source": [
    "len(set([x.name for x in output_path.ls()]))"
   ]
  },
  {
   "cell_type": "code",
   "execution_count": 45,
   "metadata": {},
   "outputs": [
    {
     "data": {
      "text/plain": [
       "933"
      ]
     },
     "execution_count": 45,
     "metadata": {},
     "output_type": "execute_result"
    }
   ],
   "source": [
    "len([re.findall(r'\\d+', x.name )[0] for x in output_path.ls() if 'damage' in x.name])"
   ]
  },
  {
   "cell_type": "code",
   "execution_count": 46,
   "metadata": {},
   "outputs": [
    {
     "data": {
      "text/plain": [
       "['test_damage_00732_prediction.png',\n",
       " 'test_localization_00923_prediction.png',\n",
       " 'test_localization_00265_prediction.png',\n",
       " 'test_localization_00058_prediction.png',\n",
       " 'test_damage_00099_prediction.png']"
      ]
     },
     "execution_count": 46,
     "metadata": {},
     "output_type": "execute_result"
    }
   ],
   "source": [
    "os.listdir(output_path)[:5]"
   ]
  },
  {
   "cell_type": "code",
   "execution_count": null,
   "metadata": {},
   "outputs": [],
   "source": []
  }
 ],
 "metadata": {
  "kernelspec": {
   "display_name": "fastai-solaris",
   "language": "python",
   "name": "fastai-solaris"
  },
  "language_info": {
   "codemirror_mode": {
    "name": "ipython",
    "version": 3
   },
   "file_extension": ".py",
   "mimetype": "text/x-python",
   "name": "python",
   "nbconvert_exporter": "python",
   "pygments_lexer": "ipython3",
   "version": "3.7.3"
  }
 },
 "nbformat": 4,
 "nbformat_minor": 2
}
