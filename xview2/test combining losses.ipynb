{
 "cells": [
  {
   "cell_type": "code",
   "execution_count": 25,
   "metadata": {},
   "outputs": [
    {
     "name": "stdout",
     "output_type": "stream",
     "text": [
      "The autoreload extension is already loaded. To reload it, use:\n",
      "  %reload_ext autoreload\n",
      "env: PROJ_LIB=/home/wwymak/anaconda3/envs/solaris/share/proj\n"
     ]
    }
   ],
   "source": [
    "import warnings\n",
    "warnings.filterwarnings(\"ignore\")\n",
    "from shapely import wkt\n",
    "import glob\n",
    "\n",
    "\n",
    "%load_ext autoreload\n",
    "%autoreload 2\n",
    "%env PROJ_LIB=/home/wwymak/anaconda3/envs/solaris/share/proj\n",
    "%matplotlib inline\n",
    "\n",
    "import skimage\n",
    "\n",
    "from tqdm import tqdm\n",
    "import numpy as np\n",
    "import cv2\n",
    "from functools import partial\n",
    "\n",
    "from fastai.imports import *\n",
    "from fastai.vision import *\n",
    "from fastai.metrics import dice\n",
    "from fastai.callbacks import *\n",
    "\n",
    "from joblib import Parallel, delayed\n",
    "import torch.nn.functional as F\n",
    "import torch\n",
    "import functools, traceback\n",
    "def gpu_mem_restore(func):\n",
    "    \"\"\"Reclaim GPU RAM if CUDA out of memory happened, or execution was interrupted\"\"\"\n",
    "    @functools.wraps(func)\n",
    "    def wrapper(*args, **kwargs):\n",
    "        try:\n",
    "            return func(*args, **kwargs)\n",
    "        except:\n",
    "            type, val, tb = sys.exc_info()\n",
    "            traceback.clear_frames(tb)\n",
    "            raise type(val).with_traceback(tb) from None\n",
    "    return wrapper\n",
    "\n",
    "os.environ['FASTAI_TB_CLEAR_FRAMES']=\"1\"\n",
    "\n",
    "from catalyst.contrib.criterion import FocalLossMultiClass, DiceLoss, BCEDiceLoss, LovaszLossBinary,LovaszLossMultiClass\n",
    "\n",
    "from importlib import reload"
   ]
  },
  {
   "cell_type": "code",
   "execution_count": 2,
   "metadata": {},
   "outputs": [],
   "source": [
    "def to_onehot(indices, num_classes):\n",
    "    \"\"\"Convert a tensor of indices of any shape `(N, ...)` to a\n",
    "    tensor of one-hot indicators of shape `(N, num_classes, ...) and of type uint8. Output's device is equal to the\n",
    "    input's device`.\n",
    "    \"\"\"\n",
    "    onehot = torch.zeros(indices.shape[0], num_classes, *indices.shape[1:],\n",
    "#                              dtype=torch.uint8,\n",
    "                         device=indices.device)\n",
    "    return onehot.scatter_(1, indices.unsqueeze(1), 1)\n",
    "\n",
    "    \n",
    "class FocalLoss(nn.Module):\n",
    "\n",
    "    def __init__(self, gamma=0, eps=1e-7):\n",
    "        super(FocalLoss, self).__init__()\n",
    "        self.gamma = gamma\n",
    "        self.eps = eps\n",
    "\n",
    "    def forward(self, input, target, **kwargs):\n",
    "        y = to_onehot(target, input.size(-1))\n",
    "        logit = F.softmax(input)\n",
    "        logit = logit.clamp(self.eps, 1. - self.eps)\n",
    "        loss = F.binary_cross_entropy(logit.float(), y.float())\n",
    "        loss = loss * (1 - logit) ** self.gamma # focal loss\n",
    "        return loss.sum(dim=1).mean()"
   ]
  },
  {
   "cell_type": "code",
   "execution_count": 19,
   "metadata": {},
   "outputs": [],
   "source": [
    "\n",
    "class CombinedLoss(nn.Module):\n",
    "\n",
    "    def __init__(self):\n",
    "        super(CombinedLoss, self).__init__()\n",
    "\n",
    "    def forward(self, input, target):\n",
    "        y = to_onehot(target, input.size(-1))\n",
    "        logit = F.softmax(input)\n",
    "                     \n",
    "        focal_loss = FocalLossMultiClass(gamma=2.)\n",
    "        bce_dice = BCEDiceLoss()\n",
    "        lovaz_loss = LovaszLossBinary()\n",
    "        dice_loss = DiceLoss(activation='Softmax')\n",
    "        \n",
    "        total_loss = 0.8 * focal_loss(logit, target) + 0.2 * dice_loss(logit, y)\n",
    "        return total_loss"
   ]
  },
  {
   "cell_type": "code",
   "execution_count": 4,
   "metadata": {},
   "outputs": [],
   "source": [
    "data_dir = Path(\"/media/wwymak/Storage/xView2\")\n",
    "models_path = data_dir / \"models\"\n",
    "classifcation_crop_dir = data_dir/\"classification_crops\"\n",
    "classification_labels = pd.read_csv(data_dir/\"train.csv\")\n",
    "\n",
    "damage_crops_test_folder = data_dir / \"classification_crops_test\""
   ]
  },
  {
   "cell_type": "code",
   "execution_count": 7,
   "metadata": {},
   "outputs": [],
   "source": [
    "def get_train_valid_ids(classification_labels_df, valid_pct=0.1, random_seed=42):\n",
    "    np.random.seed(random_seed)\n",
    "    unique_img_ids = classification_labels_df.img_id.unique()\n",
    "    np.random.shuffle(unique_img_ids)\n",
    "    train_img_ids = unique_img_ids[:int(len(unique_img_ids) * (1- valid_pct))]\n",
    "    valid_img_ids = unique_img_ids[int(len(unique_img_ids) * (1- valid_pct)):]\n",
    "    \n",
    "    train_ids = classification_labels_df[classification_labels_df.img_id.isin(train_img_ids)].crop_filename.values\n",
    "    valid_ids = classification_labels_df[classification_labels_df.img_id.isin(valid_img_ids)].crop_filename.values\n",
    "    \n",
    "    return train_ids, valid_ids\n",
    "    "
   ]
  },
  {
   "cell_type": "code",
   "execution_count": 8,
   "metadata": {},
   "outputs": [],
   "source": [
    "train_ids, valid_ids = get_train_valid_ids(classification_labels)\n",
    "classification_labels_resampled= pd.concat([\n",
    "    classification_labels[(classification_labels.label!= 0) & (~classification_labels.crop_filename.isin(valid_ids))],\n",
    "    classification_labels[(classification_labels.label==0) & (~classification_labels.crop_filename.isin(valid_ids))].sample(frac=0.2),\n",
    "    classification_labels[classification_labels.crop_filename.isin(valid_ids)],\n",
    "])"
   ]
  },
  {
   "cell_type": "code",
   "execution_count": 9,
   "metadata": {},
   "outputs": [],
   "source": [
    "def is_valid_func(img_fname):\n",
    "    id = Path(img_fname).name\n",
    "    return id in valid_ids\n",
    "\n",
    "def f1(y_pred:Tensor, y_true:Tensor):\n",
    "    eps=1e-10\n",
    "    def to_onehot(indices, num_classes):\n",
    "        \"\"\"Convert a tensor of indices of any shape `(N, ...)` to a\n",
    "        tensor of one-hot indicators of shape `(N, num_classes, ...) and of type uint8. Output's device is equal to the\n",
    "        input's device`.\n",
    "        \"\"\"\n",
    "        onehot = torch.zeros(indices.shape[0], num_classes, *indices.shape[1:],\n",
    "#                              dtype=torch.uint8,\n",
    "                             device=indices.device)\n",
    "        return onehot.scatter_(1, indices.unsqueeze(1), 1)\n",
    "    def recall(y_pred,y_true):\n",
    "        \"\"\"Recall metric.\n",
    "        Only computes a batch-wise average of recall.\n",
    "        Computes the recall, a metric for multi-label classification of\n",
    "        how many relevant items are selected.\n",
    "        \"\"\"\n",
    "        true_positives = torch.sum(torch.round(torch.clamp(y_true * y_pred, 0, 1)))\n",
    "        possible_positives = torch.sum(y_true)\n",
    "        recall = true_positives / (possible_positives + eps)\n",
    "        return recall\n",
    "\n",
    "    def precision(y_pred,y_true):\n",
    "        \"\"\"Precision metric.\n",
    "        Only computes a batch-wise average of precision.\n",
    "        Computes the precision, a metric for multi-label classification of\n",
    "        how many selected items are relevant.\n",
    "        \"\"\"\n",
    "        true_positives = torch.sum(torch.round(torch.clamp(y_true * y_pred, 0, 1)))\n",
    "        predicted_positives = torch.sum(torch.round(torch.clamp(y_pred, 0, 1)))\n",
    "        precision = true_positives / (predicted_positives +eps)\n",
    "        return precision\n",
    "\n",
    "    y_true = to_onehot(y_true.view(-1), num_classes=4)\n",
    "    precision = precision(y_pred,y_true)\n",
    "    recall = recall(y_pred,y_true)\n",
    "    return 2*((precision*recall)/(precision+recall+eps))#\n"
   ]
  },
  {
   "cell_type": "code",
   "execution_count": 10,
   "metadata": {},
   "outputs": [],
   "source": [
    "size=64\n",
    "bs=32\n",
    "partial_data_frac=0.2\n",
    "src = (ImageList\n",
    "       .from_df(classification_labels_resampled, path=classifcation_crop_dir, cols=['crop_filename'])\n",
    "#        .use_partial_data(partial_data_frac)\n",
    "       .split_by_valid_func(is_valid_func)\n",
    "       .label_from_df(cols='label'))\n",
    "data2 = (src\n",
    "        .transform(get_transforms(do_flip=True, \n",
    "             flip_vert=True, \n",
    "             max_rotate=180, \n",
    "             max_zoom=1.2, \n",
    "             max_lighting=0.5,\n",
    "             max_warp=0.2, \n",
    "             p_affine=0.75, \n",
    "             p_lighting=0.75), size=size, tfm_y=False)\n",
    "        .add_test_folder(damage_crops_test_folder)\n",
    "        .databunch(bs=bs)\n",
    "        .normalize(imagenet_stats))\n",
    "\n",
    "learn = cnn_learner(data2,models.resnet50, metrics=[accuracy, f1])\n",
    "learn.model_dir = models_path\n",
    "learn.loss_func =CombinedLoss();\n",
    "learn.to_fp16();"
   ]
  },
  {
   "cell_type": "code",
   "execution_count": 20,
   "metadata": {},
   "outputs": [
    {
     "name": "stdout",
     "output_type": "stream",
     "text": [
      "here\n"
     ]
    },
    {
     "data": {
      "text/html": [],
      "text/plain": [
       "<IPython.core.display.HTML object>"
      ]
     },
     "metadata": {},
     "output_type": "display_data"
    },
    {
     "name": "stdout",
     "output_type": "stream",
     "text": [
      "LR Finder is complete, type {learner_name}.recorder.plot() to see the graph.\n"
     ]
    },
    {
     "data": {
      "image/png": "[encoded data removed]",
      "text/plain": [
       "<Figure size 432x288 with 1 Axes>"
      ]
     },
     "metadata": {
      "needs_background": "light"
     },
     "output_type": "display_data"
    }
   ],
   "source": [
    "learn.loss_func =CombinedLoss();\n",
    "learn.to_fp16();\n",
    "print('here')\n",
    "learn.lr_find();\n",
    "learn.recorder.plot();"
   ]
  },
  {
   "cell_type": "code",
   "execution_count": 21,
   "metadata": {},
   "outputs": [
    {
     "data": {
      "text/html": [
       "<table border=\"1\" class=\"dataframe\">\n",
       "  <thead>\n",
       "    <tr style=\"text-align: left;\">\n",
       "      <th>epoch</th>\n",
       "      <th>train_loss</th>\n",
       "      <th>valid_loss</th>\n",
       "      <th>accuracy</th>\n",
       "      <th>f1</th>\n",
       "      <th>time</th>\n",
       "    </tr>\n",
       "  </thead>\n",
       "  <tbody>\n",
       "    <tr>\n",
       "      <td>0</td>\n",
       "      <td>0.558770</td>\n",
       "      <td>0.536462</td>\n",
       "      <td>0.705698</td>\n",
       "      <td>0.647614</td>\n",
       "      <td>02:03</td>\n",
       "    </tr>\n",
       "  </tbody>\n",
       "</table>"
      ],
      "text/plain": [
       "<IPython.core.display.HTML object>"
      ]
     },
     "metadata": {},
     "output_type": "display_data"
    }
   ],
   "source": [
    "learn.fit_one_cycle(1, max_lr=1e-3)"
   ]
  },
  {
   "cell_type": "code",
   "execution_count": 22,
   "metadata": {},
   "outputs": [
    {
     "data": {
      "text/html": [
       "<table border=\"1\" class=\"dataframe\">\n",
       "  <thead>\n",
       "    <tr style=\"text-align: left;\">\n",
       "      <th>epoch</th>\n",
       "      <th>train_loss</th>\n",
       "      <th>valid_loss</th>\n",
       "      <th>accuracy</th>\n",
       "      <th>f1</th>\n",
       "      <th>time</th>\n",
       "    </tr>\n",
       "  </thead>\n",
       "  <tbody>\n",
       "    <tr>\n",
       "      <td>0</td>\n",
       "      <td>0.554832</td>\n",
       "      <td>0.538180</td>\n",
       "      <td>0.699360</td>\n",
       "      <td>0.634080</td>\n",
       "      <td>02:01</td>\n",
       "    </tr>\n",
       "    <tr>\n",
       "      <td>1</td>\n",
       "      <td>0.558378</td>\n",
       "      <td>0.531443</td>\n",
       "      <td>0.716589</td>\n",
       "      <td>0.644322</td>\n",
       "      <td>02:04</td>\n",
       "    </tr>\n",
       "    <tr>\n",
       "      <td>2</td>\n",
       "      <td>0.546158</td>\n",
       "      <td>0.533766</td>\n",
       "      <td>0.711359</td>\n",
       "      <td>0.647134</td>\n",
       "      <td>02:08</td>\n",
       "    </tr>\n",
       "  </tbody>\n",
       "</table>"
      ],
      "text/plain": [
       "<IPython.core.display.HTML object>"
      ]
     },
     "metadata": {},
     "output_type": "display_data"
    }
   ],
   "source": [
    "learn.fit_one_cycle(3, max_lr=1e-4)"
   ]
  },
  {
   "cell_type": "code",
   "execution_count": 23,
   "metadata": {},
   "outputs": [
    {
     "data": {
      "text/html": [
       "<table border=\"1\" class=\"dataframe\">\n",
       "  <thead>\n",
       "    <tr style=\"text-align: left;\">\n",
       "      <th>epoch</th>\n",
       "      <th>train_loss</th>\n",
       "      <th>valid_loss</th>\n",
       "      <th>accuracy</th>\n",
       "      <th>f1</th>\n",
       "      <th>time</th>\n",
       "    </tr>\n",
       "  </thead>\n",
       "  <tbody>\n",
       "    <tr>\n",
       "      <td>0</td>\n",
       "      <td>0.623666</td>\n",
       "      <td>0.601639</td>\n",
       "      <td>0.715112</td>\n",
       "      <td>0.700390</td>\n",
       "      <td>02:05</td>\n",
       "    </tr>\n",
       "    <tr>\n",
       "      <td>1</td>\n",
       "      <td>0.617839</td>\n",
       "      <td>0.603647</td>\n",
       "      <td>0.710928</td>\n",
       "      <td>0.689876</td>\n",
       "      <td>02:07</td>\n",
       "    </tr>\n",
       "  </tbody>\n",
       "</table>"
      ],
      "text/plain": [
       "<IPython.core.display.HTML object>"
      ]
     },
     "metadata": {},
     "output_type": "display_data"
    }
   ],
   "source": [
    "\n",
    "class CombinedLoss(nn.Module):\n",
    "\n",
    "    def __init__(self):\n",
    "        super(CombinedLoss, self).__init__()\n",
    "\n",
    "    def forward(self, input, target):\n",
    "        y = to_onehot(target, input.size(-1))\n",
    "        logit = F.softmax(input)\n",
    "                     \n",
    "        focal_loss = FocalLossMultiClass(gamma=2.)\n",
    "        bce_dice = BCEDiceLoss()\n",
    "        lovaz_loss = LovaszLossBinary()\n",
    "        dice_loss = DiceLoss(activation='Softmax')\n",
    "        \n",
    "        total_loss = 0.1 * focal_loss(logit, target) + 0.9 * dice_loss(logit, y)\n",
    "        return total_loss\n",
    "    \n",
    "learn.loss_func =CombinedLoss();\n",
    "learn.to_fp16();\n",
    "learn.fit_one_cycle(2, max_lr=1e-3)"
   ]
  },
  {
   "cell_type": "code",
   "execution_count": 28,
   "metadata": {},
   "outputs": [
    {
     "data": {
      "text/html": [
       "<table border=\"1\" class=\"dataframe\">\n",
       "  <thead>\n",
       "    <tr style=\"text-align: left;\">\n",
       "      <th>epoch</th>\n",
       "      <th>train_loss</th>\n",
       "      <th>valid_loss</th>\n",
       "      <th>accuracy</th>\n",
       "      <th>f1</th>\n",
       "      <th>time</th>\n",
       "    </tr>\n",
       "  </thead>\n",
       "  <tbody>\n",
       "    <tr>\n",
       "      <td>0</td>\n",
       "      <td>0.657684</td>\n",
       "      <td>0.646456</td>\n",
       "      <td>0.689577</td>\n",
       "      <td>0.683151</td>\n",
       "      <td>01:58</td>\n",
       "    </tr>\n",
       "    <tr>\n",
       "      <td>1</td>\n",
       "      <td>0.653925</td>\n",
       "      <td>0.641372</td>\n",
       "      <td>0.709267</td>\n",
       "      <td>0.694585</td>\n",
       "      <td>01:58</td>\n",
       "    </tr>\n",
       "  </tbody>\n",
       "</table>"
      ],
      "text/plain": [
       "<IPython.core.display.HTML object>"
      ]
     },
     "metadata": {},
     "output_type": "display_data"
    }
   ],
   "source": [
    "class CombinedLoss(nn.Module):\n",
    "\n",
    "    def __init__(self):\n",
    "        super(CombinedLoss, self).__init__()\n",
    "\n",
    "    def forward(self, input, target):\n",
    "        y = to_onehot(target, input.size(-1))\n",
    "        logit = F.softmax(input)\n",
    "                     \n",
    "        focal_loss = FocalLossMultiClass(gamma=2.)\n",
    "        bce_dice = BCEDiceLoss(activation='Softmax')\n",
    "        lovaz_loss = LovaszLossMultiClass()\n",
    "        dice_loss = DiceLoss(activation='Softmax')\n",
    "        \n",
    "#         total_loss = 0.1 * focal_loss(logit, target) + 0.9 * dice_loss(logit, y)\n",
    "        return bce_dice(logit, y)\n",
    "learn.loss_func =CombinedLoss();\n",
    "learn.to_fp16();\n",
    "learn.fit_one_cycle(2, max_lr=1e-3)"
   ]
  },
  {
   "cell_type": "code",
   "execution_count": 29,
   "metadata": {},
   "outputs": [
    {
     "data": {
      "text/html": [
       "<table border=\"1\" class=\"dataframe\">\n",
       "  <thead>\n",
       "    <tr style=\"text-align: left;\">\n",
       "      <th>epoch</th>\n",
       "      <th>train_loss</th>\n",
       "      <th>valid_loss</th>\n",
       "      <th>accuracy</th>\n",
       "      <th>f1</th>\n",
       "      <th>time</th>\n",
       "    </tr>\n",
       "  </thead>\n",
       "  <tbody>\n",
       "    <tr>\n",
       "      <td>0</td>\n",
       "      <td>0.656582</td>\n",
       "      <td>0.641241</td>\n",
       "      <td>0.710805</td>\n",
       "      <td>0.689855</td>\n",
       "      <td>02:07</td>\n",
       "    </tr>\n",
       "    <tr>\n",
       "      <td>1</td>\n",
       "      <td>0.648313</td>\n",
       "      <td>0.635035</td>\n",
       "      <td>0.733141</td>\n",
       "      <td>0.706821</td>\n",
       "      <td>02:06</td>\n",
       "    </tr>\n",
       "  </tbody>\n",
       "</table>"
      ],
      "text/plain": [
       "<IPython.core.display.HTML object>"
      ]
     },
     "metadata": {},
     "output_type": "display_data"
    }
   ],
   "source": [
    "class CombinedLoss(nn.Module):\n",
    "\n",
    "    def __init__(self):\n",
    "        super(CombinedLoss, self).__init__()\n",
    "\n",
    "    def forward(self, input, target):\n",
    "        y = to_onehot(target, input.size(-1))\n",
    "        logit = F.softmax(input)\n",
    "                     \n",
    "        focal_loss = FocalLossMultiClass(gamma=2.)\n",
    "        bce_dice = BCEDiceLoss(activation='Softmax')\n",
    "        lovaz_loss = LovaszLossMultiClass()\n",
    "        dice_loss = DiceLoss(activation='Softmax')\n",
    "        \n",
    "        total_loss = 0.5 * focal_loss(logit, target) + 0.5 * bce_dice(logit, y)\n",
    "        return bce_dice(logit, y)\n",
    "learn.loss_func =CombinedLoss();\n",
    "learn.to_fp16();\n",
    "learn.fit_one_cycle(2, max_lr=1e-3)"
   ]
  },
  {
   "cell_type": "code",
   "execution_count": null,
   "metadata": {},
   "outputs": [],
   "source": []
  }
 ],
 "metadata": {
  "kernelspec": {
   "display_name": "Python (catalyst)",
   "language": "python",
   "name": "catalyst-dl"
  },
  "language_info": {
   "codemirror_mode": {
    "name": "ipython",
    "version": 3
   },
   "file_extension": ".py",
   "mimetype": "text/x-python",
   "name": "python",
   "nbconvert_exporter": "python",
   "pygments_lexer": "ipython3",
   "version": "3.7.4"
  }
 },
 "nbformat": 4,
 "nbformat_minor": 2
}
