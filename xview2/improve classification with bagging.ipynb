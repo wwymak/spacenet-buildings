{
 "cells": [
  {
   "cell_type": "code",
   "execution_count": 2,
   "metadata": {},
   "outputs": [
    {
     "name": "stdout",
     "output_type": "stream",
     "text": [
      "env: PROJ_LIB=/home/wwymak/anaconda3/envs/solaris/share/proj\n"
     ]
    }
   ],
   "source": [
    "import warnings\n",
    "warnings.filterwarnings(\"ignore\")\n",
    "from shapely import wkt\n",
    "import glob\n",
    "\n",
    "\n",
    "%load_ext autoreload\n",
    "%autoreload 2\n",
    "%env PROJ_LIB=/home/wwymak/anaconda3/envs/solaris/share/proj\n",
    "%matplotlib inline\n",
    "\n",
    "import skimage\n",
    "\n",
    "from tqdm import tqdm\n",
    "import numpy as np\n",
    "import cv2\n",
    "from functools import partial\n",
    "\n",
    "from fastai.imports import *\n",
    "from fastai.vision import *\n",
    "from fastai.metrics import dice\n",
    "from fastai.callbacks import *\n",
    "\n",
    "from joblib import Parallel, delayed\n",
    "import torch.nn.functional as F\n",
    "import torch\n",
    "import functools, traceback\n",
    "def gpu_mem_restore(func):\n",
    "    \"\"\"Reclaim GPU RAM if CUDA out of memory happened, or execution was interrupted\"\"\"\n",
    "    @functools.wraps(func)\n",
    "    def wrapper(*args, **kwargs):\n",
    "        try:\n",
    "            return func(*args, **kwargs)\n",
    "        except:\n",
    "            type, val, tb = sys.exc_info()\n",
    "            traceback.clear_frames(tb)\n",
    "            raise type(val).with_traceback(tb) from None\n",
    "    return wrapper\n",
    "\n",
    "os.environ['FASTAI_TB_CLEAR_FRAMES']=\"1\"\n",
    "\n",
    "from catalyst.contrib.criterion import FocalLossMultiClass, DiceLoss, BCEDiceLoss, LovaszLossBinary,LovaszLossMultiClass\n",
    "\n",
    "from importlib import reload"
   ]
  },
  {
   "cell_type": "code",
   "execution_count": 3,
   "metadata": {},
   "outputs": [],
   "source": [
    "data_dir = Path(\"/media/wwymak/Storage/xView2\")\n",
    "mask_dir = data_dir /\"mask_full_size\"\n",
    "models_path = data_dir / \"models\"\n",
    "train_images_crops = data_dir/\"train_crops\"\n",
    "mask_dir_edt = data_dir /\"mask_full_size_edt\"\n",
    "train_mask_crops = data_dir/\"mask_crops_single_channel\"\n",
    "label_dir = data_dir/\"train\"/\"labels\"\n",
    "mask_crops_edt = data_dir/\"mask_crops_edt\""
   ]
  },
  {
   "cell_type": "code",
   "execution_count": 39,
   "metadata": {},
   "outputs": [
    {
     "data": {
      "text/plain": [
       "PosixPath('/media/wwymak/Storage/xView2/mask_full_size_edt/midwest-flooding_00000319_pre_disaster.png')"
      ]
     },
     "execution_count": 39,
     "metadata": {},
     "output_type": "execute_result"
    }
   ],
   "source": [
    "mask_dir_edt.ls()[0]"
   ]
  },
  {
   "cell_type": "code",
   "execution_count": 63,
   "metadata": {},
   "outputs": [
    {
     "data": {
      "text/plain": [
       "2799"
      ]
     },
     "execution_count": 63,
     "metadata": {},
     "output_type": "execute_result"
    }
   ],
   "source": [
    "images = [data_dir / \"train\" / \"images\"/x for x in os.listdir(data_dir / \"train\" / \"images\") if 'post_disaster' in x]\n",
    "labels = [data_dir / \"train\" / \"labels\"/(x.name.replace('png', 'json')) for x in images]\n",
    "masks_fnames = [mask_dir_edt/(x.name) for x in images]\n",
    "len(images)"
   ]
  },
  {
   "cell_type": "code",
   "execution_count": 8,
   "metadata": {},
   "outputs": [],
   "source": [
    "import geopandas as gpd\n",
    "def parse_label_json(label_json):\n",
    "    \n",
    "    df_xy = pd.DataFrame([{'id': x['properties']['uid'], 'feature': x['properties']['feature_type'],\n",
    "                           'damage': x['properties'].get('subtype', 'no-damage'),\n",
    "                           'geometry_pixel': x['wkt']} for x in label_json['features']['xy']])\n",
    "    df_lnglat = pd.DataFrame(\n",
    "        [{'id': x['properties']['uid'], 'geometry_lnglat': x['wkt'], } for x in label_json['features']['lng_lat']])\n",
    "    if len(df_xy) == 0:\n",
    "        return\n",
    "    df_xy.set_index('id', inplace=True)\n",
    "\n",
    "    df_xy['damage_cls'] = df_xy['damage'].map({\n",
    "        'no-damage': 1, 'minor-damage': 2, 'major-damage': 3, 'destroyed': 4, 'un-classified': 5\n",
    "    })\n",
    "    df_xy.geometry_pixel = df_xy.geometry_pixel.apply(wkt.loads)\n",
    "    df_lnglat.set_index('id', inplace=True)\n",
    "    label_df = df_xy.merge(df_lnglat['geometry_lnglat'], left_index=True, right_index=True)\n",
    "    label_gdf = gpd.GeoDataFrame(label_df, geometry='geometry_pixel')\n",
    "    label_gdf['centroid'] = label_gdf.geometry_pixel.centroid\n",
    "    return label_gdf"
   ]
  },
  {
   "cell_type": "code",
   "execution_count": 10,
   "metadata": {},
   "outputs": [
    {
     "data": {
      "text/plain": [
       "feature                                                     building\n",
       "damage                                                     no-damage\n",
       "geometry_pixel     POLYGON ((1005.249981247345 934.6299999080635,...\n",
       "damage_cls                                                         1\n",
       "geometry_lnglat    POLYGON ((119.8772266625271 -0.795167260292315...\n",
       "centroid                   POINT (996.59771479529 948.3746730924687)\n",
       "Name: 93d0ff06-ab71-45d9-9ace-6f7d86d5d5d8, dtype: object"
      ]
     },
     "execution_count": 10,
     "metadata": {},
     "output_type": "execute_result"
    }
   ],
   "source": [
    "label_file = labels[0]\n",
    "with open(label_file, 'r') as f:\n",
    "    label = json.load(f)\n",
    "label_gdf = parse_label_json(label)\n",
    "label_gdf.iloc[0]"
   ]
  },
  {
   "cell_type": "code",
   "execution_count": 37,
   "metadata": {},
   "outputs": [],
   "source": [
    "def process_img(img_array, polygon_pts, scale_pct):\n",
    "    \"\"\"Process Raw Data into\n",
    "            Args:\n",
    "                img_array (numpy array): numpy representation of image.\n",
    "                polygon_pts (array): corners of the building polygon.\n",
    "            Returns:\n",
    "                numpy array: .\n",
    "    \"\"\"\n",
    "\n",
    "    height, width, _ = img_array.shape\n",
    "\n",
    "    xcoords = polygon_pts[:, 0]\n",
    "    ycoords = polygon_pts[:, 1]\n",
    "    xmin, xmax = np.min(xcoords), np.max(xcoords)\n",
    "    ymin, ymax = np.min(ycoords), np.max(ycoords)\n",
    "\n",
    "    xdiff = xmax - xmin\n",
    "    ydiff = ymax - ymin\n",
    "\n",
    "    # Extend image by scale percentage\n",
    "    xmin = max(int(xmin - (xdiff * scale_pct)), 0)\n",
    "    xmax = min(int(xmax + (xdiff * scale_pct)), width)\n",
    "    ymin = max(int(ymin - (ydiff * scale_pct)), 0)\n",
    "    ymax = min(int(ymax + (ydiff * scale_pct)), height)\n",
    "\n",
    "    return img_array[ymin:ymax, xmin:xmax, :]"
   ]
  },
  {
   "cell_type": "code",
   "execution_count": 55,
   "metadata": {},
   "outputs": [
    {
     "data": {
      "text/plain": [
       "<matplotlib.image.AxesImage at 0x7f66e5d75a90>"
      ]
     },
     "execution_count": 55,
     "metadata": {},
     "output_type": "execute_result"
    },
    {
     "data": {
      "image/png": "[encoded data removed]",
      "text/plain": [
       "<Figure size 432x288 with 1 Axes>"
      ]
     },
     "metadata": {
      "needs_background": "light"
     },
     "output_type": "display_data"
    }
   ],
   "source": [
    "plt.imshow(process_img(np.array(PIL.Image.open(images[0])), coords, 0.1))"
   ]
  },
  {
   "cell_type": "code",
   "execution_count": 54,
   "metadata": {},
   "outputs": [
    {
     "data": {
      "text/plain": [
       "<matplotlib.image.AxesImage at 0x7f66e5d48e10>"
      ]
     },
     "execution_count": 54,
     "metadata": {},
     "output_type": "execute_result"
    },
    {
     "data": {
      "image/png": "[encoded data removed]",
      "text/plain": [
       "<Figure size 432x288 with 1 Axes>"
      ]
     },
     "metadata": {
      "needs_background": "light"
     },
     "output_type": "display_data"
    }
   ],
   "source": [
    "plt.imshow(process_img(np.array(PIL.Image.open('/media/wwymak/Storage/xView2/mask_full_size_single_channel/palu-tsunami_00000024_pre_disaster.png'))[..., None], coords,0.1).squeeze())"
   ]
  },
  {
   "cell_type": "code",
   "execution_count": 16,
   "metadata": {},
   "outputs": [
    {
     "data": {
      "text/plain": [
       "array([[1009.029981,  960.18    ],\n",
       "       [1007.589235,  933.870432],\n",
       "       [ 982.611791,  935.238229],\n",
       "       [ 984.052537,  961.547797]])"
      ]
     },
     "execution_count": 16,
     "metadata": {},
     "output_type": "execute_result"
    }
   ],
   "source": [
    "minimum_bounding_rectangle(coords)"
   ]
  },
  {
   "cell_type": "code",
   "execution_count": null,
   "metadata": {},
   "outputs": [],
   "source": []
  }
 ],
 "metadata": {
  "kernelspec": {
   "display_name": "fastai-solaris",
   "language": "python",
   "name": "fastai-solaris"
  },
  "language_info": {
   "codemirror_mode": {
    "name": "ipython",
    "version": 3
   },
   "file_extension": ".py",
   "mimetype": "text/x-python",
   "name": "python",
   "nbconvert_exporter": "python",
   "pygments_lexer": "ipython3",
   "version": "3.7.3"
  }
 },
 "nbformat": 4,
 "nbformat_minor": 2
}
