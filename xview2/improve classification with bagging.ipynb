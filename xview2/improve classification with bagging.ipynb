{
 "cells": [
  {
   "cell_type": "code",
   "execution_count": 1,
   "metadata": {},
   "outputs": [
    {
     "name": "stdout",
     "output_type": "stream",
     "text": [
      "env: PROJ_LIB=/home/wwymak/anaconda3/envs/solaris/share/proj\n"
     ]
    }
   ],
   "source": [
    "import warnings\n",
    "warnings.filterwarnings(\"ignore\")\n",
    "from shapely import wkt\n",
    "import glob\n",
    "\n",
    "\n",
    "%load_ext autoreload\n",
    "%autoreload 2\n",
    "%env PROJ_LIB=/home/wwymak/anaconda3/envs/solaris/share/proj\n",
    "%matplotlib inline\n",
    "\n",
    "import skimage\n",
    "\n",
    "from tqdm import tqdm\n",
    "import numpy as np\n",
    "import cv2\n",
    "from functools import partial\n",
    "\n",
    "from fastai.imports import *\n",
    "from fastai.vision import *\n",
    "from fastai.metrics import dice\n",
    "from fastai.callbacks import *\n",
    "\n",
    "from joblib import Parallel, delayed\n",
    "import torch.nn.functional as F\n",
    "import torch\n",
    "import functools, traceback\n",
    "def gpu_mem_restore(func):\n",
    "    \"\"\"Reclaim GPU RAM if CUDA out of memory happened, or execution was interrupted\"\"\"\n",
    "    @functools.wraps(func)\n",
    "    def wrapper(*args, **kwargs):\n",
    "        try:\n",
    "            return func(*args, **kwargs)\n",
    "        except:\n",
    "            type, val, tb = sys.exc_info()\n",
    "            traceback.clear_frames(tb)\n",
    "            raise type(val).with_traceback(tb) from None\n",
    "    return wrapper\n",
    "\n",
    "os.environ['FASTAI_TB_CLEAR_FRAMES']=\"1\"\n",
    "\n",
    "from catalyst.contrib.criterion import FocalLossMultiClass, DiceLoss, BCEDiceLoss, LovaszLossBinary,LovaszLossMultiClass\n",
    "\n",
    "from importlib import reload"
   ]
  },
  {
   "cell_type": "code",
   "execution_count": 2,
   "metadata": {},
   "outputs": [],
   "source": [
    "data_dir = Path(\"/media/wwymak/Storage/xView2\")\n",
    "mask_dir = data_dir /\"mask_full_size\"\n",
    "models_path = data_dir / \"models\"\n",
    "train_images_crops = data_dir/\"train_crops\"\n",
    "mask_dir_edt = data_dir /\"mask_full_size_edt\"\n",
    "train_mask_crops = data_dir/\"mask_crops_single_channel\"\n",
    "label_dir = data_dir/\"train\"/\"labels\"\n",
    "mask_crops_edt = data_dir/\"mask_crops_edt\""
   ]
  },
  {
   "cell_type": "code",
   "execution_count": 3,
   "metadata": {},
   "outputs": [
    {
     "data": {
      "text/html": [
       "<div>\n",
       "<style scoped>\n",
       "    .dataframe tbody tr th:only-of-type {\n",
       "        vertical-align: middle;\n",
       "    }\n",
       "\n",
       "    .dataframe tbody tr th {\n",
       "        vertical-align: top;\n",
       "    }\n",
       "\n",
       "    .dataframe thead th {\n",
       "        text-align: right;\n",
       "    }\n",
       "</style>\n",
       "<table border=\"1\" class=\"dataframe\">\n",
       "  <thead>\n",
       "    <tr style=\"text-align: right;\">\n",
       "      <th></th>\n",
       "      <th>uuid</th>\n",
       "      <th>img_id</th>\n",
       "      <th>label</th>\n",
       "      <th>crop_filename</th>\n",
       "    </tr>\n",
       "  </thead>\n",
       "  <tbody>\n",
       "    <tr>\n",
       "      <th>0</th>\n",
       "      <td>c18d34cd-d48d-43ba-9d9c-011b6f9d5eb8</td>\n",
       "      <td>palu-tsunami_00000024_post_disaster.png</td>\n",
       "      <td>0</td>\n",
       "      <td>c18d34cd-d48d-43ba-9d9c-011b6f9d5eb8.png</td>\n",
       "    </tr>\n",
       "    <tr>\n",
       "      <th>1</th>\n",
       "      <td>4db83f7b-7c77-4cb4-8ea7-ad5a338a92b1</td>\n",
       "      <td>palu-tsunami_00000024_post_disaster.png</td>\n",
       "      <td>0</td>\n",
       "      <td>4db83f7b-7c77-4cb4-8ea7-ad5a338a92b1.png</td>\n",
       "    </tr>\n",
       "    <tr>\n",
       "      <th>2</th>\n",
       "      <td>fc34426b-db11-403d-bdcf-1527b7d2508a</td>\n",
       "      <td>palu-tsunami_00000024_post_disaster.png</td>\n",
       "      <td>0</td>\n",
       "      <td>fc34426b-db11-403d-bdcf-1527b7d2508a.png</td>\n",
       "    </tr>\n",
       "    <tr>\n",
       "      <th>3</th>\n",
       "      <td>052f9f14-e32e-484a-811d-cd0fac134493</td>\n",
       "      <td>palu-tsunami_00000024_post_disaster.png</td>\n",
       "      <td>0</td>\n",
       "      <td>052f9f14-e32e-484a-811d-cd0fac134493.png</td>\n",
       "    </tr>\n",
       "    <tr>\n",
       "      <th>4</th>\n",
       "      <td>577576f3-3bdc-41ec-a571-6f6cf843cf3b</td>\n",
       "      <td>palu-tsunami_00000024_post_disaster.png</td>\n",
       "      <td>0</td>\n",
       "      <td>577576f3-3bdc-41ec-a571-6f6cf843cf3b.png</td>\n",
       "    </tr>\n",
       "  </tbody>\n",
       "</table>\n",
       "</div>"
      ],
      "text/plain": [
       "                                   uuid  \\\n",
       "0  c18d34cd-d48d-43ba-9d9c-011b6f9d5eb8   \n",
       "1  4db83f7b-7c77-4cb4-8ea7-ad5a338a92b1   \n",
       "2  fc34426b-db11-403d-bdcf-1527b7d2508a   \n",
       "3  052f9f14-e32e-484a-811d-cd0fac134493   \n",
       "4  577576f3-3bdc-41ec-a571-6f6cf843cf3b   \n",
       "\n",
       "                                    img_id  label  \\\n",
       "0  palu-tsunami_00000024_post_disaster.png      0   \n",
       "1  palu-tsunami_00000024_post_disaster.png      0   \n",
       "2  palu-tsunami_00000024_post_disaster.png      0   \n",
       "3  palu-tsunami_00000024_post_disaster.png      0   \n",
       "4  palu-tsunami_00000024_post_disaster.png      0   \n",
       "\n",
       "                              crop_filename  \n",
       "0  c18d34cd-d48d-43ba-9d9c-011b6f9d5eb8.png  \n",
       "1  4db83f7b-7c77-4cb4-8ea7-ad5a338a92b1.png  \n",
       "2  fc34426b-db11-403d-bdcf-1527b7d2508a.png  \n",
       "3  052f9f14-e32e-484a-811d-cd0fac134493.png  \n",
       "4  577576f3-3bdc-41ec-a571-6f6cf843cf3b.png  "
      ]
     },
     "execution_count": 3,
     "metadata": {},
     "output_type": "execute_result"
    }
   ],
   "source": [
    "data_dir = Path(\"/media/wwymak/Storage/xView2\")\n",
    "models_path = data_dir / \"models\"\n",
    "classifcation_crop_dir = data_dir/\"classification_crops\"\n",
    "classification_labels = pd.read_csv(data_dir/\"train.csv\")\n",
    "\n",
    "damage_crops_test_folder = data_dir / \"classification_crops_test\"\n",
    "classification_labels.head()"
   ]
  },
  {
   "cell_type": "code",
   "execution_count": 4,
   "metadata": {},
   "outputs": [
    {
     "data": {
      "text/plain": [
       "0    120419\n",
       "1     14980\n",
       "2     14161\n",
       "3     13227\n",
       "Name: label, dtype: int64"
      ]
     },
     "execution_count": 4,
     "metadata": {},
     "output_type": "execute_result"
    }
   ],
   "source": [
    "classification_labels.label.value_counts()"
   ]
  },
  {
   "cell_type": "code",
   "execution_count": 6,
   "metadata": {},
   "outputs": [],
   "source": [
    "def is_valid_func(fname, valid_ids):\n",
    "    \n",
    "    img_id = Path(fname).name.replace('rgb_', '').split('.')[0]\n",
    "\n",
    "    return img_id in valid_ids\n",
    "\n",
    "def get_mask_fn(fname):\n",
    "    return train_mask_crops / fname.name.replace(\"rgb\", \"mask\")"
   ]
  },
  {
   "cell_type": "code",
   "execution_count": 5,
   "metadata": {},
   "outputs": [
    {
     "name": "stdout",
     "output_type": "stream",
     "text": [
      "2283 2283\n",
      "1826 457\n"
     ]
    }
   ],
   "source": [
    "unique_img_ids_undamaged= list(set([x.name.replace('mask_', '').split('.')[0] for x in train_mask_crops.ls() if 'pre' in x.name ]))\n",
    "unique_img_ids_damaged= list(set([x.name.replace('mask_', '').split('.')[0] for x in train_mask_crops.ls() if 'post' in x.name ]))\n",
    "\n",
    "print(len(unique_img_ids_damaged), len(unique_img_ids_undamaged))\n",
    "\n",
    "np.random.seed(42)\n",
    "np.random.shuffle(unique_img_ids_undamaged)\n",
    "train_ids_undamaged = unique_img_ids_undamaged[:int(0.8 * len(unique_img_ids_undamaged))]\n",
    "valid_ids_undamaged = unique_img_ids_undamaged[int(0.8 * len(unique_img_ids_undamaged)):]\n",
    "\n",
    "train_ids_damaged = [x.replace('pre', 'post') for x in train_ids_undamaged]\n",
    "valid_ids_damaged =[x.replace('pre', 'post') for x in valid_ids_undamaged]\n",
    "\n",
    "print(len(train_ids_damaged), len(valid_ids_damaged))"
   ]
  },
  {
   "cell_type": "code",
   "execution_count": null,
   "metadata": {
    "code_folding": []
   },
   "outputs": [],
   "source": [
    "datasets= []\n",
    "classification_labels_0 = classification_labels[classification_labels.label==0].sample(frac=1.)\n",
    "label_0_per_bag = 20000\n",
    "for i in range(0, len(classification_labels_0) , label_0_per_bag):\n",
    "    datasets.append(pd.concat([\n",
    "        classification_labels[(classification_labels.label!= 0)][i: i+label_0_per_bag],\n",
    "        classification_labels[(classification_labels.label==0)]\n",
    "    ]).reset_index(drop=True))\n"
   ]
  }
 ],
 "metadata": {
  "kernelspec": {
   "display_name": "fastai-solaris",
   "language": "python",
   "name": "fastai-solaris"
  },
  "language_info": {
   "codemirror_mode": {
    "name": "ipython",
    "version": 3
   },
   "file_extension": ".py",
   "mimetype": "text/x-python",
   "name": "python",
   "nbconvert_exporter": "python",
   "pygments_lexer": "ipython3",
   "version": "3.7.3"
  }
 },
 "nbformat": 4,
 "nbformat_minor": 2
}
