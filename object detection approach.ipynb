{
 "cells": [
  {
   "cell_type": "code",
   "execution_count": 1,
   "metadata": {},
   "outputs": [],
   "source": [
    "from fastai.imports import *\n",
    "from fastai.vision import *\n",
    "import tifffile as tiff\n",
    "from skimage.external import tifffile as sktif\n",
    "from joblib import Parallel, delayed\n",
    "import torch.functional as F\n",
    "\n",
    "import functools, traceback\n",
    "def gpu_mem_restore(func):\n",
    "    \"Reclaim GPU RAM if CUDA out of memory happened, or execution was interrupted\"\n",
    "    @functools.wraps(func)\n",
    "    def wrapper(*args, **kwargs):\n",
    "        try:\n",
    "            return func(*args, **kwargs)\n",
    "        except:\n",
    "            type, val, tb = sys.exc_info()\n",
    "            traceback.clear_frames(tb)\n",
    "            raise type(val).with_traceback(tb) from None\n",
    "    return wrapper\n",
    "\n",
    "os.environ['FASTAI_TB_CLEAR_FRAMES']=\"1\""
   ]
  },
  {
   "cell_type": "code",
   "execution_count": 2,
   "metadata": {},
   "outputs": [],
   "source": [
    "data_dir = Path(\"/media/wwymak/Storage/urban-3D-satellite\")\n",
    "train_dir = data_dir / \"training\"\n",
    "cropped_dir =  data_dir / \"cropped_training\"\n",
    "cropped_val_dir =  data_dir / \"cropped_validation\""
   ]
  },
  {
   "cell_type": "code",
   "execution_count": 10,
   "metadata": {},
   "outputs": [],
   "source": [
    "def get_img_id(fname):\n",
    "    fname = fname.replace('_RGB.tif', '')\n",
    "    img_id = \"_\".join(fname.split('_')[:-1])\n",
    "    return img_id\n",
    "\n",
    "train_img_ids = [get_img_id(f.name) for f in cropped_dir.ls() if f.name.endswith('RGB.tif')]\n",
    "val_img_ids = [get_img_id(f.name) for f in cropped_val_dir.ls() if f.name.endswith('RGB.tif')]"
   ]
  },
  {
   "cell_type": "code",
   "execution_count": 25,
   "metadata": {},
   "outputs": [],
   "source": [
    "labels_train_dir = data_dir / \"cropped_training_labels\"\n",
    "labels_train_dir.mkdir(exist_ok=True)\n",
    "\n",
    "labels_val_dir = data_dir / \"cropped_validation_labels\"\n",
    "labels_val_dir.mkdir(exist_ok=True)"
   ]
  },
  {
   "cell_type": "code",
   "execution_count": 70,
   "metadata": {},
   "outputs": [],
   "source": [
    "def parse_label(arr, label_val):\n",
    "    item = np.argwhere(arr==label_val)\n",
    "    x1, x2, y1, y2 = item[:,0].min(), item[:,0].max(), item[:,1].min(), item[:,1].max()\n",
    "    x = int(0.5 * (x1+ x2))\n",
    "    y = int(0.5 * (y1+y2) )\n",
    "    w = x2 -x1\n",
    "    h = y2-y1\n",
    "    return x, y, w, h\n",
    "def label_to_str(label_out_tuple):\n",
    "    return \" \".join(list(map(str, label_out_tuple)))\n",
    "\n",
    "def parse_img(img_fname, dataset_type=\"training\"):\n",
    "    label_img = sktif.imread(str(data_dir / f\"cropped_{dataset_type}\"/ img_fname))\n",
    "    label_filepath =data_dir / f\"cropped_{dataset_type}_labels/{img_fname.replace('.tif', '.txt')}\"\n",
    "    max_label = label_img.max()\n",
    "    \n",
    "    min_label = np.min(label_img[np.nonzero(label_img)]) if max_label > 0 else 0\n",
    "    valid_labels = [x for x in range(min_label, max_label + 1) if len(np.where(label_img == x)[0]) > 0]\n",
    "    \n",
    "    with open(label_filepath, 'w') as f:\n",
    "        [f.write(f\"{img_fname.replace('.tif','')} {label_to_str(parse_label(label_img, label_val))}\\n\") \\\n",
    "         for label_val in valid_labels]\n",
    "    \n",
    "    \n",
    "    "
   ]
  },
  {
   "cell_type": "code",
   "execution_count": 48,
   "metadata": {},
   "outputs": [],
   "source": [
    "cropped_train_fnamescropped_train_fnames =[f.name for f in ( data_dir / \"cropped_training\").ls() if f.name.endswith('GTI.tif')]\n",
    "cropped_val_fnames =[f.name for f in ( data_dir / \"cropped_validation\").ls() if f.name.endswith('GTI.tif')]"
   ]
  },
  {
   "cell_type": "code",
   "execution_count": 71,
   "metadata": {},
   "outputs": [
    {
     "name": "stdout",
     "output_type": "stream",
     "text": [
      "CPU times: user 18.1 s, sys: 114 ms, total: 18.2 s\n",
      "Wall time: 18.2 s\n"
     ]
    }
   ],
   "source": [
    "%time out=[parse_img(fname) for fname in cropped_train_fnames]"
   ]
  },
  {
   "cell_type": "code",
   "execution_count": 72,
   "metadata": {},
   "outputs": [
    {
     "name": "stdout",
     "output_type": "stream",
     "text": [
      "CPU times: user 3.77 s, sys: 35.4 ms, total: 3.8 s\n",
      "Wall time: 3.8 s\n"
     ]
    }
   ],
   "source": [
    "%time out=[parse_img(fname,  dataset_type=\"validation\") for fname in cropped_val_fnames]"
   ]
  },
  {
   "cell_type": "code",
   "execution_count": null,
   "metadata": {},
   "outputs": [],
   "source": []
  }
 ],
 "metadata": {
  "kernelspec": {
   "display_name": "Python (solaris)",
   "language": "python",
   "name": "solaris"
  },
  "language_info": {
   "codemirror_mode": {
    "name": "ipython",
    "version": 3
   },
   "file_extension": ".py",
   "mimetype": "text/x-python",
   "name": "python",
   "nbconvert_exporter": "python",
   "pygments_lexer": "ipython3",
   "version": "3.6.7"
  }
 },
 "nbformat": 4,
 "nbformat_minor": 2
}
